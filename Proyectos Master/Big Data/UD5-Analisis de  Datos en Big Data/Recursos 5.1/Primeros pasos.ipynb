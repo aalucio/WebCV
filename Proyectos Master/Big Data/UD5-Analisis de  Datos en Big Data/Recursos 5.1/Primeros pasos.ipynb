{
 "cells": [
  {
   "cell_type": "code",
   "execution_count": 4,
   "id": "d877a6ac-5ba9-4fca-99b2-2a6e66b1e777",
   "metadata": {},
   "outputs": [],
   "source": [
    "# Importar SparkContext y SparkConf\n",
    "from pyspark import SparkContext, SparkConf"
   ]
  },
  {
   "cell_type": "code",
   "execution_count": 7,
   "id": "b192257a-f78b-426e-a80e-8996aa006e3f",
   "metadata": {},
   "outputs": [
    {
     "name": "stderr",
     "output_type": "stream",
     "text": [
      "23/05/03 09:40:17 WARN NativeCodeLoader: Unable to load native-hadoop library for your platform... using builtin-java classes where applicable\n",
      "Using Spark's default log4j profile: org/apache/spark/log4j-defaults.properties\n",
      "Setting default log level to \"WARN\".\n",
      "To adjust logging level use sc.setLogLevel(newLevel). For SparkR, use setLogLevel(newLevel).\n"
     ]
    },
    {
     "data": {
      "text/html": [
       "\n",
       "        <div>\n",
       "            <p><b>SparkContext</b></p>\n",
       "\n",
       "            <p><a href=\"http://beb4ff95f8cb:4040\">Spark UI</a></p>\n",
       "\n",
       "            <dl>\n",
       "              <dt>Version</dt>\n",
       "                <dd><code>v3.1.2</code></dd>\n",
       "              <dt>Master</dt>\n",
       "                <dd><code>spark://spark-master:7077</code></dd>\n",
       "              <dt>AppName</dt>\n",
       "                <dd><code>Primeros-pasos</code></dd>\n",
       "            </dl>\n",
       "        </div>\n",
       "        "
      ],
      "text/plain": [
       "<SparkContext master=spark://spark-master:7077 appName=Primeros-pasos>"
      ]
     },
     "execution_count": 7,
     "metadata": {},
     "output_type": "execute_result"
    }
   ],
   "source": [
    "# Establecer las propiedades de Spark\n",
    "# - URL de conexión con el master\n",
    "# - Nombre de la aplicación y memoria asignada\n",
    "conf= SparkConf().setMaster(\"spark://spark-master:7077\").setAppName(\"Primeros-pasos\").set(\"spark.executor.memory\",\"512m\")\n",
    "\n",
    "# Iniciamos cluster Spark (puede tardar)\n",
    "# getOrCreate comprueba si existe l cluster y en caso negativo lo crea\n",
    "sc=SparkContext.getOrCreate(conf=conf)\n",
    "\n",
    "# Mostramos elcluster creado\n",
    "sc"
   ]
  },
  {
   "cell_type": "code",
   "execution_count": null,
   "id": "f69b1bf9-f31d-4bf1-b796-aad65ea3865d",
   "metadata": {},
   "outputs": [],
   "source": []
  }
 ],
 "metadata": {
  "kernelspec": {
   "display_name": "Python 3 (ipykernel)",
   "language": "python",
   "name": "python3"
  },
  "language_info": {
   "codemirror_mode": {
    "name": "ipython",
    "version": 3
   },
   "file_extension": ".py",
   "mimetype": "text/x-python",
   "name": "python",
   "nbconvert_exporter": "python",
   "pygments_lexer": "ipython3",
   "version": "3.9.2"
  }
 },
 "nbformat": 4,
 "nbformat_minor": 5
}
