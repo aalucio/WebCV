{
  "nbformat": 4,
  "nbformat_minor": 0,
  "metadata": {
    "colab": {
      "provenance": []
    },
    "kernelspec": {
      "name": "python3",
      "display_name": "Python 3"
    },
    "language_info": {
      "name": "python"
    }
  },
  "cells": [
    {
      "cell_type": "markdown",
      "metadata": {
        "id": "K135r9CHdKMO"
      },
      "source": [
        "# 1 - Análisis estadístico a dataset Airbnb"
      ]
    },
    {
      "cell_type": "markdown",
      "source": [
        "# Montar directorio de Google Drive"
      ],
      "metadata": {
        "id": "OWRB7Xk02Uby"
      }
    },
    {
      "cell_type": "code",
      "metadata": {
        "colab": {
          "base_uri": "https://localhost:8080/"
        },
        "id": "BPipnT3Uw1XB",
        "outputId": "882587c7-68ae-4a53-af62-123bb26b7aa7"
      },
      "source": [
        "## Solicitar acceso y montar en el sistema tu directorio de Google Drive\n",
        "# Esto permitirá la persistencia de datos entre distintas sesiones\n",
        "import os, sys\n",
        "from google.colab import drive\n",
        "drive.mount('/content/drive')\n",
        "\n",
        "# Creamos un directorio para este cuaderno y lo asociamos\n",
        "drive_path = '/content/drive/MyDrive/Colab Notebooks/iabd-sbd'\n",
        "nb_path = '/content/iabd-sbd'\n",
        "\n",
        "if not os.path.exists(drive_path):\n",
        "    os.makedirs(drive_path)\n",
        "os.symlink(drive_path, nb_path)\n",
        "sys.path.insert(0,nb_path)\n",
        "\n",
        "%cd $nb_path"
      ],
      "execution_count": null,
      "outputs": [
        {
          "output_type": "stream",
          "name": "stdout",
          "text": [
            "Mounted at /content/drive\n",
            "/content/drive/MyDrive/Colab Notebooks/iabd-sbd\n"
          ]
        }
      ]
    },
    {
      "cell_type": "markdown",
      "metadata": {
        "id": "8YyotQkKgM3q"
      },
      "source": [
        "# Instalación de spark en Google Colab"
      ]
    },
    {
      "cell_type": "code",
      "metadata": {
        "id": "3pAU46QdfELH"
      },
      "source": [
        "# Spark está escrito en el lenguaje de programación Scala, por lo que requiere\n",
        "# de una máquina virtual de Java (JVM) para funcionar. Por lo tanto, lo primero\n",
        "# es instalar java:\n",
        "!apt-get install openjdk-8-jdk-headless -qq > /dev/null"
      ],
      "execution_count": null,
      "outputs": []
    },
    {
      "cell_type": "code",
      "metadata": {
        "colab": {
          "base_uri": "https://localhost:8080/"
        },
        "id": "-4HNGt9U0JDO",
        "outputId": "4e3157a1-5e55-43d4-82f5-8723a02ee01a"
      },
      "source": [
        "## Instalación de Apache Spark en Google Colab (Ejecutar solo si no se ha realizado nunca)\n",
        "# Nota: Puede tardar unos minutos (se paciente)\n",
        "# El siguiente paso es elegir una versión reciente de spark\n",
        "# En este notebook, se usará spark versión 3.1.2, la cual puede descargarse en:\n",
        "spark_file = 'spark-3.3.2-bin-hadoop3.tgz'\n",
        "spark_url = 'https://archive.apache.org/dist/spark/spark-3.3.2/' + spark_file\n",
        "\n",
        "# A continuación, descargamos la versión elegida de spark:\n",
        "import os # Libreria de manejo del sistema operativo\n",
        "os.system(\"wget -q {spark_url} -P \" + nb_path) # Realizamos la descarga\n",
        "os.system(\"tar xf \" + nb_path + \"/\" + spark_file) # Descomprimimos el fichero .tgz\n",
        "\n",
        "# Realizamos la instalación de pyspark utilizando la herramienta pip\n",
        "!pip install --target=$nb_path -q pyspark\n",
        "!pip install -q findspark"
      ],
      "execution_count": null,
      "outputs": [
        {
          "output_type": "stream",
          "name": "stdout",
          "text": [
            "\u001b[2K     \u001b[90m━━━━━━━━━━━━━━━━━━━━━━━━━━━━━━━━━━━━━━━\u001b[0m \u001b[32m310.8/310.8 MB\u001b[0m \u001b[31m4.7 MB/s\u001b[0m eta \u001b[36m0:00:00\u001b[0m\n",
            "\u001b[?25h  Preparing metadata (setup.py) ... \u001b[?25l\u001b[?25hdone\n",
            "\u001b[2K     \u001b[90m━━━━━━━━━━━━━━━━━━━━━━━━━━━━━━━━━━━━━━\u001b[0m \u001b[32m200.5/200.5 kB\u001b[0m \u001b[31m17.2 MB/s\u001b[0m eta \u001b[36m0:00:00\u001b[0m\n",
            "\u001b[?25h  Building wheel for pyspark (setup.py) ... \u001b[?25l\u001b[?25hdone\n",
            "\u001b[33mWARNING: Target directory /content/iabd-sbd/py4j-0.10.9.7.dist-info already exists. Specify --upgrade to force replacement.\u001b[0m\u001b[33m\n",
            "\u001b[0m\u001b[33mWARNING: Target directory /content/iabd-sbd/pyspark already exists. Specify --upgrade to force replacement.\u001b[0m\u001b[33m\n",
            "\u001b[0m\u001b[33mWARNING: Target directory /content/iabd-sbd/pyspark-3.4.0.dist-info already exists. Specify --upgrade to force replacement.\u001b[0m\u001b[33m\n",
            "\u001b[0m\u001b[33mWARNING: Target directory /content/iabd-sbd/py4j already exists. Specify --upgrade to force replacement.\u001b[0m\u001b[33m\n",
            "\u001b[0m\u001b[33mWARNING: Target directory /content/iabd-sbd/bin already exists. Specify --upgrade to force replacement.\u001b[0m\u001b[33m\n",
            "\u001b[0m\u001b[33mWARNING: Target directory /content/iabd-sbd/share already exists. Specify --upgrade to force replacement.\u001b[0m\u001b[33m\n",
            "\u001b[0m"
          ]
        }
      ]
    },
    {
      "cell_type": "code",
      "metadata": {
        "id": "HW4HrfDG-4k8"
      },
      "source": [
        "# Damos permisos de ejecución\n",
        "!chmod -R +x ./pyspark/\n",
        "\n",
        "# Finalmente, es necesario definir algunas variables de entorno en el sistema\n",
        "# operativo para poder usar spark correctamente:\n",
        "os.environ[\"JAVA_HOME\"] = \"/usr/lib/jvm/java-8-openjdk-amd64\"\n",
        "os.environ[\"SPARK_HOME\"] = nb_path + \"/pyspark\""
      ],
      "execution_count": null,
      "outputs": []
    },
    {
      "cell_type": "markdown",
      "metadata": {
        "id": "gz4dKOhgr6Za"
      },
      "source": [
        "# Descargar el dataset\n",
        "(si no se ha realizado antes)\n",
        "\n",
        "### Dataset: Madrid Airbnb\n",
        "https://www.kaggle.com/rusiano/madrid-airbnb-data/\n",
        "\n",
        "###Descripción:\n",
        "Los archivos se han descargado de insideairbnb.com y ofrecen una instantánea de la situación de Madrid el 13 de abril de 2021.\n",
        "\n",
        "El archivo 'listings' contiene todos los anuncios en Madrid el 13 de abril de 2021 (~19k). El archivo 'listings_details' contiene variables adicionales. El calendario ('calendar') tiene 365 registros para cada anuncio y especifica si el anuncio está disponible en un día concreto y el precio en ese día. Además, hay un archivo de reseñas ('reviews'), y también he incluido un .geojson con información geográfica de los barrios de Madrid."
      ]
    },
    {
      "cell_type": "code",
      "metadata": {
        "colab": {
          "base_uri": "https://localhost:8080/"
        },
        "id": "1Q0zo23wup_F",
        "outputId": "2174b4cd-ef7a-433c-b55b-31207264c65f"
      },
      "source": [
        "# Descargar el dataset que se utilizará utiliznado un enlace compartido de google drive\n",
        "# Si la URL es https://drive.google.com/uc?id=IDFICHEROCOMPARTIDO se debe utilizar:\n",
        "# !gdown --id IDFICHEROCOMPARTIDO\n",
        "!gdown --id 1WAfS7AnQjLjocyUDnsN7q26Dzi9nQSKK\n",
        "\n",
        "# El fichero puede descargarse manualmente en https://drive.google.com/uc?id=1WAfS7AnQjLjocyUDnsN7q26Dzi9nQSKK\n",
        "# Nota: En el dataset original de airbnb se utiliza ',' como separador entre\n",
        "# campos del CSV, sin embargo, en el dataset proporcionado, se ha decidido\n",
        "# modificar este caracter por tabulaciones '\\t', para evitar problemas a la hora\n",
        "# de su lectura por Spark."
      ],
      "execution_count": null,
      "outputs": [
        {
          "output_type": "stream",
          "name": "stdout",
          "text": [
            "/usr/local/lib/python3.10/dist-packages/gdown/cli.py:121: FutureWarning: Option `--id` was deprecated in version 4.3.1 and will be removed in 5.0. You don't need to pass it anymore to use a file ID.\n",
            "  warnings.warn(\n",
            "Downloading...\n",
            "From: https://drive.google.com/uc?id=1WAfS7AnQjLjocyUDnsN7q26Dzi9nQSKK\n",
            "To: /content/drive/MyDrive/Colab Notebooks/iabd-sbd/listings.csv\n",
            "100% 2.90M/2.90M [00:00<00:00, 157MB/s]\n"
          ]
        }
      ]
    },
    {
      "cell_type": "code",
      "metadata": {
        "colab": {
          "base_uri": "https://localhost:8080/"
        },
        "id": "AAUdYEBD8ddQ",
        "outputId": "ef95393a-f340-4675-d737-6eb3c6811682"
      },
      "source": [
        "# Comprobar archivos descargados\n",
        "!ls -la"
      ],
      "execution_count": null,
      "outputs": [
        {
          "output_type": "stream",
          "name": "stdout",
          "text": [
            "total 2859\n",
            "drwx------  2 root root    4096 May  9 17:55 bin\n",
            "-rw-------  1 root root 2902908 May 10 18:23 listings.csv\n",
            "drwx------  2 root root    4096 May  9 17:55 py4j\n",
            "drwx------  2 root root    4096 May  9 17:55 py4j-0.10.9.7.dist-info\n",
            "drwx------ 18 root root    4096 May  9 17:55 pyspark\n",
            "drwx------  2 root root    4096 May  9 17:55 pyspark-3.4.0.dist-info\n",
            "drwx------  2 root root    4096 May  9 17:55 share\n"
          ]
        }
      ]
    },
    {
      "cell_type": "markdown",
      "metadata": {
        "id": "QOgqoZ0Ag4b-"
      },
      "source": [
        "# Trabajando con datasets en Spark"
      ]
    },
    {
      "cell_type": "code",
      "metadata": {
        "id": "VxXY439Og9ux"
      },
      "source": [
        "# Importar pyspark.sql\n",
        "from pyspark.sql import*\n",
        "\n",
        "# Importar SparkContext and SparkConf\n",
        "from pyspark import SparkContext, SparkConf"
      ],
      "execution_count": null,
      "outputs": []
    },
    {
      "cell_type": "markdown",
      "metadata": {
        "id": "HIzY6j4cUZSv"
      },
      "source": [
        "El primer paso será configurar una nueva sesión de Spark. Para configurar los parámetros de la sesión Spark utiliza pares clave-valor.\n",
        "\n",
        "Primero, creamos un objeto SparkConf, el cual nos permitirá definir las propiadades de la sesión. Estas propiades contienen información sobre la aplicación que se desea crear. Se puede encadenar la definición de varias propiedades para reducir de esta manera el número de líneas y de código necesario. En este caso, hemos definido dos propiedades: la URL de conexión y el nombre de la aplicación.\n",
        "\n",
        "Mediante setMaster() especificamos la URL en la que usaremos Spark, en este caso lo usaremos en local. Mediante setAppName especificamos un nombre para la aplicación.\n",
        "\n",
        "Una vez se ha definido la configuración de Spark se debe crear un SparkContext, el cual indicara a Spark como acceder al cluster. Pedemos crear un nuevo objeto SparkContext o utilizar la función getOrCreate para comprobar primero si ya existe este cluster y en el caso contrario crear uno nuevo."
      ]
    },
    {
      "cell_type": "code",
      "metadata": {
        "id": "uJjsvMIzwylH",
        "colab": {
          "base_uri": "https://localhost:8080/",
          "height": 197
        },
        "outputId": "74dd909f-d7c9-4438-8a58-959e74099813"
      },
      "source": [
        "# Establecer las propiedades de Spark:\n",
        "# - URL de conexión\n",
        "# - Nombre de la aplicación\n",
        "conf = SparkConf().setMaster(\"local\").setAppName(\"1-Analisis_Estadistico_Airbnb\")\n",
        "\n",
        "# Iniciar un cluster de Spark (puede tardar unos minutos)\n",
        "# Comprobar si ya existe este cluster y en el caso contrario crear uno nuevo\n",
        "sc = SparkContext.getOrCreate(conf=conf)\n",
        "\n",
        "# Mostramos el cluster creado\n",
        "sc"
      ],
      "execution_count": null,
      "outputs": [
        {
          "output_type": "execute_result",
          "data": {
            "text/plain": [
              "<SparkContext master=local appName=1-Analisis_Estadistico_Airbnb>"
            ],
            "text/html": [
              "\n",
              "        <div>\n",
              "            <p><b>SparkContext</b></p>\n",
              "\n",
              "            <p><a href=\"http://5a8b6b52f303:4040\">Spark UI</a></p>\n",
              "\n",
              "            <dl>\n",
              "              <dt>Version</dt>\n",
              "                <dd><code>v3.4.0</code></dd>\n",
              "              <dt>Master</dt>\n",
              "                <dd><code>local</code></dd>\n",
              "              <dt>AppName</dt>\n",
              "                <dd><code>1-Analisis_Estadistico_Airbnb</code></dd>\n",
              "            </dl>\n",
              "        </div>\n",
              "        "
            ]
          },
          "metadata": {},
          "execution_count": 9
        }
      ]
    },
    {
      "cell_type": "markdown",
      "metadata": {
        "id": "wKBP_VFabq18"
      },
      "source": [
        "Una de las funcionalidades clave de Spark es su capacidad de ejecutar consultas SQL utilizando sentencias básicas SQL o HiveQL. Cuando se ejecuta una sentencia SQL en Spark, obtenemos como resultado un dataframe. Un dataframe es una coleción de datos distribuida que se organiza en columnas. Este es un concepto equivalente al concepto de tabla en una base de datos relacional, o al concepto de dataframe del paquete pandas en Python. Pese al parecido de estos dataframes con los dataframes del paquete pandas, Spark implementa un gran número de optimizaciones que permiten que sean adecuados para grandes datasets. Podemos crear un dataframe a partir de varias fuentes de datos como ficheros de datos, tablas en Hive, bases de datos externas, u otras estructuras de Spark como RDDs.\n",
        "\n",
        "Para poder definir un dataframe o ejecutar cualquier consulta SQL en Spark, primero tenemos que crear un objeto SQLContext a partir del cluster de Spark creado anteriormente."
      ]
    },
    {
      "cell_type": "code",
      "metadata": {
        "id": "Y9bvBlLA72-B",
        "colab": {
          "base_uri": "https://localhost:8080/"
        },
        "outputId": "01d5f284-7228-45c7-a1ef-331b3aa919f5"
      },
      "source": [
        "# Inicializar SQLContext a partir del cluster Spark creado anteriormente\n",
        "sqlContext = SQLContext(sc)"
      ],
      "execution_count": null,
      "outputs": [
        {
          "output_type": "stream",
          "name": "stderr",
          "text": [
            "/content/iabd-sbd/pyspark/sql/context.py:112: FutureWarning: Deprecated in 3.0.0. Use SparkSession.builder.getOrCreate() instead.\n",
            "  warnings.warn(\n"
          ]
        }
      ]
    },
    {
      "cell_type": "code",
      "metadata": {
        "id": "Ee-PvF9GWZ0f",
        "colab": {
          "base_uri": "https://localhost:8080/"
        },
        "outputId": "4ff8cf74-d48c-4cb2-a590-31f0aa95ab6b"
      },
      "source": [
        "# Creamos un dataframe a partir del archivo CSV descargado anteriormente y\n",
        "# que contiene el dataset que utilizaremos en esta sesión\n",
        "df = sqlContext.read.csv('listings.csv', header=True, sep=\"\\t\", inferSchema = \"true\")\n",
        "\n",
        "# Mostrar el contenido del dataframe\n",
        "df.show()"
      ],
      "execution_count": null,
      "outputs": [
        {
          "output_type": "stream",
          "name": "stdout",
          "text": [
            "+---+-----+--------------------+---------+---------+--------------------+--------------+--------+---------+---------------+-----+--------------+-----------------+-----------+-----------------+------------------------------+----------------+\n",
            "|_c0|   id|                name|  host_id|host_name| neighbourhood_group| neighbourhood|latitude|longitude|      room_type|price|minimum_nights|number_of_reviews|last_review|reviews_per_month|calculated_host_listings_count|availability_365|\n",
            "+---+-----+--------------------+---------+---------+--------------------+--------------+--------+---------+---------------+-----+--------------+-----------------+-----------+-----------------+------------------------------+----------------+\n",
            "|  0| 6369|Rooftop terrace r...|    13660|    Simon|           Chamartín|Hispanoamérica|40.45724| -3.67688|   Private room|   60|             1|             78.0| 2020-09-20|             0.58|                             1|             180|\n",
            "|  1|21853|Bright and airy room|    83531|    Abdel|              Latina|      Cármenes|40.40381|  -3.7413|   Private room|   31|             4|             33.0| 2018-07-15|             0.42|                             2|             364|\n",
            "|  2|23001|Apartmento Arganz...|    82175|    Jesus|          Arganzuela|       Legazpi| 40.3884| -3.69511|Entire home/apt|   50|            15|              0.0|       null|             null|                             7|               1|\n",
            "|  3|24805|Gran Via Studio M...|346366726|        A|              Centro|   Universidad|40.42183| -3.70529|Entire home/apt|   92|             5|             10.0| 2020-03-01|             0.13|                             1|              72|\n",
            "|  4|26825|Single Room whith...|   114340| Agustina|          Arganzuela|       Legazpi|40.38975| -3.69018|   Private room|   26|             2|            149.0| 2020-03-12|             1.12|                             1|             365|\n",
            "|  5|28200|Apartamento Argan...|    82175|    Jesus|          Arganzuela|       Legazpi| 40.3886| -3.69492|Entire home/apt|   85|             1|              3.0| 2012-05-28|             0.03|                             7|             365|\n",
            "|  6|30320|Great Vacational ...|   130907|     Dana|              Centro|           Sol|40.41476| -3.70418|Entire home/apt|   65|             5|            170.0| 2020-01-04|             1.29|                             3|             351|\n",
            "|  7|30959|Beautiful loft in...|   132883|   Angela|              Centro|   Embajadores|40.41259| -3.70105|Entire home/apt|   54|             3|              8.0| 2017-05-30|             0.11|                             1|               0|\n",
            "|  8|37859|PISO, OPERA, MADR...|   162701|    Nacho|              Centro|       Palacio|40.41844| -3.71073|Entire home/apt| 1400|             3|              0.0|       null|             null|                             3|             365|\n",
            "|  9|40718|COZY APARTMENT CI...| 34217435|     Luis|              Centro|      Justicia|40.41969| -3.69736|Entire home/apt|   79|             3|            118.0| 2019-07-23|             0.91|                            11|             302|\n",
            "| 10|40916|Holiday Apartment...|   130907|     Dana|              Centro|   Universidad|40.42247| -3.70577|Entire home/apt|   90|             5|             48.0| 2020-01-05|             0.38|                             3|             346|\n",
            "| 11|47957|Amazing Apartment...|   218515|   Sergio|           Salamanca|          Goya|40.42792| -3.67682|Entire home/apt|   82|            10|             55.0| 2018-07-10|             0.44|                             2|             319|\n",
            "| 12|59923|Habitación para f...|   288380|     null|              Centro|       Palacio|40.42103| -3.71038|   Private room|   40|             1|             17.0| 2019-10-05|             0.15|                             1|             365|\n",
            "| 13|62423|MAGIC ARTISTIC HO...|   303845|   Arturo|              Centro|      Justicia|40.41884| -3.69655|   Private room|   24|             1|             79.0| 2020-09-06|             2.21|                             2|             357|\n",
            "| 14|64131|Habitación Metro ...|   313365|     Gina|Fuencarral - El P...|    Peñagrande|40.48543| -3.72318|   Private room|   21|             2|             35.0| 2020-11-30|             0.46|                             2|             364|\n",
            "| 15|70059|Tu hogar en centr...|   353616|    Diana|              Centro|   Universidad|40.42381| -3.71038|Entire home/apt|   51|             5|             41.0| 2020-08-26|             0.33|                             1|              38|\n",
            "| 16|70316|Superbly located ...|   353738|   Raquel|              Centro|       Palacio|40.42191| -3.71038|Entire home/apt|   75|            28|              7.0| 2020-04-30|              0.1|                             1|             348|\n",
            "| 17|72150|Sunny attic duple...|   364585|      Vin|              Centro|   Embajadores| 40.4115| -3.70449|Entire home/apt|  139|             2|            108.0| 2020-07-31|             0.87|                             5|             180|\n",
            "| 18|74352|Cozy apartment in...|   391014|     Juan|              Centro|   Embajadores|40.40864| -3.70884|Entire home/apt|   80|             8|              5.0| 2019-08-04|             0.11|                             1|             288|\n",
            "| 19|75609|  Estudio Museo Dino|   401552| Mercedes|              Centro|   Embajadores|40.40892| -3.69697|Entire home/apt|   63|             3|             56.0| 2020-03-04|             0.51|                             1|              46|\n",
            "+---+-----+--------------------+---------+---------+--------------------+--------------+--------+---------+---------------+-----+--------------+-----------------+-----------+-----------------+------------------------------+----------------+\n",
            "only showing top 20 rows\n",
            "\n"
          ]
        }
      ]
    },
    {
      "cell_type": "code",
      "metadata": {
        "colab": {
          "base_uri": "https://localhost:8080/"
        },
        "id": "SzzkyziQlZdm",
        "outputId": "3439cb91-6455-4289-941c-52b93c7c0a8b"
      },
      "source": [
        "# Mostrar un esquema de los atributos contenidos en el dataframe junto con su tipo\n",
        "df.printSchema()"
      ],
      "execution_count": null,
      "outputs": [
        {
          "output_type": "stream",
          "name": "stdout",
          "text": [
            "root\n",
            " |-- _c0: string (nullable = true)\n",
            " |-- id: integer (nullable = true)\n",
            " |-- name: string (nullable = true)\n",
            " |-- host_id: string (nullable = true)\n",
            " |-- host_name: string (nullable = true)\n",
            " |-- neighbourhood_group: string (nullable = true)\n",
            " |-- neighbourhood: string (nullable = true)\n",
            " |-- latitude: string (nullable = true)\n",
            " |-- longitude: double (nullable = true)\n",
            " |-- room_type: string (nullable = true)\n",
            " |-- price: integer (nullable = true)\n",
            " |-- minimum_nights: string (nullable = true)\n",
            " |-- number_of_reviews: double (nullable = true)\n",
            " |-- last_review: string (nullable = true)\n",
            " |-- reviews_per_month: double (nullable = true)\n",
            " |-- calculated_host_listings_count: integer (nullable = true)\n",
            " |-- availability_365: integer (nullable = true)\n",
            "\n"
          ]
        }
      ]
    },
    {
      "cell_type": "code",
      "metadata": {
        "colab": {
          "base_uri": "https://localhost:8080/"
        },
        "id": "FCQYnP5X5OdC",
        "outputId": "fe44d96a-5fcb-49c2-aa09-029d90a28e6c"
      },
      "source": [
        "# Convertir la columna \"minimum_nights\" en entero\n",
        "df = df.withColumn(\"minimum_nights\", df[\"minimum_nights\"].cast('int'))\n",
        "df.printSchema()"
      ],
      "execution_count": null,
      "outputs": [
        {
          "output_type": "stream",
          "name": "stdout",
          "text": [
            "root\n",
            " |-- _c0: string (nullable = true)\n",
            " |-- id: integer (nullable = true)\n",
            " |-- name: string (nullable = true)\n",
            " |-- host_id: string (nullable = true)\n",
            " |-- host_name: string (nullable = true)\n",
            " |-- neighbourhood_group: string (nullable = true)\n",
            " |-- neighbourhood: string (nullable = true)\n",
            " |-- latitude: string (nullable = true)\n",
            " |-- longitude: double (nullable = true)\n",
            " |-- room_type: string (nullable = true)\n",
            " |-- price: integer (nullable = true)\n",
            " |-- minimum_nights: integer (nullable = true)\n",
            " |-- number_of_reviews: double (nullable = true)\n",
            " |-- last_review: string (nullable = true)\n",
            " |-- reviews_per_month: double (nullable = true)\n",
            " |-- calculated_host_listings_count: integer (nullable = true)\n",
            " |-- availability_365: integer (nullable = true)\n",
            "\n"
          ]
        }
      ]
    },
    {
      "cell_type": "code",
      "metadata": {
        "colab": {
          "base_uri": "https://localhost:8080/"
        },
        "id": "blPIasj3llc1",
        "outputId": "8918d11f-058b-461f-dcb5-d789af435934"
      },
      "source": [
        "# Mostrar las columnas \"id\", \"host_name\", \"neighbourhood\" y \"price\"\n",
        "df.select(\"id\",\"host_name\",\"neighbourhood\",\"price\").show()"
      ],
      "execution_count": null,
      "outputs": [
        {
          "output_type": "stream",
          "name": "stdout",
          "text": [
            "+-----+---------+--------------+-----+\n",
            "|   id|host_name| neighbourhood|price|\n",
            "+-----+---------+--------------+-----+\n",
            "| 6369|    Simon|Hispanoamérica|   60|\n",
            "|21853|    Abdel|      Cármenes|   31|\n",
            "|23001|    Jesus|       Legazpi|   50|\n",
            "|24805|        A|   Universidad|   92|\n",
            "|26825| Agustina|       Legazpi|   26|\n",
            "|28200|    Jesus|       Legazpi|   85|\n",
            "|30320|     Dana|           Sol|   65|\n",
            "|30959|   Angela|   Embajadores|   54|\n",
            "|37859|    Nacho|       Palacio| 1400|\n",
            "|40718|     Luis|      Justicia|   79|\n",
            "|40916|     Dana|   Universidad|   90|\n",
            "|47957|   Sergio|          Goya|   82|\n",
            "|59923|     null|       Palacio|   40|\n",
            "|62423|   Arturo|      Justicia|   24|\n",
            "|64131|     Gina|    Peñagrande|   21|\n",
            "|70059|    Diana|   Universidad|   51|\n",
            "|70316|   Raquel|       Palacio|   75|\n",
            "|72150|      Vin|   Embajadores|  139|\n",
            "|74352|     Juan|   Embajadores|   80|\n",
            "|75609| Mercedes|   Embajadores|   63|\n",
            "+-----+---------+--------------+-----+\n",
            "only showing top 20 rows\n",
            "\n"
          ]
        }
      ]
    },
    {
      "cell_type": "markdown",
      "source": [
        "## Limpieza de datos"
      ],
      "metadata": {
        "id": "3ugOO3QGsCGa"
      }
    },
    {
      "cell_type": "code",
      "metadata": {
        "id": "zJmj2zdx-2Ii"
      },
      "source": [
        "# Eliminamos la columna \"name\"\n",
        "df = df.drop(\"name\")\n",
        "\n",
        "# Tratar las columnas con valores nulos:\n",
        "\n",
        "# Alternativa 1: Remplazar los valores nulos por un valor concreto.\n",
        "# Vamos a remplazar los valores nulos en \"minimum_nights\" por el valor 0:\n",
        "df = df.fillna(\"0\", subset = [\"minimum_nights\"])\n",
        "\n",
        "# Alternativa 2: Eliminamos las filas que contienen valores nulos.\n",
        "# Si se quiere eliminar las filas que contengan algún valor nulo en alguna\n",
        "# columna específica, por ejemplo en \"price\" y \"minimum_nights\", usaríamos:\n",
        "# df = df.na.drop(subset = [\"price\", \"minimum_nights\"])\n",
        "\n",
        "# Si se quiere eliminar todas las filas que contengan algún valor nulo en\n",
        "# cualquier columna, ejecutamos:\n",
        "df = df.na.drop()\n",
        "\n",
        "# Notar que previamente hemos remplazado los valores nulos en \"minimum_nights\"\n",
        "# por un 0, por lo tanto estas filas ya no serían eliminadas en la última instrucción."
      ],
      "execution_count": null,
      "outputs": []
    },
    {
      "cell_type": "code",
      "metadata": {
        "colab": {
          "base_uri": "https://localhost:8080/"
        },
        "id": "_U5dl4UYHnur",
        "outputId": "0af04973-71d5-4ee9-a1eb-20ebd3aac225"
      },
      "source": [
        "# Obtener las dimensiones del dataframe\n",
        "print(\"Número de filas: {filas:d};  Número de columnas: {columnas:d}\".format(\n",
        "    filas=df.count(), columnas=len(df.columns)\n",
        "))"
      ],
      "execution_count": null,
      "outputs": [
        {
          "output_type": "stream",
          "name": "stdout",
          "text": [
            "Número de filas: 13547;  Número de columnas: 16\n"
          ]
        }
      ]
    },
    {
      "cell_type": "code",
      "metadata": {
        "id": "dGrgl8cHllfY",
        "colab": {
          "base_uri": "https://localhost:8080/"
        },
        "outputId": "d57a8f69-521a-4d15-e333-ec3004c015ef"
      },
      "source": [
        "# Guardar en la variable \"ofertas_lujo\" los anuncios de pisos/casas completas\n",
        "# con un precio mayor o igual a 1000 euros\n",
        "ofertas_lujo = df.filter((df[\"room_type\"] == \"Entire home/apt\") & (df[\"price\"] >= 1000))\n",
        "\n",
        "# Ahora, eliminar anuncios con 0 comentarios (reviews)\n",
        "ofertas_lujo = ofertas_lujo.filter(ofertas_lujo[\"number_of_reviews\"] > 0)\n",
        "\n",
        "# Mostrar las dimensiones\n",
        "print(\"Número de filas: {filas:d};  Número de columnas: {columnas:d}\".format(\n",
        "    filas=ofertas_lujo.count(), columnas=len(ofertas_lujo.columns)\n",
        "))\n",
        "\n",
        "# Mostrar estos anuncios\n",
        "ofertas_lujo.show()"
      ],
      "execution_count": null,
      "outputs": [
        {
          "output_type": "stream",
          "name": "stdout",
          "text": [
            "Número de filas: 89;  Número de columnas: 16\n",
            "+----+--------+--------+--------------+-------------------+-------------+--------+---------+---------------+-----+--------------+-----------------+-----------+-----------------+------------------------------+----------------+\n",
            "| _c0|      id| host_id|     host_name|neighbourhood_group|neighbourhood|latitude|longitude|      room_type|price|minimum_nights|number_of_reviews|last_review|reviews_per_month|calculated_host_listings_count|availability_365|\n",
            "+----+--------+--------+--------------+-------------------+-------------+--------+---------+---------------+-----+--------------+-----------------+-----------+-----------------+------------------------------+----------------+\n",
            "| 181|  578731| 2847013|      Santiago|             Centro|  Universidad|40.42551| -3.70812|Entire home/apt| 9999|             2|            338.0| 2020-03-15|             3.19|                             5|             105|\n",
            "| 412| 1101760| 2847013|      Santiago|             Centro|       Cortes| 40.4134|  -3.6973|Entire home/apt| 9999|             2|            312.0| 2020-03-18|             3.22|                             5|             106|\n",
            "|1443| 6460851| 2847013|      Santiago|             Centro|  Embajadores| 40.4121| -3.69995|Entire home/apt| 9356|             2|            276.0| 2020-03-10|             3.84|                             5|             106|\n",
            "|1457| 6532332| 2847013|      Santiago|             Centro|  Embajadores|40.40902| -3.69839|Entire home/apt| 9999|             2|            237.0| 2020-03-08|              3.3|                             5|             107|\n",
            "|1893| 8345256|43988161|       Roberto|             Centro|     Justicia|40.42074| -3.69787|Entire home/apt| 3000|             2|             48.0| 2018-07-15|             0.71|                             1|             365|\n",
            "|1918| 8402787|44267738|Madrid Central|             Centro|      Palacio|40.42156|  -3.7094|Entire home/apt| 1139|             1|            216.0| 2020-03-01|              3.2|                            27|               0|\n",
            "|2072| 9206552|13568612|         David|             Centro|  Universidad| 40.4215| -3.70341|Entire home/apt| 1500|             3|            111.0| 2020-02-02|             1.68|                             1|               0|\n",
            "|2174| 9734480|44267738|Madrid Central|             Centro|      Palacio|40.42092| -3.70887|Entire home/apt| 1139|             1|            176.0| 2020-01-30|              2.7|                            27|               0|\n",
            "|2544|11604203|24619741|        Begoña|             Centro|       Cortes|40.41288| -3.69848|Entire home/apt| 9999|             1|            234.0| 2020-07-28|             3.86|                             3|               0|\n",
            "|2609|11780499|51636039| CriteriaHome!|         Villaverde|   San Andrés|40.33366| -3.70227|Entire home/apt| 5732|             2|             38.0| 2018-11-02|             0.62|                             7|               0|\n",
            "|2710|12272825|44267738|Madrid Central|             Centro|       Cortes|40.41589| -3.70054|Entire home/apt| 1139|             1|            177.0| 2020-02-14|             2.91|                            27|               0|\n",
            "|2713|12278791|44267738|Madrid Central|             Centro|       Cortes|40.41219| -3.69637|Entire home/apt| 1139|             1|            154.0| 2019-11-08|             2.57|                            27|               0|\n",
            "|2927|13221821|74180884|       Antonio|             Centro|       Cortes|40.41406| -3.70294|Entire home/apt| 9999|             2|            182.0| 2020-03-13|             3.09|                             2|             104|\n",
            "|3361|14319434|44267738|Madrid Central|             Centro|       Cortes|40.41606| -3.70053|Entire home/apt| 1139|             1|            125.0| 2020-02-07|             2.19|                            27|               0|\n",
            "|3362|14319951|44267738|Madrid Central|             Centro|       Cortes|40.41618| -3.70066|Entire home/apt| 1139|             1|            139.0| 2019-12-20|             2.44|                            27|               0|\n",
            "|3395|14463358|10282516|         Oscar|             Centro|  Embajadores|40.41063| -3.69814|Entire home/apt| 5740|             2|            221.0| 2020-03-13|             3.95|                             2|               0|\n",
            "|3465|14735348|91494388|      Patricia|             Centro|          Sol|40.41842| -3.69946|Entire home/apt| 6000|             1|            216.0| 2020-03-13|             3.85|                             2|               0|\n",
            "|3572|15197149|96502620|     Es Javier|  Moncloa - Aravaca|Casa de Campo| 40.4255|  -3.7314|Entire home/apt| 8000|             2|              8.0| 2019-10-21|             0.25|                             6|             187|\n",
            "|3588|15241162|96502620|     Es Javier|              Usera|      Orcasur|40.37869| -3.69876|Entire home/apt| 8000|             2|              9.0| 2020-08-10|             0.17|                             6|             181|\n",
            "|3589|15241290|96502620|     Es Javier|             Latina|       Lucero|40.40276| -3.74719|Entire home/apt| 8000|             2|              6.0| 2020-02-26|             0.14|                             6|             187|\n",
            "+----+--------+--------+--------------+-------------------+-------------+--------+---------+---------------+-----+--------------+-----------------+-----------+-----------------+------------------------------+----------------+\n",
            "only showing top 20 rows\n",
            "\n"
          ]
        }
      ]
    },
    {
      "cell_type": "code",
      "source": [
        "# Ahora, eliminar aquellos anuncios con menos de 10 comentarios (reviews)\n",
        "ofertas_lujo = ofertas_lujo.filter(ofertas_lujo[\"number_of_reviews\"] > 10)\n",
        "\n",
        "# Mostrar las dimensiones\n",
        "print(\"Número de filas: {filas:d};  Número de columnas: {columnas:d}\".format(\n",
        "    filas=ofertas_lujo.count(), columnas=len(ofertas_lujo.columns)\n",
        "))"
      ],
      "metadata": {
        "colab": {
          "base_uri": "https://localhost:8080/"
        },
        "id": "7fgBM24Bt-oQ",
        "outputId": "cfab76d4-3495-4f11-b151-cdc5aa2cdb55"
      },
      "execution_count": null,
      "outputs": [
        {
          "output_type": "stream",
          "name": "stdout",
          "text": [
            "Número de filas: 47;  Número de columnas: 16\n"
          ]
        }
      ]
    },
    {
      "cell_type": "code",
      "metadata": {
        "id": "rKhUwcoIlliP",
        "colab": {
          "base_uri": "https://localhost:8080/"
        },
        "outputId": "36a4e1cd-1a15-4681-8d57-2fcc86217370"
      },
      "source": [
        "# Agrupar los anuncios de alojamientos de lujo obtenidos en el paso anterior\n",
        "# por número de mínimo de noches ofertadas. Contar el número de anuncios por\n",
        "# cada grupo (número mínimo de noches)\n",
        "ofertas_lujo.groupBy(\"minimum_nights\").count().show()"
      ],
      "execution_count": null,
      "outputs": [
        {
          "output_type": "stream",
          "name": "stdout",
          "text": [
            "+--------------+-----+\n",
            "|minimum_nights|count|\n",
            "+--------------+-----+\n",
            "|             1|   22|\n",
            "|             3|    2|\n",
            "|           100|    1|\n",
            "|          1000|    1|\n",
            "|            90|    1|\n",
            "|             2|   19|\n",
            "|            30|    1|\n",
            "+--------------+-----+\n",
            "\n"
          ]
        }
      ]
    },
    {
      "cell_type": "markdown",
      "metadata": {
        "id": "lI9BY69ZcyA4"
      },
      "source": [
        "## Preparar el dataset para aplicar técnicas de machine learning con Spark\n",
        "\n",
        "En Spark, los algoritmos de machine learning y las técnicas estadísticas trabajan con vectores de características. Un vector de características puede entenderse como una fila de un dataset, en el que cada una de las columnas representan las características (*features* en inglés). Por lo tanto, en Spark será necesario convertir nuestro dataframe en vectores, donde cada uno de los componentes (los elementos) del vector se denominan escalares. Más concretamente, en Spark un vector se define mediante lo que se denomina *DenseVector*, y cada uno de los valores de estos vectores son elementos de tipo *double*.\n",
        "\n",
        "Veamos un ejemplo de vector en Spark:"
      ]
    },
    {
      "cell_type": "code",
      "metadata": {
        "colab": {
          "base_uri": "https://localhost:8080/"
        },
        "id": "bajoG7e9mCVf",
        "outputId": "19e5fc02-5ec8-4379-b092-f6f07ac30b52"
      },
      "source": [
        "# Ejemplo de creación de DenseVector\n",
        "from pyspark.ml.linalg import Vectors\n",
        "\n",
        "mi_vector = Vectors.dense([1.0, 2.0, 3.0])\n",
        "print(mi_vector)"
      ],
      "execution_count": null,
      "outputs": [
        {
          "output_type": "stream",
          "name": "stdout",
          "text": [
            "[1.0,2.0,3.0]\n"
          ]
        }
      ]
    },
    {
      "cell_type": "markdown",
      "metadata": {
        "id": "D1hqp5-Am0Us"
      },
      "source": [
        "Los vectores pueden concatenerse en columnas, y posteriormente pueden convertirse en dataframes.\n",
        "\n",
        "\"Row\" permite crear un objeto fila de un dataframe, donde cada característica (o columna) se define como una variable: nombre_columna = valor_columna.\n",
        "\n",
        "\"sc.parallelize\" permite copiar los elementos de una colección para formar un conjunto de datos distribuido con el que se puede operar en paralelo. A continuación, podemos generar un dataframe mediante la función \"toDF()\"."
      ]
    },
    {
      "cell_type": "code",
      "metadata": {
        "colab": {
          "base_uri": "https://localhost:8080/"
        },
        "id": "Nq23jEmf4RhW",
        "outputId": "b3d5c362-1c0f-49c7-e052-96b0d605e67f"
      },
      "source": [
        "from pyspark.sql import Row\n",
        "\n",
        "mi_df = sc.parallelize([Row(id=1, features=mi_vector),\n",
        "                        Row(id=2, features=Vectors.dense([1.0, 1.0, 1.0])),\n",
        "                        Row(id=50, features=Vectors.dense([4.0, 5.0, 6.0]))]\n",
        "                       ).toDF()\n",
        "\n",
        "mi_df.show()"
      ],
      "execution_count": null,
      "outputs": [
        {
          "output_type": "stream",
          "name": "stdout",
          "text": [
            "+---+-------------+\n",
            "| id|     features|\n",
            "+---+-------------+\n",
            "|  1|[1.0,2.0,3.0]|\n",
            "|  2|[1.0,1.0,1.0]|\n",
            "| 50|[4.0,5.0,6.0]|\n",
            "+---+-------------+\n",
            "\n"
          ]
        }
      ]
    },
    {
      "cell_type": "markdown",
      "source": [
        "## Transformers y estimators"
      ],
      "metadata": {
        "id": "YRRD3qf032Xx"
      }
    },
    {
      "cell_type": "markdown",
      "metadata": {
        "id": "FBGqPX-Uqoz5"
      },
      "source": [
        "A continuación, vamos a ver como podemos transformar un dataframe en un vector de características utilizando un DenseVector de elementos de tipo Double. Para ello, vamos a introducir primero el concepto de *ML Pipelines*. En machine learning, una pipeline es una forma de codificar y automatizar el flujo de trabajo necesario para producir un modelo de aprendizaje automático. En Spark, las ML Pipelines proporcionan un conjunto uniforme de APIs de alto nivel construidas sobre DataFrames y que permiten aplicar una serie de operaciones sobre los datos que denominamos *transformers* o *estimators*.\n",
        "\n",
        "\n",
        "*   Un transformer es un algoritmo que toma como entrada un dataframe, aplica una serie de operaciones a los datos y devuelve otro dataframe.\n",
        "*   Un estimator es un algoritmo que se aplica a un dataframe para producir otro transformer.\n",
        "\n",
        "Uno de los transformers más útilizados se denomina **VectorAssembler**. Esta función se encarga de tomar una serie de columnas de un dataframe como entrada y genera una nueva columna en el dataframe, la cual contiene un vector del tipo DenseVector conteniendo todas las características indicadas. Un aspecto importante sobre la función VectorAssembler es que solo permite columnas que tengan datos que sean de los tipos: integer (entero), long (entero largo), double (coma flotante), boolean (boleano) y vecotres. Los datos que sean del tipo fecha, cadenas de texto, marcas de tiempo, etc, no pueden ser convertidos en vectores, ya que los vectores solo pueden tener valores numéricos. Más adelante, veremos como podemos introducir cadenas de texto mediante una técnica llamada one-hot-encoding.\n",
        "\n",
        "En la siguiente celda de código se puede observar como transformar las columnas \"price\", \"minimum_nights\", \"number_of_reviews\", \"reviews_per_month\" y \"availability_365\" en un vector que que contiene cada una de estas columnas. Este vector se añade al dataframe original bajo la columna \"features\", generando un nuevo dataframe que hemos denominado *assempled_df*.\n"
      ]
    },
    {
      "cell_type": "code",
      "metadata": {
        "id": "yYLuAdKecyZS",
        "colab": {
          "base_uri": "https://localhost:8080/"
        },
        "outputId": "0b5f21c9-f893-4a95-e2c3-2279698b05d6"
      },
      "source": [
        "from pyspark.ml.feature import VectorAssembler\n",
        "\n",
        "assembler = VectorAssembler(\n",
        "  inputCols = [\"price\", \"minimum_nights\", \"number_of_reviews\", \"reviews_per_month\", \"availability_365\"],\n",
        "  outputCol = \"features\"\n",
        ")\n",
        "assembled_df = assembler.transform(df)\n",
        "\n",
        "# Mostramos la nueva columa \"features\" para las 10 primeras filas del dataset\n",
        "assembled_df.select(\"features\").show(10, truncate=False)\n"
      ],
      "execution_count": null,
      "outputs": [
        {
          "output_type": "stream",
          "name": "stdout",
          "text": [
            "+---------------------------+\n",
            "|features                   |\n",
            "+---------------------------+\n",
            "|[60.0,1.0,78.0,0.58,180.0] |\n",
            "|[31.0,4.0,33.0,0.42,364.0] |\n",
            "|[92.0,5.0,10.0,0.13,72.0]  |\n",
            "|[26.0,2.0,149.0,1.12,365.0]|\n",
            "|[85.0,1.0,3.0,0.03,365.0]  |\n",
            "|[65.0,5.0,170.0,1.29,351.0]|\n",
            "|[54.0,3.0,8.0,0.11,0.0]    |\n",
            "|[79.0,3.0,118.0,0.91,302.0]|\n",
            "|[90.0,5.0,48.0,0.38,346.0] |\n",
            "|[82.0,10.0,55.0,0.44,319.0]|\n",
            "+---------------------------+\n",
            "only showing top 10 rows\n",
            "\n"
          ]
        }
      ]
    },
    {
      "cell_type": "markdown",
      "source": [
        "## Variables categóricas"
      ],
      "metadata": {
        "id": "h8EAOrqE4GXS"
      }
    },
    {
      "cell_type": "markdown",
      "metadata": {
        "id": "SJaDbK7mZ-l0"
      },
      "source": [
        "\n",
        "\n",
        "Una variable categórica es una variable que puede tomar un conjunto limitado (y por lo general fijo) de valores posibles. Un ejemplo de esto sería nuestra variable \"room_type\" que indica el tipo de apartamento o habitación que se está ofertando. Cuando tenemos un dataset con variables categóricas, es importante transformarlas a una representación numérica que pueda ser utilizada por los algoritmos de machine learning.\n",
        "\n",
        "Transformar cada categoría en un valor númerico no es una buena solución, ya que los algoritmos de machine learning interpretarían una correlación entre los valores, asumiendo que dos valores más proximos entre si están correlacionados. Por ejemplo, imaginar que tenemos una carasterística categórica \"color\" que pudiera tomar los valores: rojo, verde, azul y blanco, y mapeamos esta categoría a los valores 1, 2, 3 y 4 respectivamente. Un algoritmo de machine learning interpretaría que el número 4, correspondiente con el color blanco, estaría más próximo al color azul, que tiene el valor 3, que al color rojo, que tiene valor 1. Esto daría lugar a estimaciones muy pobres. Para solucionar esto, se recurre a transformaciones en las cuales las variables categoricas se convierten en un subespacio en el que la distancia entre cada valor sea el mismo.\n",
        "\n",
        "Una de las transformaciones más utlizados para tratar con estas variables categóricas es el denominado One Hot Encoding. Esta transformación obtiene como entrada el índice de cada categoría y la transforma en un vector binario, dónde cada elemento representa un valor categórico. Este vector contendrá zeros en todos sus elementos salvo en el que corresponda con el índice transformado.\n",
        "\n",
        "Volviendo al ejemplo anterior, ahora la transformación de la variable categórica blanco sería el vector `[0, 0, 0, 1]`, mientras que el color azul sería `[0, 0, 1, 0]`. Notar que la distancia entre ambos vectores es la misma.\n",
        "\n",
        "A continuación, vamos a presentar dos nuevos transformers de la ML Pipeline de Spark que nos van a permitir trabajar con datos de formato String que representen categorías.  El primer transformer se denomina *StringIndexer* y nos permite transformar etiquetas en formato string (texto) en índices numéricos. El segundo transformer se denomina *OneHotEncoder* y nos permite transformar los índices numéricos obtenidos anteriormente en un vector en formato One Hot Encoding, donde tendremos un elemento del vector por cada valor de la variable categórica de entrada.\n",
        "\n",
        "Spark, genera un vector *sparse* cuando se ejecuta OneHotEncoder, evitando así almacenar la gran cantidad de ceros que genera esta transformación y reduciendo la memoria del sistema. Por lo tanto, su representación en el dataframe aparece de manera diferente.\n",
        "\n",
        "Veamos como podemos transformar nuestra variable \"room_type\" utilizando OneHotEnocoder:"
      ]
    },
    {
      "cell_type": "code",
      "metadata": {
        "colab": {
          "base_uri": "https://localhost:8080/"
        },
        "id": "TQFS6wpDgaAB",
        "outputId": "74c8c88b-8bbc-4e68-97cd-eff17ffbdf4c"
      },
      "source": [
        "from pyspark.ml.feature import StringIndexer\n",
        "\n",
        "# Creamos un objeto StringIndexer para la columna \"room_type\"\n",
        "indexer_room_type = StringIndexer(inputCol=\"room_type\", outputCol=\"room_type_idx\")\n",
        "# A continuación, realizamos la transformación\n",
        "df1 = indexer_room_type.fit(df).transform(df)\n",
        "\n",
        "df1.show()\n",
        "# Private room --> 1.0, etc..."
      ],
      "execution_count": null,
      "outputs": [
        {
          "output_type": "stream",
          "name": "stdout",
          "text": [
            "+---+-----+---------+---------+--------------------+--------------+--------+---------+---------------+-----+--------------+-----------------+-----------+-----------------+------------------------------+----------------+-------------+\n",
            "|_c0|   id|  host_id|host_name| neighbourhood_group| neighbourhood|latitude|longitude|      room_type|price|minimum_nights|number_of_reviews|last_review|reviews_per_month|calculated_host_listings_count|availability_365|room_type_idx|\n",
            "+---+-----+---------+---------+--------------------+--------------+--------+---------+---------------+-----+--------------+-----------------+-----------+-----------------+------------------------------+----------------+-------------+\n",
            "|  0| 6369|    13660|    Simon|           Chamartín|Hispanoamérica|40.45724| -3.67688|   Private room|   60|             1|             78.0| 2020-09-20|             0.58|                             1|             180|          1.0|\n",
            "|  1|21853|    83531|    Abdel|              Latina|      Cármenes|40.40381|  -3.7413|   Private room|   31|             4|             33.0| 2018-07-15|             0.42|                             2|             364|          1.0|\n",
            "|  3|24805|346366726|        A|              Centro|   Universidad|40.42183| -3.70529|Entire home/apt|   92|             5|             10.0| 2020-03-01|             0.13|                             1|              72|          0.0|\n",
            "|  4|26825|   114340| Agustina|          Arganzuela|       Legazpi|40.38975| -3.69018|   Private room|   26|             2|            149.0| 2020-03-12|             1.12|                             1|             365|          1.0|\n",
            "|  5|28200|    82175|    Jesus|          Arganzuela|       Legazpi| 40.3886| -3.69492|Entire home/apt|   85|             1|              3.0| 2012-05-28|             0.03|                             7|             365|          0.0|\n",
            "|  6|30320|   130907|     Dana|              Centro|           Sol|40.41476| -3.70418|Entire home/apt|   65|             5|            170.0| 2020-01-04|             1.29|                             3|             351|          0.0|\n",
            "|  7|30959|   132883|   Angela|              Centro|   Embajadores|40.41259| -3.70105|Entire home/apt|   54|             3|              8.0| 2017-05-30|             0.11|                             1|               0|          0.0|\n",
            "|  9|40718| 34217435|     Luis|              Centro|      Justicia|40.41969| -3.69736|Entire home/apt|   79|             3|            118.0| 2019-07-23|             0.91|                            11|             302|          0.0|\n",
            "| 10|40916|   130907|     Dana|              Centro|   Universidad|40.42247| -3.70577|Entire home/apt|   90|             5|             48.0| 2020-01-05|             0.38|                             3|             346|          0.0|\n",
            "| 11|47957|   218515|   Sergio|           Salamanca|          Goya|40.42792| -3.67682|Entire home/apt|   82|            10|             55.0| 2018-07-10|             0.44|                             2|             319|          0.0|\n",
            "| 13|62423|   303845|   Arturo|              Centro|      Justicia|40.41884| -3.69655|   Private room|   24|             1|             79.0| 2020-09-06|             2.21|                             2|             357|          1.0|\n",
            "| 14|64131|   313365|     Gina|Fuencarral - El P...|    Peñagrande|40.48543| -3.72318|   Private room|   21|             2|             35.0| 2020-11-30|             0.46|                             2|             364|          1.0|\n",
            "| 15|70059|   353616|    Diana|              Centro|   Universidad|40.42381| -3.71038|Entire home/apt|   51|             5|             41.0| 2020-08-26|             0.33|                             1|              38|          0.0|\n",
            "| 16|70316|   353738|   Raquel|              Centro|       Palacio|40.42191| -3.71038|Entire home/apt|   75|            28|              7.0| 2020-04-30|              0.1|                             1|             348|          0.0|\n",
            "| 17|72150|   364585|      Vin|              Centro|   Embajadores| 40.4115| -3.70449|Entire home/apt|  139|             2|            108.0| 2020-07-31|             0.87|                             5|             180|          0.0|\n",
            "| 18|74352|   391014|     Juan|              Centro|   Embajadores|40.40864| -3.70884|Entire home/apt|   80|             8|              5.0| 2019-08-04|             0.11|                             1|             288|          0.0|\n",
            "| 19|75609|   401552| Mercedes|              Centro|   Embajadores|40.40892| -3.69697|Entire home/apt|   63|             3|             56.0| 2020-03-04|             0.51|                             1|              46|          0.0|\n",
            "| 20|82481|   448981| Mercedes|           Salamanca|     Recoletos|40.42342| -3.68123|Entire home/apt|   63|             3|            108.0| 2017-11-29|             0.89|                             1|               0|          0.0|\n",
            "| 21|84719|   259229|   Felipe|              Centro|   Embajadores|40.40866| -3.70374|Entire home/apt|   46|             2|            185.0| 2020-03-09|             1.53|                             1|              37|          0.0|\n",
            "| 22|86042|   364585|      Vin|              Centro|   Embajadores|40.40939| -3.69812|Entire home/apt|  125|             2|            153.0| 2020-03-05|             1.28|                             5|             179|          0.0|\n",
            "+---+-----+---------+---------+--------------------+--------------+--------+---------+---------------+-----+--------------+-----------------+-----------+-----------------+------------------------------+----------------+-------------+\n",
            "only showing top 20 rows\n",
            "\n"
          ]
        }
      ]
    },
    {
      "cell_type": "code",
      "metadata": {
        "id": "kq2KWujZdDGo",
        "colab": {
          "base_uri": "https://localhost:8080/"
        },
        "outputId": "821eaa7f-cbd6-478d-93be-e46e00d4b423"
      },
      "source": [
        "from pyspark.ml.feature import OneHotEncoder\n",
        "\n",
        "# Ahora creamos un objeto OneHotEncoder\n",
        "onehotencoder_room_type = OneHotEncoder(inputCol=\"room_type_idx\", outputCol=\"room_type_vec\")\n",
        "# Realizamos la transformación\n",
        "df2 = onehotencoder_room_type.fit(df1).transform(df1)\n",
        "\n",
        "# Mediante la función distinct() podemos visualiar los diferentes valores posibles\n",
        "# de la variable categórica. Podemos ver así la transformación que se ha realizado.\n",
        "# Notar que el vector generado está en formato sparse, por lo que su representación\n",
        "# es diferente.\n",
        "df2.select(\"room_type\", \"room_type_idx\", \"room_type_vec\").distinct().show()"
      ],
      "execution_count": null,
      "outputs": [
        {
          "output_type": "stream",
          "name": "stdout",
          "text": [
            "+---------------+-------------+-------------+\n",
            "|      room_type|room_type_idx|room_type_vec|\n",
            "+---------------+-------------+-------------+\n",
            "|Entire home/apt|          0.0|(3,[0],[1.0])|\n",
            "|   Private room|          1.0|(3,[1],[1.0])|\n",
            "|     Hotel room|          3.0|    (3,[],[])|\n",
            "|    Shared room|          2.0|(3,[2],[1.0])|\n",
            "+---------------+-------------+-------------+\n",
            "\n"
          ]
        }
      ]
    },
    {
      "cell_type": "markdown",
      "source": [
        "## ML Pipeline"
      ],
      "metadata": {
        "id": "TVgGCe4r4QTi"
      }
    },
    {
      "cell_type": "markdown",
      "metadata": {
        "id": "NJl4_3M9h_GO"
      },
      "source": [
        "Por último, vamos a ver como unificar todas las transformaciones anteriores en un solo paso utilizando la ML Pipeline de Spark.\n",
        "\n",
        "En nuestro caso, queremos realizar tres transformaciones en los datos, cada una de las cuales conformará una etapa del pipeline:\n",
        "\n",
        "*   Etapa 1: Aplicar la transformación StringIndexer sobre la columna \"room_type\" para transformar las categorías de string a valores enteros.\n",
        "*   Etapa 2: Aplicar la técnica One Hot Encoding a la columna \"room_type\" transformada en variable numérica.\n",
        "*   Etapa 3: Crear un vector con todas las características que queremos utilizar en los análisis posteriores mediante el uso del transformer VectorAssembler.\n",
        "\n",
        "![Spark-ML-Pipeline.png](data:image/png;base64,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)\n",
        "\n",
        "Una vez se ha definido el pipeline, el últio paso será aplicarlo sobre el dataframe *df*, obteniendo otro dataframe transformado que hemos denominado *assembled_df*."
      ]
    },
    {
      "cell_type": "code",
      "metadata": {
        "id": "Hcu3x1xUdDMf",
        "colab": {
          "base_uri": "https://localhost:8080/"
        },
        "outputId": "98b24c76-4d70-426e-b9ca-d243bd19d201"
      },
      "source": [
        "from pyspark.ml import Pipeline\n",
        "\n",
        "# Etapa 1: Transformar la columna \"room_type\" en númerica\n",
        "indexer_room_type = StringIndexer(inputCol=\"room_type\", outputCol=\"room_type_idx\")\n",
        "# Etapa 2: Aplicar One Hot Encoding a la variable categórica númerica \"room_type_idx\"\n",
        "onehotencoder_room_type = OneHotEncoder(inputCol=\"room_type_idx\", outputCol=\"room_type_vec\")\n",
        "# Etapa 3: Crear el vector de características que utilizaremos más tarde\n",
        "assembler = VectorAssembler(\n",
        "  inputCols = [\"price\", \"minimum_nights\", \"number_of_reviews\", \"reviews_per_month\", \"availability_365\", \"room_type_vec\"],\n",
        "  outputCol = \"features\"\n",
        ")\n",
        "\n",
        "# Cremos la ML Pipeline\n",
        "pipeline = Pipeline(stages=[indexer_room_type, onehotencoder_room_type, assembler])\n",
        "\n",
        "# Aplicamos la función fit del pipeline a los datos\n",
        "model = pipeline.fit(df)\n",
        "# Transformamos los datos y obtenemos el dataset transformado: \"assembled_df\"\n",
        "assembled_df = model.transform(df)\n",
        "\n",
        "# Visualizamos el dataset generado\n",
        "assembled_df.show(10, truncate=False)"
      ],
      "execution_count": null,
      "outputs": [
        {
          "output_type": "stream",
          "name": "stdout",
          "text": [
            "+---+-----+---------+---------+-------------------+--------------+--------+---------+---------------+-----+--------------+-----------------+-----------+-----------------+------------------------------+----------------+-------------+-------------+---------------------------------------+\n",
            "|_c0|id   |host_id  |host_name|neighbourhood_group|neighbourhood |latitude|longitude|room_type      |price|minimum_nights|number_of_reviews|last_review|reviews_per_month|calculated_host_listings_count|availability_365|room_type_idx|room_type_vec|features                               |\n",
            "+---+-----+---------+---------+-------------------+--------------+--------+---------+---------------+-----+--------------+-----------------+-----------+-----------------+------------------------------+----------------+-------------+-------------+---------------------------------------+\n",
            "|0  |6369 |13660    |Simon    |Chamartín          |Hispanoamérica|40.45724|-3.67688 |Private room   |60   |1             |78.0             |2020-09-20 |0.58             |1                             |180             |1.0          |(3,[1],[1.0])|[60.0,1.0,78.0,0.58,180.0,0.0,1.0,0.0] |\n",
            "|1  |21853|83531    |Abdel    |Latina             |Cármenes      |40.40381|-3.7413  |Private room   |31   |4             |33.0             |2018-07-15 |0.42             |2                             |364             |1.0          |(3,[1],[1.0])|[31.0,4.0,33.0,0.42,364.0,0.0,1.0,0.0] |\n",
            "|3  |24805|346366726|A        |Centro             |Universidad   |40.42183|-3.70529 |Entire home/apt|92   |5             |10.0             |2020-03-01 |0.13             |1                             |72              |0.0          |(3,[0],[1.0])|[92.0,5.0,10.0,0.13,72.0,1.0,0.0,0.0]  |\n",
            "|4  |26825|114340   |Agustina |Arganzuela         |Legazpi       |40.38975|-3.69018 |Private room   |26   |2             |149.0            |2020-03-12 |1.12             |1                             |365             |1.0          |(3,[1],[1.0])|[26.0,2.0,149.0,1.12,365.0,0.0,1.0,0.0]|\n",
            "|5  |28200|82175    |Jesus    |Arganzuela         |Legazpi       |40.3886 |-3.69492 |Entire home/apt|85   |1             |3.0              |2012-05-28 |0.03             |7                             |365             |0.0          |(3,[0],[1.0])|[85.0,1.0,3.0,0.03,365.0,1.0,0.0,0.0]  |\n",
            "|6  |30320|130907   |Dana     |Centro             |Sol           |40.41476|-3.70418 |Entire home/apt|65   |5             |170.0            |2020-01-04 |1.29             |3                             |351             |0.0          |(3,[0],[1.0])|[65.0,5.0,170.0,1.29,351.0,1.0,0.0,0.0]|\n",
            "|7  |30959|132883   |Angela   |Centro             |Embajadores   |40.41259|-3.70105 |Entire home/apt|54   |3             |8.0              |2017-05-30 |0.11             |1                             |0               |0.0          |(3,[0],[1.0])|[54.0,3.0,8.0,0.11,0.0,1.0,0.0,0.0]    |\n",
            "|9  |40718|34217435 |Luis     |Centro             |Justicia      |40.41969|-3.69736 |Entire home/apt|79   |3             |118.0            |2019-07-23 |0.91             |11                            |302             |0.0          |(3,[0],[1.0])|[79.0,3.0,118.0,0.91,302.0,1.0,0.0,0.0]|\n",
            "|10 |40916|130907   |Dana     |Centro             |Universidad   |40.42247|-3.70577 |Entire home/apt|90   |5             |48.0             |2020-01-05 |0.38             |3                             |346             |0.0          |(3,[0],[1.0])|[90.0,5.0,48.0,0.38,346.0,1.0,0.0,0.0] |\n",
            "|11 |47957|218515   |Sergio   |Salamanca          |Goya          |40.42792|-3.67682 |Entire home/apt|82   |10            |55.0             |2018-07-10 |0.44             |2                             |319             |0.0          |(3,[0],[1.0])|[82.0,10.0,55.0,0.44,319.0,1.0,0.0,0.0]|\n",
            "+---+-----+---------+---------+-------------------+--------------+--------+---------+---------------+-----+--------------+-----------------+-----------+-----------------+------------------------------+----------------+-------------+-------------+---------------------------------------+\n",
            "only showing top 10 rows\n",
            "\n"
          ]
        }
      ]
    },
    {
      "cell_type": "markdown",
      "metadata": {
        "id": "-QsJUc4unnUZ"
      },
      "source": [
        "# Análisis estadístico con Spark"
      ]
    },
    {
      "cell_type": "markdown",
      "metadata": {
        "id": "K11Dinzhpxs0"
      },
      "source": [
        "## Otención de los principales estadísticos descriptivos"
      ]
    },
    {
      "cell_type": "code",
      "metadata": {
        "colab": {
          "base_uri": "https://localhost:8080/"
        },
        "id": "JP0cQ6mwu0Yg",
        "outputId": "56824494-3bc7-434f-a53f-04aa175ced90"
      },
      "source": [
        "# METODO 1: Utilizando la función summary sobre el dataset\n",
        "\n",
        "# Obtener los principales estadísticos descriptivos de las variables \"price\",\n",
        "# \"minimum_nights\", \"number_of_reviews\", \"reviews_per_month\" y \"availability_365\"\n",
        "df.select(\"price\", \"minimum_nights\", \"number_of_reviews\", \"reviews_per_month\", \"availability_365\").summary().show()"
      ],
      "execution_count": null,
      "outputs": [
        {
          "output_type": "stream",
          "name": "stdout",
          "text": [
            "+-------+------------------+------------------+-----------------+------------------+------------------+\n",
            "|summary|             price|    minimum_nights|number_of_reviews| reviews_per_month|  availability_365|\n",
            "+-------+------------------+------------------+-----------------+------------------+------------------+\n",
            "|  count|             13547|             13547|            13547|             13547|             13547|\n",
            "|   mean|107.09345242489113| 5.696833247213405| 44.7601683029453|1.1237425260205165|155.41485199675205|\n",
            "| stddev| 479.8354842651087|33.180229747631216|72.31591218457794| 1.350697493419991| 141.3075517939122|\n",
            "|    min|                 8|                 1|              1.0|              0.01|                 0|\n",
            "|    25%|                35|                 1|              3.0|              0.17|                 0|\n",
            "|    50%|                56|                 2|             13.0|              0.58|               118|\n",
            "|    75%|                90|                 3|             55.0|              1.63|               309|\n",
            "|    max|              9999|              1125|            706.0|             16.22|               365|\n",
            "+-------+------------------+------------------+-----------------+------------------+------------------+\n",
            "\n"
          ]
        }
      ]
    },
    {
      "cell_type": "code",
      "metadata": {
        "id": "AtR_LL_JgKa4",
        "colab": {
          "base_uri": "https://localhost:8080/"
        },
        "outputId": "3bc9ef94-4229-488d-a877-932831002187"
      },
      "source": [
        "# METODO 2: Utilizando la biblioteca de machine learning de PySpark\n",
        "from pyspark.ml.stat import Summarizer\n",
        "\n",
        "# Obtener la media de todos los atributos en la columna \"features\"\n",
        "assembled_df.select(Summarizer.mean(assembled_df[\"features\"])).show(truncate=False)"
      ],
      "execution_count": null,
      "outputs": [
        {
          "output_type": "stream",
          "name": "stdout",
          "text": [
            "+------------------------------------------------------------------------------------------------------------------------------------------------------+\n",
            "|mean(features)                                                                                                                                        |\n",
            "+------------------------------------------------------------------------------------------------------------------------------------------------------+\n",
            "|[107.0934524248912,5.696833247213394,44.7601683029453,1.1237425260205156,155.4148519967525,0.6182180556580793,0.3590462833099579,0.015280135823429542]|\n",
            "+------------------------------------------------------------------------------------------------------------------------------------------------------+\n",
            "\n"
          ]
        }
      ]
    },
    {
      "cell_type": "code",
      "metadata": {
        "id": "2OjnkUmADZDu",
        "colab": {
          "base_uri": "https://localhost:8080/"
        },
        "outputId": "9badebdb-dff4-44d1-a392-048f7c5e0399"
      },
      "source": [
        "# Obtener varios estadísticos: La media, desviación estandar, varianza, valor\n",
        "# mínimo, valor máximo y número de elementos en la muestra.\n",
        "summarizer = Summarizer.metrics(\"mean\", \"std\", \"variance\", \"min\", \"max\", \"count\")\n",
        "assembled_df.select(summarizer.summary(assembled_df[\"features\"])).show(truncate=False)"
      ],
      "execution_count": null,
      "outputs": [
        {
          "output_type": "stream",
          "name": "stdout",
          "text": [
            "+-------------------------------------------------------------------------------------------------------------------------------------------------------------------------------------------------------------------------------------------------------------------------------------------------------------------------------------------------------------------------------------------------------------------------------------------------------------------------------------------------------------------------------------------------------------------------+\n",
            "|aggregate_metrics(features, 1.0)                                                                                                                                                                                                                                                                                                                                                                                                                                                                                                                                         |\n",
            "+-------------------------------------------------------------------------------------------------------------------------------------------------------------------------------------------------------------------------------------------------------------------------------------------------------------------------------------------------------------------------------------------------------------------------------------------------------------------------------------------------------------------------------------------------------------------------+\n",
            "|{[107.0934524248912,5.696833247213394,44.7601683029453,1.1237425260205156,155.4148519967525,0.6182180556580793,0.3590462833099579,0.015280135823429542], [479.8354842651087,33.180229747631216,72.31591218457794,1.3506974934199907,141.3075517939126,0.4858414507240653,0.47973851073429213,0.12266932809251578], [230242.09195993136,1100.9276461055913,5229.591155087589,1.8243837187310459,19967.824193989298,0.2360419152416644,0.23014903868155653,0.015047764054669281], [8.0,1.0,1.0,0.01,0.0,0.0,0.0,0.0], [9999.0,1125.0,706.0,16.22,365.0,1.0,1.0,1.0], 13547}|\n",
            "+-------------------------------------------------------------------------------------------------------------------------------------------------------------------------------------------------------------------------------------------------------------------------------------------------------------------------------------------------------------------------------------------------------------------------------------------------------------------------------------------------------------------------------------------------------------------------+\n",
            "\n"
          ]
        }
      ]
    },
    {
      "cell_type": "markdown",
      "metadata": {
        "id": "WBmENuNdK0-W"
      },
      "source": [
        "Para más información sobre las métricas disponibles, consultar la documentación oficial en:\n",
        "https://spark.apache.org/docs/latest/api/python/reference/api/pyspark.ml.stat.Summarizer.html"
      ]
    },
    {
      "cell_type": "markdown",
      "metadata": {
        "id": "OzTJJ3l7Dpg4"
      },
      "source": [
        "## Muestreo de datos\n",
        "\n",
        "Spark incorpora algunas funciones que permiten realizar un muestreo de los datos. Recordar que denominamos muestreo a la técnica estadística utilizada para seleccionar una muestra a partir de una población. Existen numerosos tipos de muestreo, pero en esta sección se van a introducir los tres tipos muestreos que incorporan los dataframes de Spark:\n",
        "\n",
        "*   **Muestreo aleatorio simple sin remplazo**. Esta técnica consiste en extraer una muestra aleatoria de los elementos de un dataframe sin repetir ninguno de sus elementos, es decir, cada elemento del dataframe original solo puede aparecer como mucho una vez en la muestra.\n",
        "\n",
        "*   **Muestreo aleatorio simple con remplazo**. Esta técnica es similar a la anterior y consiste en extraer una muestra aleatoria de los elementos de un dataframe pero permitiendo repetición de elementos, por lo tanto, cada elemento del dataframe extraido puede volver a aparecer.\n",
        "\n",
        "*   **Muestreo estratificado**. Esta técnica consiste en la división de la población en distintos grupos o clases a partir de alguno de los atributos (columnas) del dataframe. A continuación, se asigna una cuota a cada uno de estos grupos la cual determinará el porcentaje de elementos de dicho grupo que contendrá la muestra generada. Uno de los usos principales de esta técnica es generar una muestra donde se asegure que se mantengan las proporciones de elementos de cada clase sobre el dataset original. También puede usarse para tomar una muestra donde se aumente el número de elementos de alguna de las clases, por ejemplo, la clase minoritaria, solucionando así posibles problemas de balanceamiento de los datos.\n",
        "\n",
        "**Estas técnicas dependen de la generación de números aleatorios para realizar el muestreo, por lo tanto permiten especificar una semilla para el generador de números aleatorios que puede usarse para la reproducibilidad de los resultados.**"
      ]
    },
    {
      "cell_type": "code",
      "metadata": {
        "id": "m5PuOJ8hD0La",
        "colab": {
          "base_uri": "https://localhost:8080/"
        },
        "outputId": "1eb8a12a-e30e-49fb-e305-8b652b192129"
      },
      "source": [
        "# Utilizando muestreo aleatorio simple sin remplazo obtener una muestra con el\n",
        "# 25% de los datos\n",
        "assembled_df.sample(withReplacement=False, fraction=0.25)"
      ],
      "execution_count": null,
      "outputs": [
        {
          "output_type": "execute_result",
          "data": {
            "text/plain": [
              "DataFrame[_c0: string, id: int, host_id: string, host_name: string, neighbourhood_group: string, neighbourhood: string, latitude: string, longitude: double, room_type: string, price: int, minimum_nights: int, number_of_reviews: double, last_review: string, reviews_per_month: double, calculated_host_listings_count: int, availability_365: int, room_type_idx: double, room_type_vec: vector, features: vector]"
            ]
          },
          "metadata": {},
          "execution_count": 31
        }
      ]
    },
    {
      "cell_type": "code",
      "metadata": {
        "colab": {
          "base_uri": "https://localhost:8080/"
        },
        "id": "zawQKvTJawB6",
        "outputId": "b196a417-8156-4f10-cd97-680c5f80ef55"
      },
      "source": [
        "# Utilizando muestreo aleatorio simple con remplazo obtener una muestra con el\n",
        "# 25% de los datos. Fijar la semilla para permitir la reproducibilidad.\n",
        "assembled_df.sample(withReplacement=True, fraction=0.25, seed=1234)"
      ],
      "execution_count": null,
      "outputs": [
        {
          "output_type": "execute_result",
          "data": {
            "text/plain": [
              "DataFrame[_c0: string, id: int, host_id: string, host_name: string, neighbourhood_group: string, neighbourhood: string, latitude: string, longitude: double, room_type: string, price: int, minimum_nights: int, number_of_reviews: double, last_review: string, reviews_per_month: double, calculated_host_listings_count: int, availability_365: int, room_type_idx: double, room_type_vec: vector, features: vector]"
            ]
          },
          "metadata": {},
          "execution_count": 32
        }
      ]
    },
    {
      "cell_type": "code",
      "metadata": {
        "colab": {
          "base_uri": "https://localhost:8080/"
        },
        "id": "g-T27_bqawKY",
        "outputId": "48300336-cc6b-4912-ec4d-14757203a930"
      },
      "source": [
        "# Utilizando muestreo estratificado sobre la columna \"room_type\" obtener una\n",
        "# muestra con el 50% de los datos de cada grupo excepto para \"Entire home/apt\"\n",
        "# del cual solo se debe obtener el 10%.\n",
        "assembled_df.groupBy(\"room_type\").count().show()\n",
        "stratified_sample = assembled_df.sampleBy(col=\"room_type\", fractions={\"Shared room\": 0.5,\n",
        "                                                                      \"Hotel room\": 0.5,\n",
        "                                                                      \"Entire home/apt\": 0.1,\n",
        "                                                                      \"Private room\": 0.5},\n",
        "                                          seed=1234)\n",
        "stratified_sample.groupBy(\"room_type\").count().show()"
      ],
      "execution_count": null,
      "outputs": [
        {
          "output_type": "stream",
          "name": "stdout",
          "text": [
            "+---------------+-----+\n",
            "|      room_type|count|\n",
            "+---------------+-----+\n",
            "|    Shared room|  207|\n",
            "|     Hotel room|  101|\n",
            "|Entire home/apt| 8375|\n",
            "|   Private room| 4864|\n",
            "+---------------+-----+\n",
            "\n",
            "+---------------+-----+\n",
            "|      room_type|count|\n",
            "+---------------+-----+\n",
            "|    Shared room|   89|\n",
            "|     Hotel room|   56|\n",
            "|Entire home/apt|  830|\n",
            "|   Private room| 2449|\n",
            "+---------------+-----+\n",
            "\n"
          ]
        }
      ]
    },
    {
      "cell_type": "markdown",
      "metadata": {
        "id": "FhrKhx1CMYWi"
      },
      "source": [
        "## Cálculo de intervalos de confianza\n",
        "\n",
        "Supongamos que el dataset con el que estamos trabajando supone una muestra del 25% sobre el número total de ofertas realizadas en Airbnb en Madrid el 13 de Abril de 2021. Se quiere por lo tanto, calcular cual es el intervalo de confianza al 95% para el valor medio del precio de las ofertas."
      ]
    },
    {
      "cell_type": "code",
      "metadata": {
        "colab": {
          "base_uri": "https://localhost:8080/"
        },
        "id": "k98Ln1A-aSkt",
        "outputId": "5664031b-9062-4afd-ac1e-de743ebd1067"
      },
      "source": [
        "# Obtenemos el valor medio real para la columna \"price\"\n",
        "assembled_df.select(Summarizer.mean(assembled_df[\"features\"])).collect()[0][0][0]"
      ],
      "execution_count": null,
      "outputs": [
        {
          "output_type": "execute_result",
          "data": {
            "text/plain": [
              "107.0934524248912"
            ]
          },
          "metadata": {},
          "execution_count": 34
        }
      ]
    },
    {
      "cell_type": "code",
      "metadata": {
        "id": "cENEj4Sfd5kW"
      },
      "source": [
        "# Como hemos mencionado, estamos trabajando con una muestra el 25% de los datos\n",
        "sample_df = assembled_df.sample(withReplacement=False, fraction=0.25, seed=1234)"
      ],
      "execution_count": null,
      "outputs": []
    },
    {
      "cell_type": "code",
      "metadata": {
        "id": "5KwWmwwulkw-",
        "colab": {
          "base_uri": "https://localhost:8080/"
        },
        "outputId": "11e35574-63ff-4e5c-f1fc-154e803a008d"
      },
      "source": [
        "import numpy as np\n",
        "\n",
        "x_mean = sample_df.select(Summarizer.mean(sample_df[\"features\"])).collect()[0][0][0]\n",
        "x_std = sample_df.select(Summarizer.std(sample_df[\"features\"])).collect()[0][0][0]\n",
        "sqrt_n = np.sqrt(sample_df.select(Summarizer.count(sample_df[\"features\"])).collect()[0][0])\n",
        "\n",
        "# El intervalo de confianza al 95% para la columna \"price\", sería el siguiente:\n",
        "(x_mean-1.96*x_std/sqrt_n, x_mean+1.96*x_std/sqrt_n)"
      ],
      "execution_count": null,
      "outputs": [
        {
          "output_type": "execute_result",
          "data": {
            "text/plain": [
              "(94.15093981514678, 129.38358399437698)"
            ]
          },
          "metadata": {},
          "execution_count": 36
        }
      ]
    },
    {
      "cell_type": "code",
      "metadata": {
        "colab": {
          "base_uri": "https://localhost:8080/"
        },
        "id": "5L_-sR2yr3ND",
        "outputId": "0793acb0-6b11-42bc-8915-1316ec259e2c"
      },
      "source": [
        "# ¿Y el intervalo de confianza al 99%?\n",
        "(x_mean-2.575*x_std/sqrt_n, x_mean+2.575*x_std/sqrt_n)"
      ],
      "execution_count": null,
      "outputs": [
        {
          "output_type": "execute_result",
          "data": {
            "text/plain": [
              "(88.62336936355837, 134.9111544459654)"
            ]
          },
          "metadata": {},
          "execution_count": 37
        }
      ]
    },
    {
      "cell_type": "markdown",
      "metadata": {
        "id": "2Qoq5WRTEj0L"
      },
      "source": [
        "## Generación de datos aleatoria\n",
        "\n",
        "En determinadas ocasiones nos interesará generar datos de manera aleatoria, ya sea para simular datasets o para probar diversas técnicas de machine learning o visualización en Spark. En esta sección vamos a estudiar como generar variables aleatorias en Spark.\n",
        "\n",
        "Para ello, en este ejemplo vamos a crear un vector RDD de Spark usando una distribución uniforme. A continuación, convertiremos esta estructura RDD a dataframe. Recordar que una distribución uniforme es una distribución continua que modela un intervalo de valores, definidos mediante una cota inferior y otra superor, con igual probabilidad. Spark define el método uniformVectorRDD del paquete mlllib.random.RandomRDDs, el cual prmite generar un vector de cualquier longitud en el que cada elemento es una muestra extraida de una distribución uniforme en el intervalo [0, 1]."
      ]
    },
    {
      "cell_type": "code",
      "metadata": {
        "id": "RD0mz220FyQY",
        "colab": {
          "base_uri": "https://localhost:8080/"
        },
        "outputId": "c634ec5d-7029-459b-e2b3-1fa6c317b8f4"
      },
      "source": [
        "# Crear un dataframe con 10 filas que consista en una columna \"features\" que\n",
        "# contenga un vector de 3 elementos aleatorios  siguiendo una distribución\n",
        "# uniforme entre 0 y 50.\n",
        "from pyspark.mllib.linalg import DenseVector\n",
        "from pyspark.mllib.random import RandomRDDs\n",
        "\n",
        "data  = RandomRDDs.uniformVectorRDD(sc, 10, 3).map(lambda a : DenseVector(a * 50)).map(lambda a : (a,)).toDF(['features'])\n",
        "\n",
        "data.show(truncate=False)"
      ],
      "execution_count": null,
      "outputs": [
        {
          "output_type": "stream",
          "name": "stdout",
          "text": [
            "+----------------------------------------------------------+\n",
            "|features                                                  |\n",
            "+----------------------------------------------------------+\n",
            "|[28.126002032326227,15.116571374047455,30.715970595963654]|\n",
            "|[9.214264825477558,32.16179005968702,42.24130920277896]   |\n",
            "|[8.316438800009474,33.06457200065707,36.22030619751815]   |\n",
            "|[3.877379506684525,14.12423762953528,42.90632050390711]   |\n",
            "|[13.51953103723844,19.81264213331067,26.698373991707324]  |\n",
            "|[28.10391516467482,8.269348297698082,23.01247510310992]   |\n",
            "|[33.53642419203234,46.91287909149954,11.967805647031298]  |\n",
            "|[27.670085006209227,17.874245310790837,39.362204224996816]|\n",
            "|[1.7247281818983995,34.95837439493286,0.3452169739323052] |\n",
            "|[49.43573132612014,14.033745571726314,49.46648733291233]  |\n",
            "+----------------------------------------------------------+\n",
            "\n"
          ]
        }
      ]
    },
    {
      "cell_type": "markdown",
      "metadata": {
        "id": "vOcg6zdsV9Ar"
      },
      "source": [
        "Se pueden definir vectores usando distintos tipos de distribuciones. Para más información, se remite al lector a la documentación oficial:\n",
        "[https://spark.apache.org/docs/2.0.0/api/python/pyspark.mllib.html#pyspark.mllib.random.RandomRDDs](https://spark.apache.org/docs/2.0.0/api/python/pyspark.mllib.html#pyspark.mllib.random.RandomRDDs)"
      ]
    },
    {
      "cell_type": "code",
      "metadata": {
        "id": "0F-LZq3jWZ6p",
        "colab": {
          "base_uri": "https://localhost:8080/"
        },
        "outputId": "396c75a0-bd5d-457c-a687-f369637a0cbd"
      },
      "source": [
        "# Crear un dataframe con 15 filas que consista en una columna \"features\" que\n",
        "# contenga un vector de 4 elementos aleatorios siguiendo una distribución\n",
        "# normal de media 5 y desviación estándar 1\n",
        "data  = RandomRDDs.normalVectorRDD(sc, 15, 4).map(lambda a : DenseVector(a + 5)).map(lambda a : (a,)).toDF(['features'])\n",
        "\n",
        "data.show(truncate=False)"
      ],
      "execution_count": null,
      "outputs": [
        {
          "output_type": "stream",
          "name": "stdout",
          "text": [
            "+---------------------------------------------------------------------------+\n",
            "|features                                                                   |\n",
            "+---------------------------------------------------------------------------+\n",
            "|[4.484527163066279,4.720929608245724,4.10573695047089,4.487977627202438]   |\n",
            "|[5.6886874582026845,4.093259602094934,5.7492197089624355,4.500949779759804]|\n",
            "|[2.8913057374312507,6.790204358611488,2.5516468852472474,7.757817956430346]|\n",
            "|[5.539384067195628,5.496550003891268,3.930573815428372,4.452604068543294]  |\n",
            "|[4.628129307370515,4.692848954330324,4.485639554168314,4.850757459442869]  |\n",
            "|[4.962923962131476,4.740316300993907,7.0204172607711985,6.290212878602367] |\n",
            "|[5.212254033900162,5.963772491206412,3.8452931139299,4.2495365401675365]   |\n",
            "|[4.205987281061795,6.284076134773553,4.514007439147166,4.906099405209171]  |\n",
            "|[5.65555330317417,6.422278354687711,5.005794103949935,4.195079691933591]   |\n",
            "|[3.7007104627917204,4.547904890434257,6.015100162635221,5.543992310868891] |\n",
            "|[6.7196418670218625,4.861122693578156,2.6334169646251344,4.157543048214889]|\n",
            "|[5.3804978275909265,7.255046375513466,4.969180108089857,5.832227875572133] |\n",
            "|[4.052679893147014,4.5529826915090785,4.9806560320962685,5.18697417394445] |\n",
            "|[3.7335506654313035,4.095549686619389,5.541624333610316,6.7164502891219495]|\n",
            "|[6.130531971807691,4.274246873534039,6.392401067973101,5.5401351215829635] |\n",
            "+---------------------------------------------------------------------------+\n",
            "\n"
          ]
        }
      ]
    },
    {
      "cell_type": "markdown",
      "metadata": {
        "id": "VbdjWwTEJXRb"
      },
      "source": [
        "## Correlación entre las variables\n",
        "\n",
        "Covarianza:\n",
        "$cov(x, y) = \\frac{1}{n}\\sum_{i=1}^{n}\\left(x_{i}-\\bar{x}\\right) \\left(y_{i}-\\bar{y}\\right)$\n",
        "\n",
        "\n",
        "$\\sigma_x = \\sqrt{\\frac{1}{n} \\sum_{i=1}^{n}(x_i - \\bar{x})^2}$\n",
        "$\\sigma_y = \\sqrt{\\frac{1}{n} \\sum_{i=1}^{n}(y_i - \\bar{y})^2}$\n",
        "\n",
        "Coeficiente de correlación de pearson:\n",
        "$r_{x y} = \\frac{cov(x,y)}{\\sigma_x \\sigma_y} =\n",
        "\\frac{\\frac{1}{n}\\sum_{i=1}^{n}\\left(x_{i}-\\bar{x}\\right) \\left(y_{i}-\\bar{y}\\right)}{\\sqrt{\\frac{1}{n} \\sum_{i=1}^{n}(x_i - \\bar{x})^2}  \\sqrt{\\frac{1}{n} \\sum_{i=1}^{n}(y_i - \\bar{y})^2}} =\n",
        "\\frac{\\sum_{i=1}^{n}\\left(x_{i}-\\bar{x}\\right)\\left(y_{i}-\\bar{y}\\right)}{\\sqrt{\\sum_{i=1}^{n}\\left(x_{i}-\\bar{x}\\right)^{2} \\sum_{i=1}^{n}\\left(y_{i}-\\bar{y}\\right)^{2}}}$"
      ]
    },
    {
      "cell_type": "code",
      "metadata": {
        "id": "ULaCQagjyIR5",
        "colab": {
          "base_uri": "https://localhost:8080/",
          "height": 410
        },
        "outputId": "51245c31-62f1-4ec3-c866-f54b6d27cb68"
      },
      "source": [
        "# Generamos variables aleatorias correlacionadas\n",
        "import numpy as np\n",
        "import matplotlib.pyplot as plt\n",
        "\n",
        "# Establecemos una semilla (para permitir replicabilidad)\n",
        "np.random.seed(1)\n",
        "\n",
        "# Generamos los datos\n",
        "variable1 = 2 * np.random.randn(1000) + 10\n",
        "variable2 = variable1 + (np.random.randn(1000) + 5)\n",
        "variable3 = (np.random.randn(1000) + 5)\n",
        "variable4 = -1.2*variable1 + (0.9*np.random.randn(1000) + 5)\n",
        "\n",
        "# Estadísticos descriptivos\n",
        "print('Variable 1: mean=%.3f stdv=%.3f' % (np.mean(variable1), np.std(variable1)))\n",
        "print('Variable 2: mean=%.3f stdv=%.3f' % (np.mean(variable2), np.std(variable2)))\n",
        "print('Variable 3: mean=%.3f stdv=%.3f' % (np.mean(variable3), np.std(variable3)))\n",
        "print('Variable 4: mean=%.3f stdv=%.3f' % (np.mean(variable4), np.std(variable4)))\n",
        "\n",
        "# Dibujamos los datos\n",
        "fig, (ax1, ax2, ax3) = plt.subplots(1, 3)\n",
        "fig.set_size_inches(11, 3)\n",
        "fig.suptitle('Ejemplo de dos variables con correlación positiva, sin correlación y correlación negativa')\n",
        "ax1.scatter(variable1, variable2)\n",
        "ax2.scatter(variable1, variable3)\n",
        "ax3.scatter(variable1, variable4)"
      ],
      "execution_count": null,
      "outputs": [
        {
          "output_type": "stream",
          "name": "stdout",
          "text": [
            "Variable 1: mean=10.078 stdv=1.962\n",
            "Variable 2: mean=15.105 stdv=2.236\n",
            "Variable 3: mean=4.978 stdv=0.972\n",
            "Variable 4: mean=-7.090 stdv=2.470\n"
          ]
        },
        {
          "output_type": "execute_result",
          "data": {
            "text/plain": [
              "<matplotlib.collections.PathCollection at 0x7fda59c3c190>"
            ]
          },
          "metadata": {},
          "execution_count": 40
        },
        {
          "output_type": "display_data",
          "data": {
            "text/plain": [
              "<Figure size 1100x300 with 3 Axes>"
            ],
            "image/png": "[encoded data removed]"
          },
          "metadata": {}
        }
      ]
    },
    {
      "cell_type": "code",
      "metadata": {
        "colab": {
          "base_uri": "https://localhost:8080/"
        },
        "id": "47rMSSYrwN7I",
        "outputId": "7aac25b7-5a4b-4d2f-bf0e-5260f84c448c"
      },
      "source": [
        "# Construimos un dataframe con nuestras variables\n",
        "np_data = np.concatenate((variable1.reshape(-1,1), variable2.reshape(-1,1),\n",
        "                          variable3.reshape(-1,1), variable4.reshape(-1,1)),\n",
        "                         axis = 1)\n",
        "data = sqlContext.createDataFrame(np_data.tolist(), [\"variable1\", \"variable2\", \"variable3\", \"variable4\"])\n",
        "data.show()"
      ],
      "execution_count": null,
      "outputs": [
        {
          "output_type": "stream",
          "name": "stdout",
          "text": [
            "+------------------+------------------+------------------+-------------------+\n",
            "|         variable1|         variable2|         variable3|          variable4|\n",
            "+------------------+------------------+------------------+-------------------+\n",
            "|13.248690727326483|18.095454565559393| 5.489516618141787|-10.967825133972445|\n",
            "| 8.776487172699849|11.343978660052736| 5.238795857522951| -5.344741866658123|\n",
            "| 8.943656495473089|14.451640832088469| 4.551888193906485|-4.8448114591217415|\n",
            "| 7.854062755687659|12.530030426667652| 4.389204997151587| -3.135394522865262|\n",
            "|11.730815258649358|15.219738650739155|2.9700549308147117|  -8.60154566081547|\n",
            "| 5.396922606239435| 9.525500540644476| 5.607946586089135| -1.807265904828907|\n",
            "| 13.48962352843296| 17.62479358696737|  4.64589111644031|-10.564999460687002|\n",
            "| 8.477586198209794|14.086335280551495| 5.152581490121495| -5.891615511290131|\n",
            "|10.638078192114197|16.199716288637603| 5.501274849040839| -7.573257876013867|\n",
            "|  9.50125924904518| 16.01600963152743|4.2135972293046375|-4.7905327622684775|\n",
            "|12.924215874089949|18.572140686402868|  6.01699568567257|  -9.18284250994982|\n",
            "| 5.879718581004692| 9.528069195687017| 5.113110581874029| -2.327809159244268|\n",
            "| 9.355165591972986|12.945956315500794| 6.496995247661273|-5.3528713763452815|\n",
            "|  9.23189129066317|  15.3626166451923| 5.168937667856272| -6.427394867269233|\n",
            "|12.267538884670875| 18.83422508576702| 5.318624695320002|-10.274642070953746|\n",
            "| 7.800217465371938|12.562469367226575| 4.726622861604381| -5.808664589394968|\n",
            "| 9.655143584899129| 15.21394657308424| 6.476413992844696| -6.102971155080707|\n",
            "| 8.244283164157256|11.739391880377744| 2.896507218198173| -4.617793091239408|\n",
            "|10.084427493431185|  13.1405057350994| 4.467168038879447| -6.215268376662859|\n",
            "|11.165630427431644|  14.9916067508888| 4.694946006051955|-7.6734265802251835|\n",
            "+------------------+------------------+------------------+-------------------+\n",
            "only showing top 20 rows\n",
            "\n"
          ]
        }
      ]
    },
    {
      "cell_type": "code",
      "metadata": {
        "colab": {
          "base_uri": "https://localhost:8080/"
        },
        "id": "qCkhwcPazHaJ",
        "outputId": "db1a1b89-c0cb-473e-9bb6-c47f9e4a4a0f"
      },
      "source": [
        "# Lo convertimos a vector\n",
        "from pyspark.ml.feature import VectorAssembler\n",
        "assembler_2 = VectorAssembler(\n",
        "  inputCols = [\"variable1\", \"variable2\", \"variable3\", \"variable4\"],\n",
        "  outputCol = \"features\"\n",
        ")\n",
        "data = assembler_2.transform(data)\n",
        "\n",
        "# Mostramos la nueva columa \"features\" para las 10 primeras filas del dataset\n",
        "data.select(\"features\").show(10, truncate=False)"
      ],
      "execution_count": null,
      "outputs": [
        {
          "output_type": "stream",
          "name": "stdout",
          "text": [
            "+-----------------------------------------------------------------------------+\n",
            "|features                                                                     |\n",
            "+-----------------------------------------------------------------------------+\n",
            "|[13.248690727326483,18.095454565559393,5.489516618141787,-10.967825133972445]|\n",
            "|[8.776487172699849,11.343978660052736,5.238795857522951,-5.344741866658123]  |\n",
            "|[8.943656495473089,14.451640832088469,4.551888193906485,-4.8448114591217415] |\n",
            "|[7.854062755687659,12.530030426667652,4.389204997151587,-3.135394522865262]  |\n",
            "|[11.730815258649358,15.219738650739155,2.9700549308147117,-8.60154566081547] |\n",
            "|[5.396922606239435,9.525500540644476,5.607946586089135,-1.807265904828907]   |\n",
            "|[13.48962352843296,17.62479358696737,4.64589111644031,-10.564999460687002]   |\n",
            "|[8.477586198209794,14.086335280551495,5.152581490121495,-5.891615511290131]  |\n",
            "|[10.638078192114197,16.199716288637603,5.501274849040839,-7.573257876013867] |\n",
            "|[9.50125924904518,16.01600963152743,4.2135972293046375,-4.7905327622684775]  |\n",
            "+-----------------------------------------------------------------------------+\n",
            "only showing top 10 rows\n",
            "\n"
          ]
        }
      ]
    },
    {
      "cell_type": "code",
      "metadata": {
        "colab": {
          "base_uri": "https://localhost:8080/"
        },
        "id": "-arA2X5Wu68s",
        "outputId": "24293f35-2648-490f-f652-e4c1b8331515"
      },
      "source": [
        "# Como ya tenemos el vector podemos aplicar las técnicas\n",
        "from pyspark.ml.stat import Correlation\n",
        "pearson_corr = Correlation.corr(data, 'features', 'pearson').collect()[0][0]\n",
        "print(pearson_corr)"
      ],
      "execution_count": null,
      "outputs": [
        {
          "output_type": "stream",
          "name": "stdout",
          "text": [
            "DenseMatrix([[ 1.        ,  0.88761191, -0.05067561, -0.9302911 ],\n",
            "             [ 0.88761191,  1.        , -0.05924545, -0.82133573],\n",
            "             [-0.05067561, -0.05924545,  1.        ,  0.05990012],\n",
            "             [-0.9302911 , -0.82133573,  0.05990012,  1.        ]])\n"
          ]
        }
      ]
    },
    {
      "cell_type": "code",
      "metadata": {
        "id": "IVh_hb8GJdrE",
        "colab": {
          "base_uri": "https://localhost:8080/"
        },
        "outputId": "53df3ce1-ccb9-4a80-9196-ce1276b4b1b9"
      },
      "source": [
        "# Determinar la correlación entre las variables del dataset de Airbnb\n",
        "pearson_corr = Correlation.corr(assembled_df, 'features', 'pearson').collect()[0][0]\n",
        "print(pearson_corr)"
      ],
      "execution_count": null,
      "outputs": [
        {
          "output_type": "stream",
          "name": "stdout",
          "text": [
            "DenseMatrix([[ 1.00000000e+00,  5.26152400e-03,  2.15644512e-02,\n",
            "               2.73182960e-03, -2.48676580e-02,  9.15524830e-02,\n",
            "              -9.91497245e-02, -1.70673416e-02],\n",
            "             [ 5.26152400e-03,  1.00000000e+00, -1.91520083e-02,\n",
            "              -3.50905820e-02,  1.79318662e-02,  6.48462459e-03,\n",
            "              -7.16050371e-04, -1.49677383e-02],\n",
            "             [ 2.15644512e-02, -1.91520083e-02,  1.00000000e+00,\n",
            "               8.24975920e-01,  6.88681487e-02,  1.41329911e-01,\n",
            "              -1.25957547e-01, -5.02585113e-02],\n",
            "             [ 2.73182960e-03, -3.50905820e-02,  8.24975920e-01,\n",
            "               1.00000000e+00,  7.76967491e-02,  1.79152509e-01,\n",
            "              -1.64282995e-01, -5.18550134e-02],\n",
            "             [-2.48676580e-02,  1.79318662e-02,  6.88681487e-02,\n",
            "               7.76967491e-02,  1.00000000e+00,  4.14523381e-02,\n",
            "              -4.90909392e-02,  5.45180314e-03],\n",
            "             [ 9.15524830e-02,  6.48462459e-03,  1.41329911e-01,\n",
            "               1.79152509e-01,  4.14523381e-02,  1.00000000e+00,\n",
            "              -9.52412381e-01, -1.58515016e-01],\n",
            "             [-9.91497245e-02, -7.16050371e-04, -1.25957547e-01,\n",
            "              -1.64282995e-01, -4.90909392e-02, -9.52412381e-01,\n",
            "               1.00000000e+00, -9.32328887e-02],\n",
            "             [-1.70673416e-02, -1.49677383e-02, -5.02585113e-02,\n",
            "              -5.18550134e-02,  5.45180314e-03, -1.58515016e-01,\n",
            "              -9.32328887e-02,  1.00000000e+00]])\n"
          ]
        }
      ]
    },
    {
      "cell_type": "markdown",
      "metadata": {
        "id": "Mb7bgB5_M0KC"
      },
      "source": [
        "## Regresión"
      ]
    },
    {
      "cell_type": "code",
      "metadata": {
        "colab": {
          "base_uri": "https://localhost:8080/",
          "height": 423
        },
        "id": "e9EyiKVP43w_",
        "outputId": "1d9c41ac-8356-47a1-9929-60e7efd8583f"
      },
      "source": [
        "# Generamos variables aleatorias correlacionadas\n",
        "import numpy as np\n",
        "import matplotlib.pyplot as plt\n",
        "\n",
        "# Establecemos una semilla (para permitir replicabilidad)\n",
        "np.random.seed(1)\n",
        "\n",
        "# Generamos los datos\n",
        "variable1 = 30 + 5*np.random.randn(100)\n",
        "variable2 = 60 + 20 * variable1 + 50*np.random.randn(100)\n",
        "\n",
        "# Estadísticos descriptivos\n",
        "print('Variable 1: mean=%.3f stdv=%.3f' % (np.mean(variable1), np.std(variable1)))\n",
        "\n",
        "# Dibujamos los datos\n",
        "fig, ax1 = plt.subplots(1, 1)\n",
        "fig.set_size_inches(7, 4)\n",
        "ax1.set_xlabel('Temperatura')\n",
        "ax1.set_ylabel('Ventas de helados')\n",
        "ax1.scatter(variable1, variable2)"
      ],
      "execution_count": null,
      "outputs": [
        {
          "output_type": "stream",
          "name": "stdout",
          "text": [
            "Variable 1: mean=30.303 stdv=4.426\n"
          ]
        },
        {
          "output_type": "execute_result",
          "data": {
            "text/plain": [
              "<matplotlib.collections.PathCollection at 0x7fda59179690>"
            ]
          },
          "metadata": {},
          "execution_count": 45
        },
        {
          "output_type": "display_data",
          "data": {
            "text/plain": [
              "<Figure size 700x400 with 1 Axes>"
            ],
            "image/png": "[encoded data removed]"
          },
          "metadata": {}
        }
      ]
    },
    {
      "cell_type": "code",
      "metadata": {
        "colab": {
          "base_uri": "https://localhost:8080/"
        },
        "id": "zIGzFgyLafZm",
        "outputId": "c70a9c1c-1b19-4ea4-ec00-8d0fb29570e0"
      },
      "source": [
        "# En este caso definimos un vector con cada una de las variables independientes (en este caso solo temperatura) dejando la variable dependiente (ventas) fuera\n",
        "from pyspark.ml.feature import VectorAssembler\n",
        "np_data = np.concatenate((variable1.reshape(-1,1), variable2.reshape(-1,1)),\n",
        "                         axis = 1)\n",
        "data = sqlContext.createDataFrame(np_data.tolist(), [\"temperatura\", \"ventas\"])\n",
        "\n",
        "assembler_3 = VectorAssembler(\n",
        "  inputCols = [\"temperatura\"],\n",
        "  outputCol = \"temperatura_vect\"\n",
        ")\n",
        "data = assembler_3.transform(data)\n",
        "\n",
        "data.show(10, truncate=False)"
      ],
      "execution_count": null,
      "outputs": [
        {
          "output_type": "stream",
          "name": "stdout",
          "text": [
            "+------------------+-----------------+--------------------+\n",
            "|temperatura       |ventas           |temperatura_vect    |\n",
            "+------------------+-----------------+--------------------+\n",
            "|38.121726818316205|800.0781081270242|[38.121726818316205]|\n",
            "|26.941217931749623|660.0497438752674|[26.941217931749623]|\n",
            "|27.35914123868272 |627.3574068631943|[27.35914123868272] |\n",
            "|24.635156889219147|582.3820639462364|[24.635156889219147]|\n",
            "|34.327038146623394|691.7951706454159|[34.327038146623394]|\n",
            "|18.492306515598585|438.3152519649051|[18.492306515598585]|\n",
            "|38.7240588210824  |871.5089989764617|[38.7240588210824]  |\n",
            "|26.193965495524488|536.194279820093 |[26.193965495524488]|\n",
            "|31.595195480285494|678.5929843055287|[31.595195480285494]|\n",
            "|28.75314812261295 |636.6936897869268|[28.75314812261295] |\n",
            "+------------------+-----------------+--------------------+\n",
            "only showing top 10 rows\n",
            "\n"
          ]
        }
      ]
    },
    {
      "cell_type": "code",
      "metadata": {
        "colab": {
          "base_uri": "https://localhost:8080/"
        },
        "id": "nSHgoyye2RPn",
        "outputId": "b3be01bc-6815-4337-ab90-de03177f6f8c"
      },
      "source": [
        "from pyspark.ml.regression import LinearRegression\n",
        "\n",
        "# Aplicar regresión lineal utilizando el método de mínimos cuadrados\n",
        "lr = LinearRegression(featuresCol=\"temperatura_vect\", labelCol=\"ventas\")\n",
        "lr_model = lr.fit(data)\n",
        "\n",
        "print(\"Termino de interceptación: \" + str(lr_model.intercept))\n",
        "print(\"Coeficientes: \" + str(lr_model.coefficients))"
      ],
      "execution_count": null,
      "outputs": [
        {
          "output_type": "stream",
          "name": "stdout",
          "text": [
            "Termino de interceptación: 38.72253638955182\n",
            "Coeficientes: [20.954271336511948]\n"
          ]
        }
      ]
    },
    {
      "cell_type": "code",
      "metadata": {
        "colab": {
          "base_uri": "https://localhost:8080/",
          "height": 279
        },
        "id": "qyaAI9e-3EoQ",
        "outputId": "c6d09206-3f27-49cb-cdb6-eb71b9e7ce53"
      },
      "source": [
        "# Dibujamos los datos\n",
        "fig, ax1 = plt.subplots(1, 1)\n",
        "fig.set_size_inches(7, 4)\n",
        "ax1.set_xlabel('Temperatura')\n",
        "ax1.set_ylabel('Ventas de helados')\n",
        "ax1.scatter(variable1, variable2)\n",
        "\n",
        "# Dibujamos la recta de regresión\n",
        "y = lr_model.intercept + lr_model.coefficients[0]*variable1\n",
        "plt.plot(variable1, y, 'r-')\n",
        "plt.savefig(\"regresion.svg\")"
      ],
      "execution_count": null,
      "outputs": [
        {
          "output_type": "display_data",
          "data": {
            "text/plain": [
              "<Figure size 504x288 with 1 Axes>"
            ],
            "image/png": "[encoded data removed]"
          },
          "metadata": {
            "needs_background": "light"
          }
        }
      ]
    }
  ]
}