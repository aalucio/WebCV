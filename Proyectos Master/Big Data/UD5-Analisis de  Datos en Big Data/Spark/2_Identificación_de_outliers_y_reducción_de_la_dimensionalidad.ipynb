{
  "cells": [
    {
      "cell_type": "markdown",
      "metadata": {
        "id": "K135r9CHdKMO"
      },
      "source": [
        "# 2 - Identificación de outliers y reducción de la dimensionalidad"
      ]
    },
    {
      "cell_type": "markdown",
      "metadata": {
        "id": "OWRB7Xk02Uby"
      },
      "source": [
        "# Montar directorio de Google Drive"
      ]
    },
    {
      "cell_type": "code",
      "execution_count": null,
      "metadata": {
        "colab": {
          "base_uri": "https://localhost:8080/"
        },
        "id": "BPipnT3Uw1XB",
        "outputId": "e4ec7edd-35b2-4aaa-8dcf-b5a13a62397f"
      },
      "outputs": [
        {
          "name": "stdout",
          "output_type": "stream",
          "text": [
            "Mounted at /content/drive\n",
            "/content/drive/MyDrive/Colab Notebooks/iabd-sbd\n"
          ]
        }
      ],
      "source": [
        "## Solicitar acceso y montar en el sistema tu directorio de Google Drive\n",
        "# Esto permitirá la persistencia de datos entre distintas sesiones\n",
        "import os, sys\n",
        "from google.colab import drive\n",
        "drive.mount('/content/drive')\n",
        "\n",
        "# Creamos un directorio para este cuaderno y lo asociamos\n",
        "drive_path = '/content/drive/MyDrive/Colab Notebooks/iabd-sbd'\n",
        "nb_path = '/content/iabd-sbd'\n",
        "\n",
        "if not os.path.exists(drive_path):\n",
        "    os.makedirs(drive_path)\n",
        "os.symlink(drive_path, nb_path)\n",
        "sys.path.insert(0,nb_path)\n",
        "\n",
        "%cd $nb_path"
      ]
    },
    {
      "cell_type": "markdown",
      "metadata": {
        "id": "8YyotQkKgM3q"
      },
      "source": [
        "# Instalación de spark en Google Colab"
      ]
    },
    {
      "cell_type": "code",
      "execution_count": null,
      "metadata": {
        "id": "3pAU46QdfELH"
      },
      "outputs": [],
      "source": [
        "# Spark está escrito en el lenguaje de programación Scala, por lo que requiere\n",
        "# de una máquina virtual de Java (JVM) para funcionar. Por lo tanto, lo primero\n",
        "# es instalar java:\n",
        "!apt-get install openjdk-8-jdk-headless -qq > /dev/null"
      ]
    },
    {
      "cell_type": "code",
      "execution_count": null,
      "metadata": {
        "colab": {
          "background_save": true,
          "base_uri": "https://localhost:8080/"
        },
        "id": "-4HNGt9U0JDO",
        "outputId": "e88c3665-1ee8-4275-ad55-af27a6da0fe4"
      },
      "outputs": [
        {
          "name": "stdout",
          "output_type": "stream",
          "text": [
            "\u001b[2K     \u001b[90m━━━━━━━━━━━━━━━━━━━━━━━━━━━━━━━━━━━━━━━\u001b[0m \u001b[32m310.8/310.8 MB\u001b[0m \u001b[31m4.7 MB/s\u001b[0m eta \u001b[36m0:00:00\u001b[0m\n",
            "\u001b[?25h  Preparing metadata (setup.py) ... \u001b[?25l\u001b[?25hdone\n",
            "\u001b[2K     \u001b[90m━━━━━━━━━━━━━━━━━━━━━━━━━━━━━━━━━━━━━━\u001b[0m \u001b[32m200.5/200.5 kB\u001b[0m \u001b[31m16.9 MB/s\u001b[0m eta \u001b[36m0:00:00\u001b[0m\n",
            "\u001b[?25h  Building wheel for pyspark (setup.py) ... \u001b[?25l\u001b[?25hdone\n",
            "\u001b[33mWARNING: Target directory /content/iabd-sbd/py4j already exists. Specify --upgrade to force replacement.\u001b[0m\u001b[33m\n",
            "\u001b[0m\u001b[33mWARNING: Target directory /content/iabd-sbd/pyspark already exists. Specify --upgrade to force replacement.\u001b[0m\u001b[33m\n",
            "\u001b[0m\u001b[33mWARNING: Target directory /content/iabd-sbd/py4j-0.10.9.7.dist-info already exists. Specify --upgrade to force replacement.\u001b[0m\u001b[33m\n",
            "\u001b[0m\u001b[33mWARNING: Target directory /content/iabd-sbd/pyspark-3.4.0.dist-info already exists. Specify --upgrade to force replacement.\u001b[0m\u001b[33m\n",
            "\u001b[0m\u001b[33mWARNING: Target directory /content/iabd-sbd/bin already exists. Specify --upgrade to force replacement.\u001b[0m\u001b[33m\n",
            "\u001b[0m\u001b[33mWARNING: Target directory /content/iabd-sbd/share already exists. Specify --upgrade to force replacement.\u001b[0m\u001b[33m\n",
            "\u001b[0m"
          ]
        }
      ],
      "source": [
        "## Instalación de Apache Spark en Google Colab (Ejecutar solo si no se ha realizado nunca)\n",
        "# Nota: Puede tardar unos minutos (se paciente)\n",
        "# El siguiente paso es elegir una versión reciente de spark\n",
        "# En este notebook, se usará spark versión 3.1.2, la cual puede descargarse en:\n",
        "spark_file = 'spark-3.3.2-bin-hadoop3.tgz'\n",
        "spark_url = 'https://archive.apache.org/dist/spark/spark-3.3.2/' + spark_file\n",
        "\n",
        "# A continuación, descargamos la versión elegida de spark:\n",
        "import os # Libreria de manejo del sistema operativo\n",
        "os.system(\"wget -q {spark_url} -P \" + nb_path) # Realizamos la descarga\n",
        "os.system(\"tar xf \" + nb_path + \"/\" + spark_file) # Descomprimimos el fichero .tgz\n",
        "\n",
        "# Realizamos la instalación de pyspark utilizando la herramienta pip\n",
        "!pip install --target=$nb_path -q pyspark\n",
        "!pip install -q findspark"
      ]
    },
    {
      "cell_type": "code",
      "execution_count": null,
      "metadata": {
        "id": "HW4HrfDG-4k8"
      },
      "outputs": [],
      "source": [
        "# Damos permisos de ejecución\n",
        "!chmod -R +x ./pyspark/\n",
        "\n",
        "# Finalmente, es necesario definir algunas variables de entorno en el sistema\n",
        "# operativo para poder usar spark correctamente:\n",
        "os.environ[\"JAVA_HOME\"] = \"/usr/lib/jvm/java-8-openjdk-amd64\"\n",
        "os.environ[\"SPARK_HOME\"] = nb_path + \"/pyspark\""
      ]
    },
    {
      "cell_type": "markdown",
      "metadata": {
        "id": "gz4dKOhgr6Za"
      },
      "source": [
        "## 2.1. Identificación de outliers\n",
        "\n",
        "### Generación de un dataset simulado\n",
        "Para este primer ejemplo generaremos una muestra de $100$ elementos de una población normal de media $50$ y desviación estandar de $10$. A continuación introduciremos dos outliers en la muestra, uno teniendo un valor muy pequeño y otro muy grande."
      ]
    },
    {
      "cell_type": "code",
      "execution_count": null,
      "metadata": {
        "colab": {
          "base_uri": "https://localhost:8080/"
        },
        "id": "1Q0zo23wup_F",
        "outputId": "09f92a3c-ae43-4063-8dd5-31d267507062"
      },
      "outputs": [
        {
          "data": {
            "text/plain": [
              "array([ 63.31586504,  57.15278974,  34.54599708,  49.9161615 ,\n",
              "        56.21335974,  42.79914439,  52.65511586,  51.08548526,\n",
              "        50.04291431,  48.25399789,  54.3302619 ,  62.03037374,\n",
              "        40.34934329,  60.28274078,  52.2863013 ,  54.45137613,\n",
              "        38.63397788,  51.35136878,  64.84537002,  39.20195114,\n",
              "        30.22271719,  32.56627704,  52.66070164,  73.84967331,\n",
              "        61.23691253,  66.72622213,  50.99149216,  63.97996377,\n",
              "        47.28752012,  56.13204185,  47.32682811,  44.50690986,\n",
              "        51.32708296,  45.23857985,  63.08473081,  51.95013279,\n",
              "        54.00209988,  46.62367663,  62.56472264,  42.68030498,\n",
              "        56.60231551,  46.49128109,  40.6056664 ,  45.10662783,\n",
              "        41.95408858,  47.87302361,  46.60859754,  53.12169936,\n",
              "        55.6515267 ,  48.52579742, 100.        ,  52.89094204,\n",
              "        44.60120929,  57.0816002 ,  58.42224738,  52.03580797,\n",
              "        73.94703665,  59.17458938,  48.87727529,  46.37819553,\n",
              "        47.67817744,  44.982711  ,  61.28785153,  43.0218997 ,\n",
              "        49.18877816,  44.70703919,  60.46182857,  35.81443971,\n",
              "        46.37500817,  48.78094309,  53.19356421,  54.60902902,\n",
              "        47.84210108,  59.89072457,  53.14753779,   1.        ,\n",
              "        34.91678513,  56.20600663,  39.54867462,  42.01991182,\n",
              "        69.85084591,  67.44814148,  31.43814519,  47.77226301,\n",
              "        49.34152152,  28.68287892,  49.51169489,  53.93341217,\n",
              "        52.17265145,  30.0560623 ,  61.07708235,  52.44543977,\n",
              "        49.38087971,  42.46107039,  57.11959017,  59.18269151,\n",
              "        45.17906861,  50.89587613,  58.26998623,  30.4548788 ])"
            ]
          },
          "execution_count": 12,
          "metadata": {},
          "output_type": "execute_result"
        }
      ],
      "source": [
        "import numpy as np\n",
        "\n",
        "# Generación de datos\n",
        "mu, sigma = 50, 10 # Media y desviación típica de la población\n",
        "\n",
        "# Generamos una muestra de tamaño 100\n",
        "np.random.seed(10) # Fijamos una semilla (para reproducibilidad)\n",
        "datos = np.random.normal(mu, sigma, 100)\n",
        "\n",
        "# Cambiamos los valores de dos datos para convertirlos en outliers (posiciones 50 y 75)\n",
        "datos[50]=100\n",
        "datos[75]=1\n",
        "datos"
      ]
    },
    {
      "cell_type": "markdown",
      "metadata": {
        "id": "QOgqoZ0Ag4b-"
      },
      "source": [
        "### Determinación de outliers mediante el método basado en bandas\n",
        "El método utlizado para determinar estas bandas será el **rango intercuartiles**:\n",
        "\\begin{eqnarray}\n",
        "x_L= Q_1- k(Q_3-Q_1) \\\\\n",
        "x_U=Q_3+ k(Q_3-Q_1),\n",
        "\\end{eqnarray}\n",
        "donde $k=3$."
      ]
    },
    {
      "cell_type": "code",
      "execution_count": null,
      "metadata": {
        "colab": {
          "base_uri": "https://localhost:8080/"
        },
        "id": "VxXY439Og9ux",
        "outputId": "a90e56b7-57eb-4719-8a09-e72151951377"
      },
      "outputs": [
        {
          "name": "stdout",
          "output_type": "stream",
          "text": [
            "El dato[50] = 100.0 es un outlier\n",
            "El dato[75] = 1.0 es un outlier\n"
          ]
        }
      ],
      "source": [
        "Q1 = np.quantile(datos,0.25)\n",
        "Q3 = np.quantile(datos,0.75)\n",
        "IQR = Q3 - Q1\n",
        "\n",
        "k=3\n",
        "xL = Q1 - k * IQR\n",
        "xU = Q3 + k * IQR\n",
        "\n",
        "for i in range(len(datos)):\n",
        "        if datos[i] < xL or datos[i] > xU:\n",
        "          print(\"El dato[{pos}] = {val} es un outlier\".format(pos=i, val=datos[i]))"
      ]
    },
    {
      "cell_type": "markdown",
      "metadata": {
        "id": "HIzY6j4cUZSv"
      },
      "source": [
        "### Repetir el método anterior utilizando un dataset real\n",
        "\n",
        "Veamos ahora si existen outliers sobre un dataset real. Para ello utilizaremos el Dataset *Wholesale customers Data Set*.\n",
        "\n",
        "Los datos han sido tomados del https://archive.ics.uci.edu/ml/datasets/wholesale+customers, *Center for  Machine Learning and Intelligent Systems*, University of California. Esta base de datos representa las ventas anuales de un  distribuidor mayorista a sus $440$ clientes minoristas. El objetivo que se persigue es descubrir los patrones de clientes existentes, con el objetivo de poder orientar adecuadamente las estrategias de marketing a realizar. El objetivo es obtener perfiles de consumos, más allá de la tipología de establecimiento o su localización geográfica.\n",
        "\n",
        "Esta base de datos tiene $N=440$ registros  (clientes) y un total de $Q=8$ atributos (columnas), definidos por:\n",
        "*   A: Tipo cliente (1, Distribuidor minorista, 2 Hotel,cafeterías,...)\n",
        "*   B: Región (1, zona Lisboa, 2 zona Oporto, 3 Otros)\n",
        "* C: Gasto anual en productos frescos.\n",
        "* D: Gasto anual en productos lácteos.\n",
        "* E: Gasto anual en productos de ultramarinos.\n",
        "* F: Gasto anual en productos congelados.\n",
        "* G: Gasto anual en detergentes y productos de papelería.\n",
        "* H: Gasto anual en productos delicatessen."
      ]
    },
    {
      "cell_type": "code",
      "execution_count": null,
      "metadata": {
        "colab": {
          "base_uri": "https://localhost:8080/"
        },
        "id": "uJjsvMIzwylH",
        "outputId": "37276acd-f4a3-4a74-8adc-eca6085302a0"
      },
      "outputs": [
        {
          "name": "stdout",
          "output_type": "stream",
          "text": [
            "/usr/local/lib/python3.10/dist-packages/gdown/cli.py:121: FutureWarning: Option `--id` was deprecated in version 4.3.1 and will be removed in 5.0. You don't need to pass it anymore to use a file ID.\n",
            "  warnings.warn(\n",
            "Downloading...\n",
            "From: https://drive.google.com/uc?id=1cFgqfTbvA3ygd-3nam-bX-8qI4JCw9M1\n",
            "To: /content/drive/MyDrive/Colab Notebooks/iabd-sbd/Wholesale customers data (1).csv\n",
            "100% 15.0k/15.0k [00:00<00:00, 46.9MB/s]\n"
          ]
        }
      ],
      "source": [
        "## Descarga del fichero de datos Wholesale customers Data.csv\n",
        "# El fichero puede descargarse directamente de la fuente proporcionada, o se\n",
        "# puede utilizar el siguiente código para descargarlo de google drive:\n",
        "# URL: https://drive.google.com/file/d/1cFgqfTbvA3ygd-3nam-bX-8qI4JCw9M1\n",
        "!gdown --id 1cFgqfTbvA3ygd-3nam-bX-8qI4JCw9M1"
      ]
    },
    {
      "cell_type": "code",
      "execution_count": null,
      "metadata": {
        "id": "Y9bvBlLA72-B"
      },
      "outputs": [],
      "source": [
        "# Importar pyspark.sql\n",
        "from pyspark.sql import*\n",
        "\n",
        "# Importar SparkContext and SparkConf\n",
        "from pyspark import SparkContext, SparkConf"
      ]
    },
    {
      "cell_type": "code",
      "execution_count": null,
      "metadata": {
        "colab": {
          "base_uri": "https://localhost:8080/",
          "height": 197
        },
        "id": "Ee-PvF9GWZ0f",
        "outputId": "938d5c2c-b23e-42c0-c9e7-152cb37bf416"
      },
      "outputs": [
        {
          "data": {
            "text/html": [
              "\n",
              "        <div>\n",
              "            <p><b>SparkContext</b></p>\n",
              "\n",
              "            <p><a href=\"http://a28c30115b2e:4040\">Spark UI</a></p>\n",
              "\n",
              "            <dl>\n",
              "              <dt>Version</dt>\n",
              "                <dd><code>v3.4.0</code></dd>\n",
              "              <dt>Master</dt>\n",
              "                <dd><code>local</code></dd>\n",
              "              <dt>AppName</dt>\n",
              "                <dd><code>2-Identificación-outliers-y-reducción-dimensionalidad</code></dd>\n",
              "            </dl>\n",
              "        </div>\n",
              "        "
            ],
            "text/plain": [
              "<SparkContext master=local appName=2-Identificación-outliers-y-reducción-dimensionalidad>"
            ]
          },
          "execution_count": 17,
          "metadata": {},
          "output_type": "execute_result"
        }
      ],
      "source": [
        "# Establecer las propiedades de Spark:\n",
        "# - URL de conexión\n",
        "# - Nombre de la aplicación\n",
        "conf = SparkConf().setMaster(\"local\").setAppName(\"2-Identificación-outliers-y-reducción-dimensionalidad\")\n",
        "\n",
        "# Iniciar un cluster de Spark (puede tardar unos minutos)\n",
        "# Comprobar si ya existe este cluster y en el caso contrario crear uno nuevo\n",
        "sc = SparkContext.getOrCreate(conf=conf)\n",
        "\n",
        "# Mostramos el cluster creado\n",
        "sc"
      ]
    },
    {
      "cell_type": "code",
      "execution_count": null,
      "metadata": {
        "colab": {
          "base_uri": "https://localhost:8080/"
        },
        "id": "CKHieRy23hBa",
        "outputId": "1d0b52e8-d137-4305-b601-bdecca4003c7"
      },
      "outputs": [
        {
          "name": "stdout",
          "output_type": "stream",
          "text": [
            "total 2874\n",
            "drwx------  2 root root    4096 May  9 17:55  bin\n",
            "-rw-------  1 root root 2902908 May 15 14:38  listings.csv\n",
            "drwx------  4 root root    4096 May  9 17:55  py4j\n",
            "drwx------  2 root root    4096 May  9 17:55  py4j-0.10.9.7.dist-info\n",
            "drwx------ 18 root root    4096 May  9 17:55  pyspark\n",
            "drwx------  2 root root    4096 May  9 17:55  pyspark-3.4.0.dist-info\n",
            "drwx------  2 root root    4096 May  9 17:55  share\n",
            "-rw-------  1 root root   15021 May 15 14:40 'Wholesale customers data (1).csv'\n"
          ]
        }
      ],
      "source": [
        "! ls -la"
      ]
    },
    {
      "cell_type": "code",
      "execution_count": null,
      "metadata": {
        "colab": {
          "base_uri": "https://localhost:8080/"
        },
        "id": "SzzkyziQlZdm",
        "outputId": "f19af881-d1f5-4c73-b189-2b8579bb3893"
      },
      "outputs": [
        {
          "name": "stderr",
          "output_type": "stream",
          "text": [
            "/content/iabd-sbd/pyspark/sql/context.py:112: FutureWarning: Deprecated in 3.0.0. Use SparkSession.builder.getOrCreate() instead.\n",
            "  warnings.warn(\n"
          ]
        },
        {
          "name": "stdout",
          "output_type": "stream",
          "text": [
            "+-----+-----+-------+------+----------------+----------+\n",
            "|Fresh| Milk|Grocery|Frozen|Detergents_Paper|Delicassen|\n",
            "+-----+-----+-------+------+----------------+----------+\n",
            "|12669| 9656|   7561|   214|            2674|      1338|\n",
            "| 7057| 9810|   9568|  1762|            3293|      1776|\n",
            "| 6353| 8808|   7684|  2405|            3516|      7844|\n",
            "|13265| 1196|   4221|  6404|             507|      1788|\n",
            "|22615| 5410|   7198|  3915|            1777|      5185|\n",
            "| 9413| 8259|   5126|   666|            1795|      1451|\n",
            "|12126| 3199|   6975|   480|            3140|       545|\n",
            "| 7579| 4956|   9426|  1669|            3321|      2566|\n",
            "| 5963| 3648|   6192|   425|            1716|       750|\n",
            "| 6006|11093|  18881|  1159|            7425|      2098|\n",
            "| 3366| 5403|  12974|  4400|            5977|      1744|\n",
            "|13146| 1124|   4523|  1420|             549|       497|\n",
            "|31714|12319|  11757|   287|            3881|      2931|\n",
            "|21217| 6208|  14982|  3095|            6707|       602|\n",
            "|24653| 9465|  12091|   294|            5058|      2168|\n",
            "|10253| 1114|   3821|   397|             964|       412|\n",
            "| 1020| 8816|  12121|   134|            4508|      1080|\n",
            "| 5876| 6157|   2933|   839|             370|      4478|\n",
            "|18601| 6327|  10099|  2205|            2767|      3181|\n",
            "| 7780| 2495|   9464|   669|            2518|       501|\n",
            "+-----+-----+-------+------+----------------+----------+\n",
            "only showing top 20 rows\n",
            "\n"
          ]
        }
      ],
      "source": [
        "# Inicializar SQLContext a partir del cluster Spark creado anteriormente\n",
        "sqlContext = SQLContext(sc)\n",
        "\n",
        "# Creamos un dataframe a partir del archivo CSV descargado anteriormente y\n",
        "# que contiene el dataset que utilizaremos en esta sesión\n",
        "df = sqlContext.read.csv('Wholesale customers data (1).csv', header=True, sep=\",\", inferSchema = \"true\")\n",
        "\n",
        "# Eliminamos las columnas channel y region (no aportan información relevante en este ejemplo)\n",
        "df = df.drop(\"channel\", \"region\")\n",
        "\n",
        "# Mostrar el contenido del dataframe\n",
        "df.show()"
      ]
    },
    {
      "cell_type": "code",
      "execution_count": null,
      "metadata": {
        "colab": {
          "base_uri": "https://localhost:8080/",
          "height": 124
        },
        "id": "FCQYnP5X5OdC",
        "outputId": "bee6c368-627e-4494-9e19-7400e06365e2"
      },
      "outputs": [
        {
          "data": {
            "text/plain": [
              "{'Fresh': {'q1': 3103.0, 'q3': 16933.0},\n",
              " 'Milk': {'q1': 1530.0, 'q3': 7184.0},\n",
              " 'Grocery': {'q1': 2147.0, 'q3': 10646.0},\n",
              " 'Frozen': {'q1': 737.0, 'q3': 3549.0},\n",
              " 'Detergents_Paper': {'q1': 256.0, 'q3': 3909.0},\n",
              " 'Delicassen': {'q1': 406.0, 'q3': 1819.0}}"
            ]
          },
          "metadata": {},
          "output_type": "display_data"
        }
      ],
      "source": [
        "cuartiles = {\n",
        "    c: dict(\n",
        "        zip([\"q1\", \"q3\"], df.approxQuantile(c, [0.25, 0.75], 0))\n",
        "    )\n",
        "    for c in df.columns\n",
        "}\n",
        "display(cuartiles)"
      ]
    },
    {
      "cell_type": "code",
      "execution_count": null,
      "metadata": {
        "colab": {
          "base_uri": "https://localhost:8080/",
          "height": 124
        },
        "id": "blPIasj3llc1",
        "outputId": "51356536-5f96-44be-85b4-4da762f617df"
      },
      "outputs": [
        {
          "data": {
            "text/plain": [
              "{'Fresh': {'q1': 3103.0, 'q3': 16933.0, 'xL': -17642.0, 'xU': 37678.0},\n",
              " 'Milk': {'q1': 1530.0, 'q3': 7184.0, 'xL': -6951.0, 'xU': 15665.0},\n",
              " 'Grocery': {'q1': 2147.0, 'q3': 10646.0, 'xL': -10601.5, 'xU': 23394.5},\n",
              " 'Frozen': {'q1': 737.0, 'q3': 3549.0, 'xL': -3481.0, 'xU': 7767.0},\n",
              " 'Detergents_Paper': {'q1': 256.0, 'q3': 3909.0, 'xL': -5223.5, 'xU': 9388.5},\n",
              " 'Delicassen': {'q1': 406.0, 'q3': 1819.0, 'xL': -1713.5, 'xU': 3938.5}}"
            ]
          },
          "metadata": {},
          "output_type": "display_data"
        }
      ],
      "source": [
        "for c in cuartiles:\n",
        "    IQR = cuartiles[c]['q3'] - cuartiles[c]['q1']\n",
        "    cuartiles[c]['xL'] = cuartiles[c]['q1'] - (IQR * 1.5)\n",
        "    cuartiles[c]['xU'] = cuartiles[c]['q3'] + (IQR * 1.5)\n",
        "display(cuartiles)"
      ]
    },
    {
      "cell_type": "code",
      "execution_count": null,
      "metadata": {
        "colab": {
          "base_uri": "https://localhost:8080/"
        },
        "id": "SoDIXLBI4FVB",
        "outputId": "d04cbf78-b881-4d9b-fb32-36e182c50db9"
      },
      "outputs": [
        {
          "name": "stdout",
          "output_type": "stream",
          "text": [
            "+-----+-----+-------+------+----------------+----------+--------------+-------------+----------------+---------------+-------------------------+-------------------+\n",
            "|Fresh| Milk|Grocery|Frozen|Detergents_Paper|Delicassen|Fresh_outlier?|Milk_outlier?|Grocery_outlier?|Frozen_outlier?|Detergents_Paper_outlier?|Delicassen_outlier?|\n",
            "+-----+-----+-------+------+----------------+----------+--------------+-------------+----------------+---------------+-------------------------+-------------------+\n",
            "|12669| 9656|   7561|   214|            2674|      1338|             0|            0|               0|              0|                        0|                  0|\n",
            "| 7057| 9810|   9568|  1762|            3293|      1776|             0|            0|               0|              0|                        0|                  0|\n",
            "| 6353| 8808|   7684|  2405|            3516|      7844|             0|            0|               0|              0|                        0|                  1|\n",
            "|13265| 1196|   4221|  6404|             507|      1788|             0|            0|               0|              0|                        0|                  0|\n",
            "|22615| 5410|   7198|  3915|            1777|      5185|             0|            0|               0|              0|                        0|                  1|\n",
            "| 9413| 8259|   5126|   666|            1795|      1451|             0|            0|               0|              0|                        0|                  0|\n",
            "|12126| 3199|   6975|   480|            3140|       545|             0|            0|               0|              0|                        0|                  0|\n",
            "| 7579| 4956|   9426|  1669|            3321|      2566|             0|            0|               0|              0|                        0|                  0|\n",
            "| 5963| 3648|   6192|   425|            1716|       750|             0|            0|               0|              0|                        0|                  0|\n",
            "| 6006|11093|  18881|  1159|            7425|      2098|             0|            0|               0|              0|                        0|                  0|\n",
            "| 3366| 5403|  12974|  4400|            5977|      1744|             0|            0|               0|              0|                        0|                  0|\n",
            "|13146| 1124|   4523|  1420|             549|       497|             0|            0|               0|              0|                        0|                  0|\n",
            "|31714|12319|  11757|   287|            3881|      2931|             0|            0|               0|              0|                        0|                  0|\n",
            "|21217| 6208|  14982|  3095|            6707|       602|             0|            0|               0|              0|                        0|                  0|\n",
            "|24653| 9465|  12091|   294|            5058|      2168|             0|            0|               0|              0|                        0|                  0|\n",
            "|10253| 1114|   3821|   397|             964|       412|             0|            0|               0|              0|                        0|                  0|\n",
            "| 1020| 8816|  12121|   134|            4508|      1080|             0|            0|               0|              0|                        0|                  0|\n",
            "| 5876| 6157|   2933|   839|             370|      4478|             0|            0|               0|              0|                        0|                  1|\n",
            "|18601| 6327|  10099|  2205|            2767|      3181|             0|            0|               0|              0|                        0|                  0|\n",
            "| 7780| 2495|   9464|   669|            2518|       501|             0|            0|               0|              0|                        0|                  0|\n",
            "+-----+-----+-------+------+----------------+----------+--------------+-------------+----------------+---------------+-------------------------+-------------------+\n",
            "only showing top 20 rows\n",
            "\n"
          ]
        }
      ],
      "source": [
        "# Partimos de nuestro dataframe. Al poner * mostrará todas las columnas.\n",
        "# Generaremos columnas sobre la marcha.\n",
        "# Cuando la función 'when' sea cierto para los valores de la columna 'c' (Dentro de Q1 - Q3)) --> 0\n",
        "# Con el '.' podemos ir concatenando y decir que haremos cuando no se cumpla. En este caso asignamos 1.\n",
        "# Por último damos nombre a las columnas que vamos generando.\n",
        "\n",
        "import pyspark.sql.functions as f\n",
        "\n",
        "df.select(\n",
        "    \"*\",\n",
        "    *[\n",
        "        f.when(\n",
        "            f.col(c).between(cuartiles[c]['xL'], cuartiles[c]['xU']), 0\n",
        "        ).otherwise(1).alias(c+\"_outlier?\")\n",
        "        for c in df.columns\n",
        "    ]\n",
        ").show()"
      ]
    },
    {
      "cell_type": "markdown",
      "metadata": {
        "id": "3ugOO3QGsCGa"
      },
      "source": [
        "## 2.2. Redución de la dimensionalidad\n",
        "\n",
        "Volveremos a trabajar con el dataset anterior. Primero utilizaremos el *VectorAssembler* para generar una nueva columna en el dataframe la cual tendrá un vector del tipo DenseVector conteniendo todas las características del dataset."
      ]
    },
    {
      "cell_type": "code",
      "execution_count": null,
      "metadata": {
        "colab": {
          "base_uri": "https://localhost:8080/"
        },
        "id": "zJmj2zdx-2Ii",
        "outputId": "f5269cbe-59bb-4b7f-fe77-0bdb65c4704d"
      },
      "outputs": [
        {
          "name": "stdout",
          "output_type": "stream",
          "text": [
            "+---------------------------------------------+\n",
            "|features                                     |\n",
            "+---------------------------------------------+\n",
            "|[12669.0,9656.0,7561.0,214.0,2674.0,1338.0]  |\n",
            "|[7057.0,9810.0,9568.0,1762.0,3293.0,1776.0]  |\n",
            "|[6353.0,8808.0,7684.0,2405.0,3516.0,7844.0]  |\n",
            "|[13265.0,1196.0,4221.0,6404.0,507.0,1788.0]  |\n",
            "|[22615.0,5410.0,7198.0,3915.0,1777.0,5185.0] |\n",
            "|[9413.0,8259.0,5126.0,666.0,1795.0,1451.0]   |\n",
            "|[12126.0,3199.0,6975.0,480.0,3140.0,545.0]   |\n",
            "|[7579.0,4956.0,9426.0,1669.0,3321.0,2566.0]  |\n",
            "|[5963.0,3648.0,6192.0,425.0,1716.0,750.0]    |\n",
            "|[6006.0,11093.0,18881.0,1159.0,7425.0,2098.0]|\n",
            "+---------------------------------------------+\n",
            "only showing top 10 rows\n",
            "\n"
          ]
        }
      ],
      "source": [
        "# Utilizamos\n",
        "from pyspark.ml.feature import VectorAssembler\n",
        "\n",
        "assembler = VectorAssembler(\n",
        "  inputCols = df.columns,\n",
        "  outputCol = \"features\"\n",
        ")\n",
        "assembled_df = assembler.transform(df)\n",
        "\n",
        "# Mostramos la nueva columa \"features\" para las 10 primeras filas del dataset\n",
        "assembled_df.select(\"features\").show(10, truncate=False)"
      ]
    },
    {
      "cell_type": "markdown",
      "metadata": {
        "id": "QXS2QQEj6tGo"
      },
      "source": [
        "Ahora importamos la función PCA del paquete MLlib de Spark y aplicamos un PCA para reducir la dimensionalidad de los datos a dos dimensiones ($k=2$). Entre otras cosas para que sea más sencillo visualizarlo."
      ]
    },
    {
      "cell_type": "code",
      "execution_count": null,
      "metadata": {
        "colab": {
          "base_uri": "https://localhost:8080/"
        },
        "id": "_U5dl4UYHnur",
        "outputId": "e667a7bd-596d-4a7d-9f47-9f6ec56e6acf"
      },
      "outputs": [
        {
          "name": "stdout",
          "output_type": "stream",
          "text": [
            "+----------------------------------------+\n",
            "|pca_features                            |\n",
            "+----------------------------------------+\n",
            "|[-14112.072868235575,-10409.72068095512]|\n",
            "|[-9035.245766804817,-12866.653099720976]|\n",
            "|[-8620.052039365291,-11402.96376687947] |\n",
            "|[-14452.397183056773,-2544.395594249181]|\n",
            "|[-24120.04947733022,-6664.475775700886] |\n",
            "|[-10696.08915346303,-7864.330863747109] |\n",
            "|[-12746.499853965024,-6811.199325213239]|\n",
            "|[-8987.467079196213,-10253.698562918678]|\n",
            "|[-6749.955348988448,-6618.292434904568] |\n",
            "|[-8638.416392104866,-22304.76079576945] |\n",
            "+----------------------------------------+\n",
            "only showing top 10 rows\n",
            "\n"
          ]
        }
      ],
      "source": [
        "from pyspark.ml.feature import PCA\n",
        "\n",
        "# Reducimos la dimensionalidad de los datos (a dos dimensiones)\n",
        "# Estructura muy típica.\n",
        "pca = PCA(k=2, inputCol=\"features\", outputCol=\"pca_features\")\n",
        "pca_model = pca.fit(assembled_df)\n",
        "assembled_df = pca_model.transform(assembled_df)\n",
        "\n",
        "# Mostramos la nueva columna de DenseVectors ahora con solo dos dimensiones\n",
        "assembled_df.select(\"pca_features\").show(10, truncate=False)"
      ]
    },
    {
      "cell_type": "code",
      "execution_count": null,
      "metadata": {
        "colab": {
          "base_uri": "https://localhost:8080/"
        },
        "id": "dGrgl8cHllfY",
        "outputId": "8d9b039a-59c7-4b06-f78a-b0d1db39a8e0"
      },
      "outputs": [
        {
          "data": {
            "text/plain": [
              "DenseVector([0.4596, 0.4052])"
            ]
          },
          "execution_count": 35,
          "metadata": {},
          "output_type": "execute_result"
        }
      ],
      "source": [
        "# Podemos visualizar la cantidad de varianza por cada componente principal\n",
        "# De esta forma, para cada una de las variables con las que nos hemos quedado podemos ver cómo de bien explica el modelo.\n",
        "# Si hubieramos usado una tercera (k=3), tendriamos un nuevo valor en el vector, de manera que la suma cada vez estaría mas cerca de 100.\n",
        "# El aLgoritmo se encarga de quedarse primero con las componentes que mejor explican el modelo.\n",
        "pca_model.explainedVariance"
      ]
    },
    {
      "cell_type": "markdown",
      "metadata": {
        "id": "D5ccM6Vw8TP4"
      },
      "source": [
        "Por último, podemos visualizar utilizando matplotlib el nuevo dataset obtenido al calcular las dos compenentes principales. Para ello, lo primero será obtener este nuevo dataframe de Spark y cargarlo en memoria mediante la función *collect*. Se debe tener cuidado, pues estaremos pasando de un dataframe distribuido en el cluster a uno cargado en la memoria principal de la máquina donde ejecute el programa principal, por lo que si este conjunto de datos es muy grande **nos podríamos quedar sin memoria**. Por último, utilizamos la función scater para visualizar los datos."
      ]
    },
    {
      "cell_type": "code",
      "execution_count": null,
      "metadata": {
        "colab": {
          "base_uri": "https://localhost:8080/",
          "height": 522
        },
        "id": "rw4vUPd28XVJ",
        "outputId": "725415c9-f533-481c-8683-e26a6eedf6c0"
      },
      "outputs": [
        {
          "data": {
            "image/png": "[encoded data removed]",
            "text/plain": [
              "<Figure size 900x600 with 1 Axes>"
            ]
          },
          "metadata": {},
          "output_type": "display_data"
        }
      ],
      "source": [
        "# Obtenemos de Spark los datos del PCA (cuidado con no desbordar la memoria)\n",
        "collected_data = assembled_df.select(\"pca_features\").collect()\n",
        "\n",
        "# Ahora podemos visualizar el dataset utilizando las dos dimensiones obtenidas en el PCA\n",
        "import matplotlib.pyplot as plt\n",
        "plt.figure(figsize=(9, 6))\n",
        "for i in range(df.count()):\n",
        "    plt.scatter(collected_data[i][0][0], collected_data[i][0][1], color=\"b\")\n",
        "plt.grid()\n",
        "plt.show()"
      ]
    }
  ],
  "metadata": {
    "colab": {
      "provenance": []
    },
    "kernelspec": {
      "display_name": "Python 3",
      "name": "python3"
    },
    "language_info": {
      "name": "python"
    }
  },
  "nbformat": 4,
  "nbformat_minor": 0
}