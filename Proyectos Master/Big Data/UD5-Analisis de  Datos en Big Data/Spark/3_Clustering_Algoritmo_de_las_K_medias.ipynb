{
  "nbformat": 4,
  "nbformat_minor": 0,
  "metadata": {
    "colab": {
      "provenance": []
    },
    "kernelspec": {
      "name": "python3",
      "display_name": "Python 3"
    },
    "language_info": {
      "name": "python"
    }
  },
  "cells": [
    {
      "cell_type": "markdown",
      "metadata": {
        "id": "K135r9CHdKMO"
      },
      "source": [
        "# 3 - Clustering: Algoritmo de las K-medias\n",
        "\n",
        "Los algoritmos de **clustering** son el principal ejemplo de problemas de **aprendizaje no supervisado**. Estos consisten en buscar patrones dentro de los datos. Esto es, encontrar subconjuntos de observaciones que son similares entre sí. Por ejemplo, puede utilizarse para buscar grupos de clientes basados en su comportamiento, productos similares en base a sus características, tipos de películas en base a su audiencia, etc. Si se realiza un análisis cluster sobre los clientes de una determinada empresa se puede encontrar patrones de clientes y con ellos ofrecer productos especialmente diseñadas para estos segmentos."
      ]
    },
    {
      "cell_type": "markdown",
      "source": [
        "# Montar directorio de Google Drive"
      ],
      "metadata": {
        "id": "OWRB7Xk02Uby"
      }
    },
    {
      "cell_type": "code",
      "metadata": {
        "colab": {
          "base_uri": "https://localhost:8080/"
        },
        "id": "BPipnT3Uw1XB",
        "outputId": "220617b0-cfc6-4944-c56e-d82c5f79dea0"
      },
      "source": [
        "## Solicitar acceso y montar en el sistema tu directorio de Google Drive\n",
        "# Esto permitirá la persistencia de datos entre distintas sesiones\n",
        "import os, sys\n",
        "from google.colab import drive\n",
        "drive.mount('/content/drive')\n",
        "\n",
        "# Creamos un directorio para este cuaderno y lo asociamos\n",
        "drive_path = '/content/drive/MyDrive/Colab Notebooks/iabd-sbd'\n",
        "nb_path = '/content/iabd-sbd'\n",
        "\n",
        "if not os.path.exists(drive_path):\n",
        "    os.makedirs(drive_path)\n",
        "os.symlink(drive_path, nb_path)\n",
        "sys.path.insert(0,nb_path)\n",
        "\n",
        "%cd $nb_path"
      ],
      "execution_count": null,
      "outputs": [
        {
          "output_type": "stream",
          "name": "stdout",
          "text": [
            "Mounted at /content/drive\n",
            "/content/drive/MyDrive/Colab Notebooks/iabd-sbd\n"
          ]
        }
      ]
    },
    {
      "cell_type": "markdown",
      "metadata": {
        "id": "8YyotQkKgM3q"
      },
      "source": [
        "# Instalación de spark en Google Colab"
      ]
    },
    {
      "cell_type": "code",
      "metadata": {
        "id": "3pAU46QdfELH"
      },
      "source": [
        "# Spark está escrito en el lenguaje de programación Scala, por lo que requiere\n",
        "# de una máquina virtual de Java (JVM) para funcionar. Por lo tanto, lo primero\n",
        "# es instalar java:\n",
        "!apt-get install openjdk-8-jdk-headless -qq > /dev/null"
      ],
      "execution_count": null,
      "outputs": []
    },
    {
      "cell_type": "code",
      "metadata": {
        "colab": {
          "base_uri": "https://localhost:8080/"
        },
        "id": "-4HNGt9U0JDO",
        "outputId": "1482fbce-5b64-43c5-ab0d-442cccada768"
      },
      "source": [
        "## Instalación de Apache Spark en Google Colab (Ejecutar solo si no se ha realizado nunca)\n",
        "# Nota: Puede tardar unos minutos (se paciente)\n",
        "# El siguiente paso es elegir una versión reciente de spark\n",
        "# En este notebook, se usará spark versión 3.1.2, la cual puede descargarse en:\n",
        "spark_file = 'spark-3.3.2-bin-hadoop3.tgz'\n",
        "spark_url = 'https://archive.apache.org/dist/spark/spark-3.3.2/' + spark_file\n",
        "\n",
        "# A continuación, descargamos la versión elegida de spark:\n",
        "import os # Libreria de manejo del sistema operativo\n",
        "os.system(\"wget -q {spark_url} -P \" + nb_path) # Realizamos la descarga\n",
        "os.system(\"tar xf \" + nb_path + \"/\" + spark_file) # Descomprimimos el fichero .tgz\n",
        "\n",
        "# Realizamos la instalación de pyspark utilizando la herramienta pip\n",
        "!pip install --target=$nb_path -q pyspark\n",
        "!pip install -q findspark"
      ],
      "execution_count": null,
      "outputs": [
        {
          "output_type": "stream",
          "name": "stdout",
          "text": [
            "\u001b[2K     \u001b[90m━━━━━━━━━━━━━━━━━━━━━━━━━━━━━━━━━━━━━━━\u001b[0m \u001b[32m310.8/310.8 MB\u001b[0m \u001b[31m4.0 MB/s\u001b[0m eta \u001b[36m0:00:00\u001b[0m\n",
            "\u001b[?25h  Preparing metadata (setup.py) ... \u001b[?25l\u001b[?25hdone\n",
            "\u001b[2K     \u001b[90m━━━━━━━━━━━━━━━━━━━━━━━━━━━━━━━━━━━━━━\u001b[0m \u001b[32m200.5/200.5 kB\u001b[0m \u001b[31m17.3 MB/s\u001b[0m eta \u001b[36m0:00:00\u001b[0m\n",
            "\u001b[?25h  Building wheel for pyspark (setup.py) ... \u001b[?25l\u001b[?25hdone\n",
            "\u001b[33mWARNING: Target directory /content/iabd-sbd/pyspark-3.4.0.dist-info already exists. Specify --upgrade to force replacement.\u001b[0m\u001b[33m\n",
            "\u001b[0m\u001b[33mWARNING: Target directory /content/iabd-sbd/pyspark already exists. Specify --upgrade to force replacement.\u001b[0m\u001b[33m\n",
            "\u001b[0m\u001b[33mWARNING: Target directory /content/iabd-sbd/py4j-0.10.9.7.dist-info already exists. Specify --upgrade to force replacement.\u001b[0m\u001b[33m\n",
            "\u001b[0m\u001b[33mWARNING: Target directory /content/iabd-sbd/py4j already exists. Specify --upgrade to force replacement.\u001b[0m\u001b[33m\n",
            "\u001b[0m\u001b[33mWARNING: Target directory /content/iabd-sbd/share already exists. Specify --upgrade to force replacement.\u001b[0m\u001b[33m\n",
            "\u001b[0m\u001b[33mWARNING: Target directory /content/iabd-sbd/bin already exists. Specify --upgrade to force replacement.\u001b[0m\u001b[33m\n",
            "\u001b[0m"
          ]
        }
      ]
    },
    {
      "cell_type": "code",
      "metadata": {
        "id": "HW4HrfDG-4k8"
      },
      "source": [
        "# Damos permisos de ejecución\n",
        "!chmod -R +x ./pyspark/\n",
        "\n",
        "# Finalmente, es necesario definir algunas variables de entorno en el sistema\n",
        "# operativo para poder usar spark correctamente:\n",
        "os.environ[\"JAVA_HOME\"] = \"/usr/lib/jvm/java-8-openjdk-amd64\"\n",
        "os.environ[\"SPARK_HOME\"] = nb_path + \"/pyspark\""
      ],
      "execution_count": null,
      "outputs": []
    },
    {
      "cell_type": "markdown",
      "metadata": {
        "id": "gz4dKOhgr6Za"
      },
      "source": [
        "## 3.1 K-means con datos simulados\n",
        "\n",
        "En un primer ejemplo, veremos como podemos ejecutar el algoritmo K-means utilizando un dataset simulado. Este dataset se encuentra en el fichero 'datos_cluster.csv'. Este fichero contiene un dataset con tres muestras aleatorias de normales bivariantes (de dos variables) de tamaño $n=100$ cada uno. Cada una de estas normales se encuentra centrada en un punto diferente del espacio. Mas concretamente en: (1.5, 1.5), (-1.5, -1.5) y (2, -2)."
      ]
    },
    {
      "cell_type": "code",
      "metadata": {
        "colab": {
          "base_uri": "https://localhost:8080/"
        },
        "id": "1Q0zo23wup_F",
        "outputId": "45da9ff7-b7a5-4a7f-f660-c3fb13b4b42e"
      },
      "source": [
        "# Descargar el dataset que se utilizará utilizando un enlace compartido de google drive\n",
        "# El fichero puede descargarse directamente de la fuente proporcionada, o se\n",
        "# puede utilizar el siguiente código para descargarlo de google drive:\n",
        "# URL: https://drive.google.com/file/d/1nxy20hBRuedmeculSu8K69j56PHCpU55\n",
        "!gdown --id 1nxy20hBRuedmeculSu8K69j56PHCpU55"
      ],
      "execution_count": null,
      "outputs": [
        {
          "output_type": "stream",
          "name": "stdout",
          "text": [
            "/usr/local/lib/python3.10/dist-packages/gdown/cli.py:121: FutureWarning: Option `--id` was deprecated in version 4.3.1 and will be removed in 5.0. You don't need to pass it anymore to use a file ID.\n",
            "  warnings.warn(\n",
            "Downloading...\n",
            "From: https://drive.google.com/uc?id=1nxy20hBRuedmeculSu8K69j56PHCpU55\n",
            "To: /content/drive/MyDrive/Colab Notebooks/iabd-sbd/datos_cluster.csv\n",
            "100% 11.5k/11.5k [00:00<00:00, 44.5MB/s]\n"
          ]
        }
      ]
    },
    {
      "cell_type": "code",
      "metadata": {
        "id": "Y9bvBlLA72-B"
      },
      "source": [
        "# Importar pyspark.sql\n",
        "from pyspark.sql import*\n",
        "\n",
        "# Importar SparkContext and SparkConf\n",
        "from pyspark import SparkContext, SparkConf"
      ],
      "execution_count": null,
      "outputs": []
    },
    {
      "cell_type": "code",
      "metadata": {
        "id": "Ee-PvF9GWZ0f",
        "colab": {
          "base_uri": "https://localhost:8080/",
          "height": 197
        },
        "outputId": "727f65b8-549b-4dbc-e323-78b657d136de"
      },
      "source": [
        "# Establecer las propiedades de Spark:\n",
        "# - URL de conexión\n",
        "# - Nombre de la aplicación\n",
        "conf = SparkConf().setMaster(\"local\").setAppName(\"3-Clustering-K-means\")\n",
        "\n",
        "# Iniciar un cluster de Spark (puede tardar unos minutos)\n",
        "# Comprobar si ya existe este cluster y en el caso contrario crear uno nuevo\n",
        "sc = SparkContext.getOrCreate(conf=conf)\n",
        "\n",
        "# Mostramos el cluster creado\n",
        "sc"
      ],
      "execution_count": null,
      "outputs": [
        {
          "output_type": "execute_result",
          "data": {
            "text/plain": [
              "<SparkContext master=local appName=3-Clustering-K-means>"
            ],
            "text/html": [
              "\n",
              "        <div>\n",
              "            <p><b>SparkContext</b></p>\n",
              "\n",
              "            <p><a href=\"http://3678a8fb4bee:4040\">Spark UI</a></p>\n",
              "\n",
              "            <dl>\n",
              "              <dt>Version</dt>\n",
              "                <dd><code>v3.4.0</code></dd>\n",
              "              <dt>Master</dt>\n",
              "                <dd><code>local</code></dd>\n",
              "              <dt>AppName</dt>\n",
              "                <dd><code>3-Clustering-K-means</code></dd>\n",
              "            </dl>\n",
              "        </div>\n",
              "        "
            ]
          },
          "metadata": {},
          "execution_count": 13
        }
      ]
    },
    {
      "cell_type": "code",
      "source": [
        "!ls -la"
      ],
      "metadata": {
        "colab": {
          "base_uri": "https://localhost:8080/"
        },
        "id": "v9BW_Y0eCJS5",
        "outputId": "bcd782b9-d765-4136-fc61-a66d0aee55f5"
      },
      "execution_count": null,
      "outputs": [
        {
          "output_type": "stream",
          "name": "stdout",
          "text": [
            "total 2886\n",
            "drwx------  2 root root    4096 May  9 17:55  bin\n",
            "-rw-------  1 root root   11528 May 15 15:30  datos_cluster.csv\n",
            "-rw-------  1 root root 2902908 May 15 14:38  listings.csv\n",
            "drwx------  4 root root    4096 May  9 17:55  py4j\n",
            "drwx------  2 root root    4096 May  9 17:55  py4j-0.10.9.7.dist-info\n",
            "drwx------ 18 root root    4096 May  9 17:55  pyspark\n",
            "drwx------  2 root root    4096 May  9 17:55  pyspark-3.4.0.dist-info\n",
            "drwx------  2 root root    4096 May  9 17:55  share\n",
            "-rw-------  1 root root   15021 May 15 14:40 'Wholesale customers data (1).csv'\n"
          ]
        }
      ]
    },
    {
      "cell_type": "code",
      "metadata": {
        "colab": {
          "base_uri": "https://localhost:8080/"
        },
        "id": "SzzkyziQlZdm",
        "outputId": "2a732c5f-db72-4c93-a44a-2fe71f3d4427"
      },
      "source": [
        "# Inicializar SQLContext a partir del cluster Spark creado anteriormente\n",
        "sqlContext = SQLContext(sc)\n",
        "\n",
        "# Creamos un dataframe a partir del archivo CSV descargado anteriormente y\n",
        "# que contiene el dataset que utilizaremos en esta sesión\n",
        "df = sqlContext.read.csv('datos_cluster.csv', header=True, sep=\",\", inferSchema = \"true\")\n",
        "\n",
        "# Eliminamos las columnas channel y region (no aportan información relevante en este ejemplo)\n",
        "df = df.drop(\"channel\", \"region\")\n",
        "\n",
        "# Mostrar el contenido del dataframe\n",
        "df.show()"
      ],
      "execution_count": null,
      "outputs": [
        {
          "output_type": "stream",
          "name": "stderr",
          "text": [
            "/content/iabd-sbd/pyspark/sql/context.py:112: FutureWarning: Deprecated in 3.0.0. Use SparkSession.builder.getOrCreate() instead.\n",
            "  warnings.warn(\n"
          ]
        },
        {
          "output_type": "stream",
          "name": "stdout",
          "text": [
            "+--------------------+-------------------+\n",
            "|                  x1|                 x2|\n",
            "+--------------------+-------------------+\n",
            "|   1.017906861164521|  1.589587612589516|\n",
            "|  1.6916185466351603| -1.751832975226213|\n",
            "|  1.1090178146935965| 2.7551737317095712|\n",
            "|   2.033884809310875| 2.2439744037859244|\n",
            "|    1.85347761380385| 1.2927205142785623|\n",
            "|  -1.336095747321568|-0.6704875156027585|\n",
            "|  -2.074917664052446|-1.8601711344294525|\n",
            "|  1.2058940126722866| -3.545873178823035|\n",
            "|   2.844549423365941| 1.9935153172482887|\n",
            "|  3.1182555086614974|-2.9002665799372958|\n",
            "| -3.1919679287768083|-0.8835490775951268|\n",
            "| -2.5247529670452837|-1.3396008370574413|\n",
            "|  1.9400409054944103|-3.4174211585487924|\n",
            "|  2.0037684355671863| -2.882372848092867|\n",
            "| -1.0883975879371572|-1.2121895657052717|\n",
            "|   2.737056344944984|-3.4583097774220137|\n",
            "|   2.839926309957553| 1.5293097109431697|\n",
            "|  1.8800750835243119|-3.0282624498459576|\n",
            "|  2.5174066698301694|-3.5388014512157326|\n",
            "|-0.47772828065790707|-0.2433722958989073|\n",
            "+--------------------+-------------------+\n",
            "only showing top 20 rows\n",
            "\n"
          ]
        }
      ]
    },
    {
      "cell_type": "markdown",
      "source": [
        "A continuación, utilizaremos el *VectorAssembler* para generar una nueva columna en el dataframe la cual tendrá un vector del tipo DenseVector conteniendo todas las características del dataset. Recordad que este era un paso necesario antes de aplicar cualquier algoritmo de ML de la biblioteca [MLlib de Spark](https://spark.apache.org/docs/latest/ml-guide.html)."
      ],
      "metadata": {
        "id": "l0mdSBOwCXyh"
      }
    },
    {
      "cell_type": "code",
      "metadata": {
        "colab": {
          "base_uri": "https://localhost:8080/"
        },
        "id": "blPIasj3llc1",
        "outputId": "4b5abdcd-1d78-402b-d787-14c02c79f7e6"
      },
      "source": [
        "from pyspark.ml.feature import VectorAssembler\n",
        "\n",
        "assembler = VectorAssembler(\n",
        "  inputCols = df.columns,\n",
        "  outputCol = \"features\"\n",
        ")\n",
        "df = assembler.transform(df)\n",
        "\n",
        "# Mostramos la nueva columa \"features\" para las 5 primeras filas del dataset\n",
        "df.select(\"features\").show(5, truncate=False)"
      ],
      "execution_count": null,
      "outputs": [
        {
          "output_type": "stream",
          "name": "stdout",
          "text": [
            "+---------------------------------------+\n",
            "|features                               |\n",
            "+---------------------------------------+\n",
            "|[1.017906861164521,1.589587612589516]  |\n",
            "|[1.6916185466351603,-1.751832975226213]|\n",
            "|[1.1090178146935965,2.7551737317095712]|\n",
            "|[2.033884809310875,2.2439744037859244] |\n",
            "|[1.85347761380385,1.2927205142785623]  |\n",
            "+---------------------------------------+\n",
            "only showing top 5 rows\n",
            "\n"
          ]
        }
      ]
    },
    {
      "cell_type": "markdown",
      "source": [
        "Si las distintas variables del dataset que utilizaremos para entrenar el K-means son incomparables (por ejemplo, la altura en cm y el peso en kg), entonces se deben estandarizar las variables. Notar que este no es el caso en el dataset del ejemplo. No obstante, vamos a escalar las variables para que el lector pueda ver como se haría este proceso.\n",
        "\n",
        "El escalado que aplicaremos será una estandarízación de desviación estándar la unidad. El motivo de aplicar una estandarización para igualar la desviación estándar es que el algoritmo K-means es \"isotrópico\" en todas las direcciones del espacio y por lo tanto tiende a producir clusters más o menos redondos (en lugar de alargados). En esta situación, dejar las varianzas desiguales equivale a dar más peso a las variables con menor varianza, por lo que los clusters tenderán a separarse a lo largo de las variables."
      ],
      "metadata": {
        "id": "xIzYlT2FCeIZ"
      }
    },
    {
      "cell_type": "code",
      "source": [
        "# Aplicamos el standard Scaler\n",
        "from pyspark.ml.feature import StandardScaler\n",
        "\n",
        "scaler = StandardScaler(inputCol='features',outputCol='standardized')\n",
        "fit_scaler = scaler.fit(df)\n",
        "df = fit_scaler.transform(df)\n",
        "\n",
        "# Mostramos la nueva columa \"standardized\" para las 5 primeras filas del dataset\n",
        "df.select(\"standardized\").show(5, truncate=False)"
      ],
      "metadata": {
        "colab": {
          "base_uri": "https://localhost:8080/"
        },
        "id": "SoDIXLBI4FVB",
        "outputId": "a979c6ec-6cfe-4fa3-91a5-fac33f1ef9bb"
      },
      "execution_count": null,
      "outputs": [
        {
          "output_type": "stream",
          "name": "stdout",
          "text": [
            "+----------------------------------------+\n",
            "|standardized                            |\n",
            "+----------------------------------------+\n",
            "|[0.5753973526412641,0.7666830109004377] |\n",
            "|[0.9562297598615106,-0.8449364913287969]|\n",
            "|[0.626900101524669,1.3288634583278962]  |\n",
            "|[1.1497043388782198,1.0823040130990096] |\n",
            "|[1.0477246522756367,0.6234993581293004] |\n",
            "+----------------------------------------+\n",
            "only showing top 5 rows\n",
            "\n"
          ]
        }
      ]
    },
    {
      "cell_type": "markdown",
      "source": [
        "Ahora si, aplicamos el algoritmo K-means. Previamente se deben determinar algunos hipeparámetros, cómo K (el número de grupos) o initSteps (número de inicializaciones de los centroides). No obstante, este proceso requiere conocimientos más avanzados que se estudian en el módulo de Sistemas de Aprendizaje Automático, y que por lo tanto no se estudiarán en esta unidad.\n",
        "\n",
        "Para más información sobre la implementación de PySpark sobre el algoritmo K-means puede consultar la [documentación de la API](https://spark.apache.org/docs/latest/api/python/reference/api/pyspark.ml.clustering.KMeans.html)."
      ],
      "metadata": {
        "id": "3ugOO3QGsCGa"
      }
    },
    {
      "cell_type": "code",
      "metadata": {
        "id": "zJmj2zdx-2Ii",
        "colab": {
          "base_uri": "https://localhost:8080/"
        },
        "outputId": "3f96c2f5-1c5e-458a-e804-630bfd01e025"
      },
      "source": [
        "from pyspark.ml.clustering import KMeans\n",
        "\n",
        "# Entrenamiento del algoritmo K-means\n",
        "kmeans = KMeans(featuresCol='standardized', k=3, initSteps=5, seed=10)\n",
        "kmeans_model = kmeans.fit(df)\n",
        "\n",
        "# Realizamos la predición sobre los datos (obtener a que cluster pertenece cada dato)\n",
        "predictions = kmeans_model.transform(df)\n",
        "\n",
        "# Mostramos las 5 primeras predicciones\n",
        "predictions.show(5)"
      ],
      "execution_count": null,
      "outputs": [
        {
          "output_type": "stream",
          "name": "stdout",
          "text": [
            "+------------------+------------------+--------------------+--------------------+----------+\n",
            "|                x1|                x2|            features|        standardized|prediction|\n",
            "+------------------+------------------+--------------------+--------------------+----------+\n",
            "| 1.017906861164521| 1.589587612589516|[1.01790686116452...|[0.57539735264126...|         1|\n",
            "|1.6916185466351603|-1.751832975226213|[1.69161854663516...|[0.95622975986151...|         0|\n",
            "|1.1090178146935965|2.7551737317095712|[1.10901781469359...|[0.62690010152466...|         1|\n",
            "| 2.033884809310875|2.2439744037859244|[2.03388480931087...|[1.14970433887821...|         1|\n",
            "|  1.85347761380385|1.2927205142785623|[1.85347761380385...|[1.04772465227563...|         1|\n",
            "+------------------+------------------+--------------------+--------------------+----------+\n",
            "only showing top 5 rows\n",
            "\n"
          ]
        }
      ]
    },
    {
      "cell_type": "code",
      "metadata": {
        "colab": {
          "base_uri": "https://localhost:8080/",
          "height": 267
        },
        "id": "_U5dl4UYHnur",
        "outputId": "00677ac0-20a8-42b6-bf9c-415ff9cc7f72"
      },
      "source": [
        "# Separamos las predicciones y las cargamos en la memoria del programa principal\n",
        "import numpy as np\n",
        "pred = np.array(predictions.select(\"prediction\").collect()).reshape(-1)\n",
        "display(pred)"
      ],
      "execution_count": null,
      "outputs": [
        {
          "output_type": "display_data",
          "data": {
            "text/plain": [
              "array([1, 0, 1, 1, 1, 2, 2, 0, 1, 0, 2, 2, 0, 0, 2, 0, 1, 0, 0, 2, 0, 1,\n",
              "       2, 0, 0, 0, 2, 1, 1, 0, 0, 2, 2, 2, 0, 0, 0, 2, 2, 0, 1, 2, 1, 2,\n",
              "       1, 0, 0, 1, 2, 2, 1, 2, 0, 2, 0, 2, 2, 1, 1, 0, 2, 1, 0, 2, 1, 0,\n",
              "       0, 1, 1, 0, 1, 0, 1, 2, 1, 2, 2, 0, 0, 2, 0, 0, 1, 2, 0, 2, 0, 2,\n",
              "       1, 2, 1, 0, 0, 2, 2, 1, 0, 0, 1, 0, 2, 1, 1, 2, 1, 0, 0, 2, 2, 2,\n",
              "       0, 1, 2, 1, 0, 1, 0, 0, 1, 1, 0, 1, 1, 2, 1, 2, 0, 1, 1, 1, 2, 2,\n",
              "       2, 0, 0, 2, 1, 0, 2, 1, 1, 2, 1, 0, 1, 1, 0, 1, 0, 2, 1, 2, 0, 0,\n",
              "       1, 1, 1, 0, 0, 0, 1, 0, 1, 1, 2, 1, 0, 1, 1, 2, 0, 0, 2, 1, 2, 0,\n",
              "       0, 2, 1, 1, 0, 2, 0, 2, 2, 1, 0, 1, 0, 2, 0, 2, 1, 2, 0, 0, 1, 2,\n",
              "       0, 2, 0, 0, 2, 0, 2, 1, 0, 1, 2, 2, 1, 0, 0, 2, 2, 1, 1, 0, 2, 0,\n",
              "       2, 1, 2, 0, 1, 2, 0, 1, 1, 1, 0, 1, 2, 2, 1, 2, 2, 0, 2, 2, 1, 0,\n",
              "       2, 2, 2, 2, 2, 0, 0, 2, 1, 1, 2, 2, 0, 1, 2, 1, 0, 2, 2, 2, 2, 2,\n",
              "       2, 1, 0, 0, 2, 0, 2, 1, 1, 1, 2, 1, 0, 1, 0, 1, 1, 0, 0, 2, 1, 1,\n",
              "       1, 2, 0, 1, 2, 2, 2, 0, 0, 0, 1, 0, 0, 1])"
            ]
          },
          "metadata": {}
        }
      ]
    },
    {
      "cell_type": "code",
      "metadata": {
        "id": "dGrgl8cHllfY",
        "colab": {
          "base_uri": "https://localhost:8080/"
        },
        "outputId": "50e1bfaa-5569-453c-b75b-ebc05bc68524"
      },
      "source": [
        "# Obtenemos los centroides obtenidos al calcular los distintos grupos\n",
        "centroides = kmeans_model.clusterCenters()\n",
        "\n",
        "# Deshacemos el escalado multiplicando por la desviación estándar\n",
        "centroides = [cluster * fit_scaler.std for cluster in centroides]\n",
        "\n",
        "print(\"Centroides: \")\n",
        "for c in centroides:\n",
        "    print(c)"
      ],
      "execution_count": null,
      "outputs": [
        {
          "output_type": "stream",
          "name": "stdout",
          "text": [
            "Centroides: \n",
            "[ 1.96570266 -3.02302241]\n",
            "[1.70610478 1.54245826]\n",
            "[-1.4280057  -1.50551521]\n"
          ]
        }
      ]
    },
    {
      "cell_type": "markdown",
      "source": [
        "Una vez se ha obtenido un resultado tras aplicar el algoritmo K-means, conviene evaluar los resultados obtenidos. Nuevamente, esto queda fuera de los contenidos de este curso, no obstante, mostramos a modo de ejemplo como obtener uno de los indicadores más utilizados dentro de las técnicas de clustering, el coeficiente Silhouette (o valor de la silueta en español).\n",
        "\n",
        "El valor Silhouette es una medida de cuán similar es un objeto a su propio cúmulo en comparación con otros cúmulos. El valor Silhouette va de -1 a +1, donde un valor alto indica que el objeto está bien emparejado con su propio cúmulo y mal emparejado con los cúmulos vecinos. Si la mayoría de los objetos tienen un valor alto, entonces la configuración del cúmulo es apropiada. Si muchos puntos tienen un valor bajo o negativo, entonces la configuración de cúmulos puede tener demasiados o muy pocos cúmulos.\n",
        "\n",
        "El coeficiente Silhouette representa el valor máximo del promedio de los valores Silhouette para todos los datos de un dataset. Veamos como calcularlo en Spark con Python."
      ],
      "metadata": {
        "id": "D5ccM6Vw8TP4"
      }
    },
    {
      "cell_type": "code",
      "source": [
        "# Obtenemos el coeficiente Silhouette\n",
        "from pyspark.ml.evaluation import ClusteringEvaluator\n",
        "evaluator = ClusteringEvaluator()\n",
        "silhouette = evaluator.evaluate(predictions)\n",
        "print(\"El coeficiente Silhouette para este modelo es \" + str(silhouette))"
      ],
      "metadata": {
        "colab": {
          "base_uri": "https://localhost:8080/"
        },
        "id": "rw4vUPd28XVJ",
        "outputId": "169b9c00-7813-4619-f0f0-1da91ce044d4"
      },
      "execution_count": null,
      "outputs": [
        {
          "output_type": "stream",
          "name": "stdout",
          "text": [
            "El coeficiente Silhouette para este modelo es 0.7956353521569701\n"
          ]
        }
      ]
    },
    {
      "cell_type": "markdown",
      "source": [
        "Por último, dado que el dataset solo tiene dos columnas (dos dimensiones) es ineteresante representarlo gráficamente para visualizar la agrupación. También se representarán los centroides (con una estrella). Tengase en cuenta, que si el dataset tiene 3 o más dimensiones, este se peude reducir a 2 o 3 dimensiones para representarlo gráficmaente utilizando la técnica PCA estudiada anteriormente en este curso.\n",
        "\n",
        "Para representar gráficamente la solución, tenemos que cargar en memoria principal los datos que se quieran representar usando la biblioteca matplotlib de Python. De ser muy grande este dataset, podríamos llenar la memoria del nodo que ejecuta el programa principal, y en dicho caso solo se podría representar una muestra de la población (que quepa en memoria). Anteriormente en este curso se estudió como tomar muestras de una población y como trabajar con ellas."
      ],
      "metadata": {
        "id": "Uy4crjY9Efzq"
      }
    },
    {
      "cell_type": "code",
      "source": [
        "# Representación gráfica de la solución\n",
        "import matplotlib.pyplot as plt\n",
        "\n",
        "# Obtenemos de Spark los datos del PCA (cuidado con no desbordar la memoria)\n",
        "collected_data = df.select(\"features\").collect()\n",
        "collected_data = np.array(collected_data).reshape(-1,2)\n",
        "\n",
        "plt.figure(figsize=(9, 6))\n",
        "for k in np.unique(pred):\n",
        "  plt.scatter(collected_data[pred==k, 0], collected_data[pred==k, 1], label=\"Cluster {}\".format(k))\n",
        "  #plt.scatter(X[pred==k, 0], X[pred==k, 1], label=\"Cluster {}\".format(k))\n",
        "  plt.plot(centroides[k][0], centroides[k][1], 'k*', markersize=14) # Dibujamos los centroides\n",
        "\n",
        "plt.title(\"Algoritmo K-medias\", fontsize=14)\n",
        "plt.xlabel(r\"$x_1$\", fontsize=14)\n",
        "plt.ylabel(r\"$x_2$\", fontsize=14)\n",
        "plt.legend()\n",
        "plt.show()"
      ],
      "metadata": {
        "colab": {
          "base_uri": "https://localhost:8080/",
          "height": 570
        },
        "id": "bZ2GZWgHEjAj",
        "outputId": "b35c5446-6326-4507-f873-687f26f86321"
      },
      "execution_count": null,
      "outputs": [
        {
          "output_type": "display_data",
          "data": {
            "text/plain": [
              "<Figure size 900x600 with 1 Axes>"
            ],
            "image/png": "[encoded data removed]"
          },
          "metadata": {}
        }
      ]
    }
  ]
}