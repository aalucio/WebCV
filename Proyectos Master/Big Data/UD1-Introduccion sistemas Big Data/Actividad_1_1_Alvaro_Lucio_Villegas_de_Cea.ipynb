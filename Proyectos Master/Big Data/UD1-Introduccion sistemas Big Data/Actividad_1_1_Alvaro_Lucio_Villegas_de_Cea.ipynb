{
  "nbformat": 4,
  "nbformat_minor": 0,
  "metadata": {
    "colab": {
      "provenance": []
    },
    "kernelspec": {
      "name": "python3",
      "display_name": "Python 3"
    },
    "language_info": {
      "name": "python"
    }
  },
  "cells": [
    {
      "cell_type": "markdown",
      "metadata": {
        "id": "xi7Zm7Llas1C"
      },
      "source": [
        "REPRESENTACIÓN GRÁFICA DE ÓRDENES DE COMPLEJIDAD COMPUTACIONAL"
      ]
    },
    {
      "cell_type": "markdown",
      "metadata": {
        "id": "5q-8O8CZ62Pn"
      },
      "source": [
        "Apartado b)"
      ]
    },
    {
      "cell_type": "code",
      "metadata": {
        "id": "gPaKv_yUapMY"
      },
      "source": [
        "from matplotlib import pyplot as plt # Librería para representación gráfica\n",
        "import numpy as np # librería para cálculo matemático\n",
        "import math # funciones matemáticas"
      ],
      "execution_count": null,
      "outputs": []
    },
    {
      "cell_type": "markdown",
      "metadata": {
        "id": "jDi0tDqsdx__"
      },
      "source": [
        "Apartado c) Complejidad Método de la Burbuja"
      ]
    },
    {
      "cell_type": "code",
      "metadata": {
        "id": "8mJtQ_6sXm9i"
      },
      "source": [
        "m=20. # Número de elementos con el que vamos a trabajar\n",
        "n=np.arange(m) # creacion de vector del eje X [0,1,2,3....19]\n",
        "y=np.zeros(len(n)) # inicialización del vector del eje y\n",
        "\n",
        "# La indentación marca lo que está dentro del bucle for\n",
        "for i in  range(len(n)):\n",
        "  y[i]= #completa la función que representa el orden de complejidad del método de la burbuja #########\n",
        "  print(y[i])\n",
        "#Pintamos la curva para O(n^2)\n",
        "plt.plot(n,y,color=\"red\")\n",
        "plt.show()"
      ],
      "execution_count": null,
      "outputs": []
    },
    {
      "cell_type": "code",
      "source": [
        "m=20. # Número de elementos con el que vamos a trabajar\n",
        "n=np.arange(m) # creacion de vector del eje X [0,1,2,3....19]\n",
        "y=np.zeros(len(n)) # inicialización del vector del eje y\n",
        "\n",
        "# La indentación marca lo que está dentro del bucle for\n",
        "for i in  range(len(n)):\n",
        "  y[i]=math.pow(n[i],2) #completa la función que representa el orden de complejidad del método de la burbuja #########\n",
        "  print(y[i])\n",
        "#Pintamos la curva para O(n^2)\n",
        "plt.plot(n,y,color=\"red\")\n",
        "plt.show()"
      ],
      "metadata": {
        "colab": {
          "base_uri": "https://localhost:8080/",
          "height": 622
        },
        "id": "WSwOOpfWHiMY",
        "outputId": "76dced13-72ef-410b-e395-9ab0cc79323e"
      },
      "execution_count": null,
      "outputs": [
        {
          "output_type": "stream",
          "name": "stdout",
          "text": [
            "0.0\n",
            "1.0\n",
            "4.0\n",
            "9.0\n",
            "16.0\n",
            "25.0\n",
            "36.0\n",
            "49.0\n",
            "64.0\n",
            "81.0\n",
            "100.0\n",
            "121.0\n",
            "144.0\n",
            "169.0\n",
            "196.0\n",
            "225.0\n",
            "256.0\n",
            "289.0\n",
            "324.0\n",
            "361.0\n"
          ]
        },
        {
          "output_type": "display_data",
          "data": {
            "text/plain": [
              "<Figure size 432x288 with 1 Axes>"
            ],
            "image/png": "[encoded data removed]"
          },
          "metadata": {
            "needs_background": "light"
          }
        }
      ]
    },
    {
      "cell_type": "markdown",
      "source": [
        "Apartado e) Ordenacion Shell"
      ],
      "metadata": {
        "id": "RQjq44ikJsK3"
      }
    },
    {
      "cell_type": "code",
      "source": [
        "m=20. # Número de elementos con el que vamos a trabajar\n",
        "n=np.arange(m) # creacion de vector del eje X [0,1,2,3....19]\n",
        "y=np.zeros(len(n)) # inicialización del vector del eje y\n",
        "\n",
        "# La indentación marca lo que está dentro del bucle for\n",
        "for i in  range(len(n)):\n",
        "  y[i]=math.pow(n[i],1.5) #completa la función que representa el orden de complejidad del método de la burbuja #########\n",
        "  print(y[i])\n",
        "#Pintamos la curva para O(n^2)\n",
        "plt.plot(n,y,color=\"red\")\n",
        "plt.show()"
      ],
      "metadata": {
        "id": "OVflWQSiHvKh",
        "colab": {
          "base_uri": "https://localhost:8080/",
          "height": 622
        },
        "outputId": "a68f3f00-9d79-4ae3-c70e-071691c5c3fe"
      },
      "execution_count": null,
      "outputs": [
        {
          "output_type": "stream",
          "name": "stdout",
          "text": [
            "0.0\n",
            "1.0\n",
            "2.8284271247461903\n",
            "5.196152422706632\n",
            "8.0\n",
            "11.180339887498949\n",
            "14.696938456699069\n",
            "18.520259177452136\n",
            "22.627416997969522\n",
            "27.0\n",
            "31.622776601683793\n",
            "36.4828726939094\n",
            "41.569219381653056\n",
            "46.87216658103186\n",
            "52.38320341483518\n",
            "58.09475019311125\n",
            "64.0\n",
            "70.09279563550022\n",
            "76.36753236814714\n",
            "82.8190799272728\n"
          ]
        },
        {
          "output_type": "display_data",
          "data": {
            "text/plain": [
              "<Figure size 432x288 with 1 Axes>"
            ],
            "image/png": "[encoded data removed]"
          },
          "metadata": {
            "needs_background": "light"
          }
        }
      ]
    },
    {
      "cell_type": "markdown",
      "source": [
        "Ordenacion Radix"
      ],
      "metadata": {
        "id": "TOPxkCNLKtmc"
      }
    },
    {
      "cell_type": "code",
      "source": [
        "m=20. # Número de elementos con el que vamos a trabajar\n",
        "n=np.arange(m) # creacion de vector del eje X [0,1,2,3....19]\n",
        "y=np.zeros(len(n)) # inicialización del vector del eje y\n",
        "\n",
        "# La indentación marca lo que está dentro del bucle for\n",
        "for i in  range(len(n)):\n",
        "  y[i]=math.pow(n[i],3) #completa la función que representa el orden de complejidad del método de la burbuja #########\n",
        "  print(y[i])\n",
        "#Pintamos la curva para O(n^2)\n",
        "plt.plot(n,y,color=\"red\")\n",
        "plt.show()"
      ],
      "metadata": {
        "id": "weQYgKxeKt6x",
        "colab": {
          "base_uri": "https://localhost:8080/",
          "height": 622
        },
        "outputId": "8381a574-e70e-4f6b-eec0-7efdfc42ead4"
      },
      "execution_count": null,
      "outputs": [
        {
          "output_type": "stream",
          "name": "stdout",
          "text": [
            "0.0\n",
            "1.0\n",
            "8.0\n",
            "27.0\n",
            "64.0\n",
            "125.0\n",
            "216.0\n",
            "343.0\n",
            "512.0\n",
            "729.0\n",
            "1000.0\n",
            "1331.0\n",
            "1728.0\n",
            "2197.0\n",
            "2744.0\n",
            "3375.0\n",
            "4096.0\n",
            "4913.0\n",
            "5832.0\n",
            "6859.0\n"
          ]
        },
        {
          "output_type": "display_data",
          "data": {
            "text/plain": [
              "<Figure size 432x288 with 1 Axes>"
            ],
            "image/png": "[encoded data removed]"
          },
          "metadata": {
            "needs_background": "light"
          }
        }
      ]
    },
    {
      "cell_type": "markdown",
      "source": [
        "Ordenacion por Mezcla"
      ],
      "metadata": {
        "id": "VpYs_OXLLZ-O"
      }
    },
    {
      "cell_type": "code",
      "source": [
        "m=20. # Número de elementos con el que vamos a trabajar\n",
        "n=np.arange(m) # creacion de vector del eje X [0,1,2,3....19]\n",
        "y=np.zeros(len(n)) # inicialización del vector del eje y\n",
        "\n",
        "# La indentación marca lo que está dentro del bucle for\n",
        "for i in  range(len(n)):\n",
        "  if i != 0:\n",
        "    y[i]=math.log10(n[i]) #completa la función que representa el orden de complejidad del método de la burbuja #########\n",
        "  print(y[i])\n",
        "#Pintamos la curva para O(n^2)\n",
        "plt.plot(n,y,color=\"red\")\n",
        "plt.show()"
      ],
      "metadata": {
        "colab": {
          "base_uri": "https://localhost:8080/",
          "height": 622
        },
        "id": "UXEWstvuLeCp",
        "outputId": "77cfcbe8-a847-45ac-b23c-998e6c73d9f4"
      },
      "execution_count": null,
      "outputs": [
        {
          "output_type": "stream",
          "name": "stdout",
          "text": [
            "0.0\n",
            "0.0\n",
            "0.3010299956639812\n",
            "0.47712125471966244\n",
            "0.6020599913279624\n",
            "0.6989700043360189\n",
            "0.7781512503836436\n",
            "0.8450980400142568\n",
            "0.9030899869919435\n",
            "0.9542425094393249\n",
            "1.0\n",
            "1.041392685158225\n",
            "1.0791812460476249\n",
            "1.1139433523068367\n",
            "1.146128035678238\n",
            "1.1760912590556813\n",
            "1.2041199826559248\n",
            "1.2304489213782739\n",
            "1.255272505103306\n",
            "1.2787536009528289\n"
          ]
        },
        {
          "output_type": "display_data",
          "data": {
            "text/plain": [
              "<Figure size 432x288 with 1 Axes>"
            ],
            "image/png": "[encoded data removed]"
          },
          "metadata": {
            "needs_background": "light"
          }
        }
      ]
    },
    {
      "cell_type": "markdown",
      "source": [
        "Ordenacion Exhaustiva"
      ],
      "metadata": {
        "id": "nsBtANMDLgqG"
      }
    },
    {
      "cell_type": "code",
      "source": [
        "m=20. # Número de elementos con el que vamos a trabajar\n",
        "n=np.arange(m) # creacion de vector del eje X [0,1,2,3....19]\n",
        "y=np.zeros(len(n)) # inicialización del vector del eje y\n",
        "\n",
        "# La indentación marca lo que está dentro del bucle for\n",
        "for i in  range(len(n)):\n",
        "  if i!= 0:\n",
        "    y[i]=math.factorial(n[i]) #completa la función que representa el orden de complejidad del método de la burbuja #########\n",
        "  print(y[i])\n",
        "#Pintamos la curva para O(n^2)\n",
        "plt.plot(n,y,color=\"red\")\n",
        "plt.show()"
      ],
      "metadata": {
        "colab": {
          "base_uri": "https://localhost:8080/",
          "height": 633
        },
        "id": "W_LB9pumReob",
        "outputId": "5e9ce746-4533-4a3b-d76b-31762a219ae2"
      },
      "execution_count": null,
      "outputs": [
        {
          "output_type": "stream",
          "name": "stdout",
          "text": [
            "0.0\n",
            "1.0\n",
            "2.0\n",
            "6.0\n",
            "24.0\n",
            "120.0\n",
            "720.0\n",
            "5040.0\n",
            "40320.0\n",
            "362880.0\n",
            "3628800.0\n",
            "39916800.0\n",
            "479001600.0\n",
            "6227020800.0\n",
            "87178291200.0\n",
            "1307674368000.0\n",
            "20922789888000.0\n",
            "355687428096000.0\n",
            "6402373705728000.0\n",
            "1.21645100408832e+17\n"
          ]
        },
        {
          "output_type": "display_data",
          "data": {
            "text/plain": [
              "<Figure size 432x288 with 1 Axes>"
            ],
            "image/png": "[encoded data removed]"
          },
          "metadata": {
            "needs_background": "light"
          }
        }
      ]
    },
    {
      "cell_type": "markdown",
      "source": [
        "Apartado I)"
      ],
      "metadata": {
        "id": "kbCUsaYLSswJ"
      }
    },
    {
      "cell_type": "code",
      "source": [
        "from numpy.core.fromnumeric import mean\n",
        "m=20. # Número de elementos con el que vamos a trabajar\n",
        "n=np.arange(m) # creacion de vector del eje X [0,1,2,3....19]\n",
        "\n",
        "bur=np.zeros(len(n)) # inicialización del vector del eje y\n",
        "s=np.zeros(len(n)) # inicialización del vector del eje y\n",
        "ra=np.zeros(len(n)) # inicialización del vector del eje y\n",
        "mez=np.zeros(len(n)) # inicialización del vector del eje y\n",
        "ex=np.zeros(len(n)) # inicialización del vector del eje y\n",
        "\n",
        "\n",
        "# La indentación marca lo que está dentro del bucle for\n",
        "for i in  range(len(n)):\n",
        "    #Burbuja\n",
        "    bur[i]=math.pow(n[i],2)\n",
        "    #Shell\n",
        "    s[i]=math.pow(n[i],1.5)\n",
        "    #Radix\n",
        "    ra[i]=math.pow(n[i],3)\n",
        "    #Mezcla\n",
        "    if i != 0:\n",
        "      mez[i]=math.log10(n[i])\n",
        "    #Exhaustiva\n",
        "      ex[i]=math.factorial(n[i])\n",
        "\n",
        "\n",
        "\n",
        "\n",
        "\n",
        "\n",
        "    print(bur[i],s[i],ra[i],mez[i],ex[i])\n",
        "\n",
        "#Pintamos la curva para O(n^2)\n",
        "plt.plot(n,bur,color=\"red\")\n",
        "plt.plot(n,s,color=\"blue\")\n",
        "plt.plot(n,ra,color=\"green\")\n",
        "plt.plot(n,mez,color=\"yellow\")\n",
        "plt.plot(n,ex,color=\"orange\")\n",
        "plt.legend(['Burbuja',\"Shell\",'Radix','Mezcla','Exhaustiva'])\n",
        "\n",
        "#plt.plot(n,ex,color=\"blue\")\n",
        "plt.yscale(\"log\")\n",
        "plt.show()"
      ],
      "metadata": {
        "colab": {
          "base_uri": "https://localhost:8080/",
          "height": 622
        },
        "id": "VS68gMhVStWI",
        "outputId": "05621029-cadc-4b01-f186-3d037c6e2fc2"
      },
      "execution_count": null,
      "outputs": [
        {
          "output_type": "stream",
          "name": "stdout",
          "text": [
            "0.0 0.0 0.0 0.0 0.0\n",
            "1.0 1.0 1.0 0.0 1.0\n",
            "4.0 2.8284271247461903 8.0 0.3010299956639812 2.0\n",
            "9.0 5.196152422706632 27.0 0.47712125471966244 6.0\n",
            "16.0 8.0 64.0 0.6020599913279624 24.0\n",
            "25.0 11.180339887498949 125.0 0.6989700043360189 120.0\n",
            "36.0 14.696938456699069 216.0 0.7781512503836436 720.0\n",
            "49.0 18.520259177452136 343.0 0.8450980400142568 5040.0\n",
            "64.0 22.627416997969522 512.0 0.9030899869919435 40320.0\n",
            "81.0 27.0 729.0 0.9542425094393249 362880.0\n",
            "100.0 31.622776601683793 1000.0 1.0 3628800.0\n",
            "121.0 36.4828726939094 1331.0 1.041392685158225 39916800.0\n",
            "144.0 41.569219381653056 1728.0 1.0791812460476249 479001600.0\n",
            "169.0 46.87216658103186 2197.0 1.1139433523068367 6227020800.0\n",
            "196.0 52.38320341483518 2744.0 1.146128035678238 87178291200.0\n",
            "225.0 58.09475019311125 3375.0 1.1760912590556813 1307674368000.0\n",
            "256.0 64.0 4096.0 1.2041199826559248 20922789888000.0\n",
            "289.0 70.09279563550022 4913.0 1.2304489213782739 355687428096000.0\n",
            "324.0 76.36753236814714 5832.0 1.255272505103306 6402373705728000.0\n",
            "361.0 82.8190799272728 6859.0 1.2787536009528289 1.21645100408832e+17\n"
          ]
        },
        {
          "output_type": "display_data",
          "data": {
            "text/plain": [
              "<Figure size 432x288 with 1 Axes>"
            ],
            "image/png": "[encoded data removed]"
          },
          "metadata": {
            "needs_background": "light"
          }
        }
      ]
    },
    {
      "cell_type": "markdown",
      "source": [
        "Preguntas:\n",
        "\n",
        "Apartado J)\n",
        "  Estan muy juntas ya que hay una que se aleja mucho y no permite ver con claridad las otras\n",
        "\n",
        "Apartado K)\n",
        "  Ahora se han escalado segun su exponencial y es mas secillo de analizar"
      ],
      "metadata": {
        "id": "vz5dy_wqZFUg"
      }
    }
  ]
}