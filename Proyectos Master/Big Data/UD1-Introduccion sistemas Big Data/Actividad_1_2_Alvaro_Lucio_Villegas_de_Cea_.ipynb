{
  "nbformat": 4,
  "nbformat_minor": 0,
  "metadata": {
    "colab": {
      "provenance": [],
      "collapsed_sections": []
    },
    "kernelspec": {
      "name": "python3",
      "display_name": "Python 3"
    },
    "language_info": {
      "name": "python"
    }
  },
  "cells": [
    {
      "cell_type": "markdown",
      "source": [
        "Apartado a"
      ],
      "metadata": {
        "id": "89bQEbPwWume"
      }
    },
    {
      "cell_type": "code",
      "source": [
        "from math import *\n",
        "import plotly.express as px"
      ],
      "metadata": {
        "id": "rbsmxMIEViV2"
      },
      "execution_count": null,
      "outputs": []
    },
    {
      "cell_type": "code",
      "source": [
        "y=10**sqrt(50*log10(50))\n",
        "j=y/(1.105*(10**15))\n",
        "print(j)"
      ],
      "metadata": {
        "colab": {
          "base_uri": "https://localhost:8080/"
        },
        "id": "vjBCjRVJUzTt",
        "outputId": "d20ee2a5-8f21-4bf3-f42b-3348013de5df"
      },
      "execution_count": null,
      "outputs": [
        {
          "output_type": "stream",
          "name": "stdout",
          "text": [
            "1.4906949774249154e-06\n"
          ]
        }
      ]
    },
    {
      "cell_type": "markdown",
      "source": [
        "Apartado b"
      ],
      "metadata": {
        "id": "_uiuJ0A_WmIo"
      }
    },
    {
      "cell_type": "code",
      "execution_count": null,
      "metadata": {
        "id": "aoq7a1CXU8uQ",
        "colab": {
          "base_uri": "https://localhost:8080/"
        },
        "outputId": "44831fd2-679a-414f-c850-2af0bd05d119"
      },
      "outputs": [
        {
          "output_type": "stream",
          "name": "stdout",
          "text": [
            "3.4871148e+22\n",
            "Número máximo de cifras en un año= 217\n"
          ]
        }
      ],
      "source": [
        "#año= 31.557.600 Segundos\n",
        "datosAño=(31557600) * (1.105*(10**15))\n",
        "print(datosAño)\n",
        "\n",
        "# Comenzamos con un número de 1 dígito\n",
        "n=1                            \n",
        "# número de operaciones para romper la clave\n",
        "fA=1                           \n",
        "while  fA <= datosAño:\n",
        "    n+=1\n",
        "    fA=10**sqrt(n*log10(n))\n",
        "\n",
        "print('Número máximo de cifras en un año=' , n-1)"
      ]
    },
    {
      "cell_type": "markdown",
      "source": [
        "Apartado c"
      ],
      "metadata": {
        "id": "oQRcwS4ZWxu5"
      }
    },
    {
      "cell_type": "code",
      "source": [
        "#año= 31.557.600 Segundos\n",
        "datosAño=(31557600) * (1.105*(10**15))\n",
        "print(datosAño)\n",
        "datosAño=datosAño*2\n",
        "\n",
        "# Comenzamos con un número de 1 dígito\n",
        "n=1                            \n",
        "# número de operaciones para romper la clave\n",
        "fA=1                           \n",
        "while  fA<=datosAño:\n",
        "    n+=1\n",
        "    fA=10**sqrt(n*log10(n))\n",
        "    \n",
        "\n",
        "print('Número máximo de cifras en un año=' , n-1)"
      ],
      "metadata": {
        "colab": {
          "base_uri": "https://localhost:8080/"
        },
        "id": "7gji_CRjrJiT",
        "outputId": "9ef2558b-a0a9-44de-d69b-7c91110458a2"
      },
      "execution_count": null,
      "outputs": [
        {
          "output_type": "stream",
          "name": "stdout",
          "text": [
            "3.4871148e+22\n",
            "Número máximo de cifras en un año= 222\n"
          ]
        }
      ]
    },
    {
      "cell_type": "markdown",
      "source": [
        "Apartado d"
      ],
      "metadata": {
        "id": "N7e4OP2HWzbN"
      }
    },
    {
      "cell_type": "code",
      "source": [
        "from plotly.missing_ipywidgets import FigureWidget\n",
        "x=[]\n",
        "y=[]\n",
        "n=1\n",
        "fA=1\n",
        "\n",
        "while  fA<=datosAño:\n",
        "  n+=1\n",
        "  fA=10**sqrt(n*log10(n))\n",
        "  x.append(n)\n",
        "  y.append(fA)\n",
        "\n",
        "#Visualización\n",
        "fig=px.scatter(x=x,y=y)\n",
        "fig.show()"
      ],
      "metadata": {
        "colab": {
          "base_uri": "https://localhost:8080/",
          "height": 542
        },
        "id": "py04eW7Lr_gQ",
        "outputId": "c3812e7e-6ce2-4843-c6d9-8f2e0f0d66e8"
      },
      "execution_count": null,
      "outputs": [
        {
          "output_type": "display_data",
          "data": {
            "text/html": [
              "<html>\n",
              "<head><meta charset=\"utf-8\" /></head>\n",
              "<body>\n",
              "    <div>            <script src=\"https://cdnjs.cloudflare.com/ajax/libs/mathjax/2.7.5/MathJax.js?config=TeX-AMS-MML_SVG\"></script><script type=\"text/javascript\">if (window.MathJax) {MathJax.Hub.Config({SVG: {font: \"STIX-Web\"}});}</script>                <script type=\"text/javascript\">window.PlotlyConfig = {MathJaxConfig: 'local'};</script>\n",
              "        <script src=\"https://cdn.plot.ly/plotly-2.8.3.min.js\"></script>                <div id=\"00a97b64-3997-4105-a998-182a7e7dcf62\" class=\"plotly-graph-div\" style=\"height:525px; width:100%;\"></div>            <script type=\"text/javascript\">                                    window.PLOTLYENV=window.PLOTLYENV || {};                                    if (document.getElementById(\"00a97b64-3997-4105-a998-182a7e7dcf62\")) {                    Plotly.newPlot(                        \"00a97b64-3997-4105-a998-182a7e7dcf62\",                        [{\"hovertemplate\":\"x=%{x}<br>y=%{y}<extra></extra>\",\"legendgroup\":\"\",\"marker\":{\"color\":\"#636efa\",\"symbol\":\"circle\"},\"mode\":\"markers\",\"name\":\"\",\"orientation\":\"v\",\"showlegend\":false,\"x\":[2,3,4,5,6,7,8,9,10,11,12,13,14,15,16,17,18,19,20,21,22,23,24,25,26,27,28,29,30,31,32,33,34,35,36,37,38,39,40,41,42,43,44,45,46,47,48,49,50,51,52,53,54,55,56,57,58,59,60,61,62,63,64,65,66,67,68,69,70,71,72,73,74,75,76,77,78,79,80,81,82,83,84,85,86,87,88,89,90,91,92,93,94,95,96,97,98,99,100,101,102,103,104,105,106,107,108,109,110,111,112,113,114,115,116,117,118,119,120,121,122,123,124,125,126,127,128,129,130,131,132,133,134,135,136,137,138,139,140,141,142,143,144,145,146,147,148,149,150,151,152,153,154,155,156,157,158,159,160,161,162,163,164,165,166,167,168,169,170,171,172,173,174,175,176,177,178,179,180,181,182,183,184,185,186,187,188,189,190,191,192,193,194,195,196,197,198,199,200,201,202,203,204,205,206,207,208,209,210,211,212,213,214,215,216,217,218],\"xaxis\":\"x\",\"y\":[5.96932532765295,15.717959190882489,35.63284486735899,74.03750877123095,144.79897576462992,270.5318401558802,487.3981839955737,852.2364688089334,1453.0403018990435,2424.213165021829,3968.5801093648083,6388.891977312397,10132.578398392052,15854.88000308068,24507.332300340433,37461.0324609839,56677.3894360785,84943.38822797686,126194.11472563603,185952.80572851922,271928.5459507916,394824.61731833266,569427.2946081654,816066.6964513862,1162569.568581639,1646860.4086092901,2320414.4342007455,3252826.4523810046,4537837.370581183,6301259.51512207,8711368.892584411,11992494.326221978,16442739.146497961,22457032.222149875,30557035.832545705,41429855.96289931,55978028.15465767,75383916.5320048,101192499.1352433,135417561.45301712,180677634.30798256,240369656.57196042,318890397.22253966,421918233.15802354,556771069.7547585,732860158.8449676,962264495.8638234,1260456587.8128052,1647217950.0545316,2147792047.5109935,2794333953.541291,3627730256.7387786,4699880310.580945,6076551534.284397,7840948036.799345,10098164445.110447,12980736802.85753,16655551378.76987,21332432140.946342,27274800878.403255,34812893346.65359,44360123836.22315,56433323384.86995,71677738508.6099,90897873877.96469,115095501115.52802,145516445622.13348,183708114608.3472,231590154993.74246,291541144751.7982,366504843864.3778,460120283160.72784,576880877114.7246,722328841457.5869,903292515642.4607,1128175778457.7244,1407310655764.6465,1753386516048.3013,2181972008043.9534,2712149205444.7583,3367283394105.8516,4175956695089.8853,5173099414327.45,6401359827118.286,7912761257478.146,9770705052671.578,12052389683572.941,14851730078886.775,18282877848603.273,22484462769769.312,27624699387556.36,33907530526196.004,41580012733966.44,50941188179564.11,62352734424949.33,76251739179454.6,93166013191361.56,113732432740721.28,138718895979377.45,169050587231396.38,205841373389345.34,250431310327414.5,304431419040513.4,369777105986569.94,448791855699072.25,544263123000508.9,659532705118379.5,798604290097972.0,966271368146561.1,1168269269840342.5,1411455774583403.0,1704025531993728.0,2055764478656713.2,2478351537066064.0,2985716180749232.0,3594461972457732.5,4324367969287129.5,5198981984465827.0,6246322152531166.0,7499706123547697.0,8998730583797846.0,1.079042774752863e+16,1.2930630082924732e+16,1.5485579937259682e+16,1.853382704111593e+16,2.216846425072713e+16,2.6499760506440156e+16,3.165826004787947e+16,3.779842866938957e+16,4.5102941497402264e+16,5.378772274331583e+16,6.410786650081112e+16,7.636458934379394e+16,9.091339073675762e+16,1.0817362666846411e+17,1.2863973612824818e+17,1.528943998328513e+17,1.8162395687214304e+17,2.1563645870597542e+17,2.5588280240427254e+17,3.0348145755677523e+17,3.5974738547995066e+17,4.262258470562053e+17,5.0473190887797306e+17,5.97396588787728e+17,7.067207342325288e+17,8.356379033498819e+17,9.875877231311182e+17,1.166601435704088e+18,1.3774016177325076e+18,1.6255183748978468e+18,1.9174246800350182e+18,2.2606939473597847e+18,2.664183425127895e+18,3.1382475550957757e+18,3.694986100917379e+18,4.3485326024545556e+18,5.115389584232008e+18,6.014817951554577e+18,7.069289167352771e+18,8.305010139875174e+18,9.752532292559972e+18,1.1447458063410598e+19,1.3431260127062168e+19,1.5752230988729745e+19,1.8466583311526846e+19,2.163972446013879e+19,2.5347732335151387e+19,2.9679063702900556e+19,3.473653097505074e+19,4.063958885125699e+19,4.752697851139764e+19,5.555978425021336e+19,6.4924965723111326e+19,7.583943847330623e+19,8.855478631570042e+19,1.0336270166567607e+20,1.2060126425410652e+20,1.4066218512939278e+20,1.639991617168658e+20,1.911375113322957e+20,2.2268527532528206e+20,2.5934601441168422e+20,3.019335482572136e+20,3.513889295845889e+20,4.087999856643068e+20,4.754238087780405e+20,5.527126329845012e+20,6.423435982621265e+20,7.46252975981259e+20,8.666755129569657e+20,1.0061896465176193e+21,1.167769451761099e+21,1.3548443063575946e+21,1.5713674000544998e+21,1.8218943779001483e+21,2.1116735909218358e+21,2.446749638744049e+21,2.834082129023786e+21,3.281681852711277e+21,3.798766886675065e+21,4.395941491452225e+21,5.085401077803711e+21,5.881166978196706e+21,6.799355286039542e+21,7.858484625250605e+21,9.079828395515292e+21,1.048781781568866e+22,1.2110502972051373e+22,1.3980080084068598e+22,1.6133494344416083e+22,1.8613128990997283e+22,2.1467592747649463e+22,2.475261945119654e+22,2.853209559260629e+22,3.287923366998655e+22,3.7877911715836326e+22],\"yaxis\":\"y\",\"type\":\"scatter\"}],                        {\"template\":{\"data\":{\"bar\":[{\"error_x\":{\"color\":\"#2a3f5f\"},\"error_y\":{\"color\":\"#2a3f5f\"},\"marker\":{\"line\":{\"color\":\"#E5ECF6\",\"width\":0.5},\"pattern\":{\"fillmode\":\"overlay\",\"size\":10,\"solidity\":0.2}},\"type\":\"bar\"}],\"barpolar\":[{\"marker\":{\"line\":{\"color\":\"#E5ECF6\",\"width\":0.5},\"pattern\":{\"fillmode\":\"overlay\",\"size\":10,\"solidity\":0.2}},\"type\":\"barpolar\"}],\"carpet\":[{\"aaxis\":{\"endlinecolor\":\"#2a3f5f\",\"gridcolor\":\"white\",\"linecolor\":\"white\",\"minorgridcolor\":\"white\",\"startlinecolor\":\"#2a3f5f\"},\"baxis\":{\"endlinecolor\":\"#2a3f5f\",\"gridcolor\":\"white\",\"linecolor\":\"white\",\"minorgridcolor\":\"white\",\"startlinecolor\":\"#2a3f5f\"},\"type\":\"carpet\"}],\"choropleth\":[{\"colorbar\":{\"outlinewidth\":0,\"ticks\":\"\"},\"type\":\"choropleth\"}],\"contour\":[{\"colorbar\":{\"outlinewidth\":0,\"ticks\":\"\"},\"colorscale\":[[0.0,\"#0d0887\"],[0.1111111111111111,\"#46039f\"],[0.2222222222222222,\"#7201a8\"],[0.3333333333333333,\"#9c179e\"],[0.4444444444444444,\"#bd3786\"],[0.5555555555555556,\"#d8576b\"],[0.6666666666666666,\"#ed7953\"],[0.7777777777777778,\"#fb9f3a\"],[0.8888888888888888,\"#fdca26\"],[1.0,\"#f0f921\"]],\"type\":\"contour\"}],\"contourcarpet\":[{\"colorbar\":{\"outlinewidth\":0,\"ticks\":\"\"},\"type\":\"contourcarpet\"}],\"heatmap\":[{\"colorbar\":{\"outlinewidth\":0,\"ticks\":\"\"},\"colorscale\":[[0.0,\"#0d0887\"],[0.1111111111111111,\"#46039f\"],[0.2222222222222222,\"#7201a8\"],[0.3333333333333333,\"#9c179e\"],[0.4444444444444444,\"#bd3786\"],[0.5555555555555556,\"#d8576b\"],[0.6666666666666666,\"#ed7953\"],[0.7777777777777778,\"#fb9f3a\"],[0.8888888888888888,\"#fdca26\"],[1.0,\"#f0f921\"]],\"type\":\"heatmap\"}],\"heatmapgl\":[{\"colorbar\":{\"outlinewidth\":0,\"ticks\":\"\"},\"colorscale\":[[0.0,\"#0d0887\"],[0.1111111111111111,\"#46039f\"],[0.2222222222222222,\"#7201a8\"],[0.3333333333333333,\"#9c179e\"],[0.4444444444444444,\"#bd3786\"],[0.5555555555555556,\"#d8576b\"],[0.6666666666666666,\"#ed7953\"],[0.7777777777777778,\"#fb9f3a\"],[0.8888888888888888,\"#fdca26\"],[1.0,\"#f0f921\"]],\"type\":\"heatmapgl\"}],\"histogram\":[{\"marker\":{\"pattern\":{\"fillmode\":\"overlay\",\"size\":10,\"solidity\":0.2}},\"type\":\"histogram\"}],\"histogram2d\":[{\"colorbar\":{\"outlinewidth\":0,\"ticks\":\"\"},\"colorscale\":[[0.0,\"#0d0887\"],[0.1111111111111111,\"#46039f\"],[0.2222222222222222,\"#7201a8\"],[0.3333333333333333,\"#9c179e\"],[0.4444444444444444,\"#bd3786\"],[0.5555555555555556,\"#d8576b\"],[0.6666666666666666,\"#ed7953\"],[0.7777777777777778,\"#fb9f3a\"],[0.8888888888888888,\"#fdca26\"],[1.0,\"#f0f921\"]],\"type\":\"histogram2d\"}],\"histogram2dcontour\":[{\"colorbar\":{\"outlinewidth\":0,\"ticks\":\"\"},\"colorscale\":[[0.0,\"#0d0887\"],[0.1111111111111111,\"#46039f\"],[0.2222222222222222,\"#7201a8\"],[0.3333333333333333,\"#9c179e\"],[0.4444444444444444,\"#bd3786\"],[0.5555555555555556,\"#d8576b\"],[0.6666666666666666,\"#ed7953\"],[0.7777777777777778,\"#fb9f3a\"],[0.8888888888888888,\"#fdca26\"],[1.0,\"#f0f921\"]],\"type\":\"histogram2dcontour\"}],\"mesh3d\":[{\"colorbar\":{\"outlinewidth\":0,\"ticks\":\"\"},\"type\":\"mesh3d\"}],\"parcoords\":[{\"line\":{\"colorbar\":{\"outlinewidth\":0,\"ticks\":\"\"}},\"type\":\"parcoords\"}],\"pie\":[{\"automargin\":true,\"type\":\"pie\"}],\"scatter\":[{\"marker\":{\"colorbar\":{\"outlinewidth\":0,\"ticks\":\"\"}},\"type\":\"scatter\"}],\"scatter3d\":[{\"line\":{\"colorbar\":{\"outlinewidth\":0,\"ticks\":\"\"}},\"marker\":{\"colorbar\":{\"outlinewidth\":0,\"ticks\":\"\"}},\"type\":\"scatter3d\"}],\"scattercarpet\":[{\"marker\":{\"colorbar\":{\"outlinewidth\":0,\"ticks\":\"\"}},\"type\":\"scattercarpet\"}],\"scattergeo\":[{\"marker\":{\"colorbar\":{\"outlinewidth\":0,\"ticks\":\"\"}},\"type\":\"scattergeo\"}],\"scattergl\":[{\"marker\":{\"colorbar\":{\"outlinewidth\":0,\"ticks\":\"\"}},\"type\":\"scattergl\"}],\"scattermapbox\":[{\"marker\":{\"colorbar\":{\"outlinewidth\":0,\"ticks\":\"\"}},\"type\":\"scattermapbox\"}],\"scatterpolar\":[{\"marker\":{\"colorbar\":{\"outlinewidth\":0,\"ticks\":\"\"}},\"type\":\"scatterpolar\"}],\"scatterpolargl\":[{\"marker\":{\"colorbar\":{\"outlinewidth\":0,\"ticks\":\"\"}},\"type\":\"scatterpolargl\"}],\"scatterternary\":[{\"marker\":{\"colorbar\":{\"outlinewidth\":0,\"ticks\":\"\"}},\"type\":\"scatterternary\"}],\"surface\":[{\"colorbar\":{\"outlinewidth\":0,\"ticks\":\"\"},\"colorscale\":[[0.0,\"#0d0887\"],[0.1111111111111111,\"#46039f\"],[0.2222222222222222,\"#7201a8\"],[0.3333333333333333,\"#9c179e\"],[0.4444444444444444,\"#bd3786\"],[0.5555555555555556,\"#d8576b\"],[0.6666666666666666,\"#ed7953\"],[0.7777777777777778,\"#fb9f3a\"],[0.8888888888888888,\"#fdca26\"],[1.0,\"#f0f921\"]],\"type\":\"surface\"}],\"table\":[{\"cells\":{\"fill\":{\"color\":\"#EBF0F8\"},\"line\":{\"color\":\"white\"}},\"header\":{\"fill\":{\"color\":\"#C8D4E3\"},\"line\":{\"color\":\"white\"}},\"type\":\"table\"}]},\"layout\":{\"annotationdefaults\":{\"arrowcolor\":\"#2a3f5f\",\"arrowhead\":0,\"arrowwidth\":1},\"autotypenumbers\":\"strict\",\"coloraxis\":{\"colorbar\":{\"outlinewidth\":0,\"ticks\":\"\"}},\"colorscale\":{\"diverging\":[[0,\"#8e0152\"],[0.1,\"#c51b7d\"],[0.2,\"#de77ae\"],[0.3,\"#f1b6da\"],[0.4,\"#fde0ef\"],[0.5,\"#f7f7f7\"],[0.6,\"#e6f5d0\"],[0.7,\"#b8e186\"],[0.8,\"#7fbc41\"],[0.9,\"#4d9221\"],[1,\"#276419\"]],\"sequential\":[[0.0,\"#0d0887\"],[0.1111111111111111,\"#46039f\"],[0.2222222222222222,\"#7201a8\"],[0.3333333333333333,\"#9c179e\"],[0.4444444444444444,\"#bd3786\"],[0.5555555555555556,\"#d8576b\"],[0.6666666666666666,\"#ed7953\"],[0.7777777777777778,\"#fb9f3a\"],[0.8888888888888888,\"#fdca26\"],[1.0,\"#f0f921\"]],\"sequentialminus\":[[0.0,\"#0d0887\"],[0.1111111111111111,\"#46039f\"],[0.2222222222222222,\"#7201a8\"],[0.3333333333333333,\"#9c179e\"],[0.4444444444444444,\"#bd3786\"],[0.5555555555555556,\"#d8576b\"],[0.6666666666666666,\"#ed7953\"],[0.7777777777777778,\"#fb9f3a\"],[0.8888888888888888,\"#fdca26\"],[1.0,\"#f0f921\"]]},\"colorway\":[\"#636efa\",\"#EF553B\",\"#00cc96\",\"#ab63fa\",\"#FFA15A\",\"#19d3f3\",\"#FF6692\",\"#B6E880\",\"#FF97FF\",\"#FECB52\"],\"font\":{\"color\":\"#2a3f5f\"},\"geo\":{\"bgcolor\":\"white\",\"lakecolor\":\"white\",\"landcolor\":\"#E5ECF6\",\"showlakes\":true,\"showland\":true,\"subunitcolor\":\"white\"},\"hoverlabel\":{\"align\":\"left\"},\"hovermode\":\"closest\",\"mapbox\":{\"style\":\"light\"},\"paper_bgcolor\":\"white\",\"plot_bgcolor\":\"#E5ECF6\",\"polar\":{\"angularaxis\":{\"gridcolor\":\"white\",\"linecolor\":\"white\",\"ticks\":\"\"},\"bgcolor\":\"#E5ECF6\",\"radialaxis\":{\"gridcolor\":\"white\",\"linecolor\":\"white\",\"ticks\":\"\"}},\"scene\":{\"xaxis\":{\"backgroundcolor\":\"#E5ECF6\",\"gridcolor\":\"white\",\"gridwidth\":2,\"linecolor\":\"white\",\"showbackground\":true,\"ticks\":\"\",\"zerolinecolor\":\"white\"},\"yaxis\":{\"backgroundcolor\":\"#E5ECF6\",\"gridcolor\":\"white\",\"gridwidth\":2,\"linecolor\":\"white\",\"showbackground\":true,\"ticks\":\"\",\"zerolinecolor\":\"white\"},\"zaxis\":{\"backgroundcolor\":\"#E5ECF6\",\"gridcolor\":\"white\",\"gridwidth\":2,\"linecolor\":\"white\",\"showbackground\":true,\"ticks\":\"\",\"zerolinecolor\":\"white\"}},\"shapedefaults\":{\"line\":{\"color\":\"#2a3f5f\"}},\"ternary\":{\"aaxis\":{\"gridcolor\":\"white\",\"linecolor\":\"white\",\"ticks\":\"\"},\"baxis\":{\"gridcolor\":\"white\",\"linecolor\":\"white\",\"ticks\":\"\"},\"bgcolor\":\"#E5ECF6\",\"caxis\":{\"gridcolor\":\"white\",\"linecolor\":\"white\",\"ticks\":\"\"}},\"title\":{\"x\":0.05},\"xaxis\":{\"automargin\":true,\"gridcolor\":\"white\",\"linecolor\":\"white\",\"ticks\":\"\",\"title\":{\"standoff\":15},\"zerolinecolor\":\"white\",\"zerolinewidth\":2},\"yaxis\":{\"automargin\":true,\"gridcolor\":\"white\",\"linecolor\":\"white\",\"ticks\":\"\",\"title\":{\"standoff\":15},\"zerolinecolor\":\"white\",\"zerolinewidth\":2}}},\"xaxis\":{\"anchor\":\"y\",\"domain\":[0.0,1.0],\"title\":{\"text\":\"x\"}},\"yaxis\":{\"anchor\":\"x\",\"domain\":[0.0,1.0],\"title\":{\"text\":\"y\"}},\"legend\":{\"tracegroupgap\":0},\"margin\":{\"t\":60}},                        {\"responsive\": true}                    ).then(function(){\n",
              "                            \n",
              "var gd = document.getElementById('00a97b64-3997-4105-a998-182a7e7dcf62');\n",
              "var x = new MutationObserver(function (mutations, observer) {{\n",
              "        var display = window.getComputedStyle(gd).display;\n",
              "        if (!display || display === 'none') {{\n",
              "            console.log([gd, 'removed!']);\n",
              "            Plotly.purge(gd);\n",
              "            observer.disconnect();\n",
              "        }}\n",
              "}});\n",
              "\n",
              "// Listen for the removal of the full notebook cells\n",
              "var notebookContainer = gd.closest('#notebook-container');\n",
              "if (notebookContainer) {{\n",
              "    x.observe(notebookContainer, {childList: true});\n",
              "}}\n",
              "\n",
              "// Listen for the clearing of the current output cell\n",
              "var outputEl = gd.closest('.output');\n",
              "if (outputEl) {{\n",
              "    x.observe(outputEl, {childList: true});\n",
              "}}\n",
              "\n",
              "                        })                };                            </script>        </div>\n",
              "</body>\n",
              "</html>"
            ]
          },
          "metadata": {}
        }
      ]
    },
    {
      "cell_type": "markdown",
      "source": [
        "Apartado e"
      ],
      "metadata": {
        "id": "FMusttsKW01N"
      }
    },
    {
      "cell_type": "markdown",
      "source": [
        "Podemos concluir que la distribución se comporta de manera exponencial, por eso, a pesar de doblar la velocidad del ordenador el numero de cifras extra que podemos operar son solo 5.\n",
        "\n",
        "Debido al gran gasto que nos supone dublicar la potencia del ordenador no nos seria rentable."
      ],
      "metadata": {
        "id": "NUKVBt8pthgh"
      }
    }
  ]
}