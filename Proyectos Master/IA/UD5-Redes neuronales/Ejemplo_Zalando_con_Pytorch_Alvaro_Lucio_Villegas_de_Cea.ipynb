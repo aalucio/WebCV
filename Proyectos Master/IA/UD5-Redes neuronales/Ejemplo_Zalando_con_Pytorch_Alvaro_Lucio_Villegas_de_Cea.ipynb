{
  "nbformat": 4,
  "nbformat_minor": 0,
  "metadata": {
    "colab": {
      "provenance": []
    },
    "kernelspec": {
      "name": "python3",
      "display_name": "Python 3"
    },
    "language_info": {
      "name": "python"
    }
  },
  "cells": [
    {
      "cell_type": "markdown",
      "source": [
        "## Fhasion Mnist\n",
        "\n",
        "En el siguiente [link](https://github.com/zalandoresearch/fashion-mnist) se puede encontrar información acerca del dataset que se utiliza en este caso práctico."
      ],
      "metadata": {
        "id": "9t6Xugr2_RhV"
      }
    },
    {
      "cell_type": "code",
      "execution_count": 3,
      "metadata": {
        "id": "cH5oc3UiFmbs"
      },
      "outputs": [],
      "source": [
        "import tensorflow as tf\n",
        "from tensorflow import keras\n",
        "\n",
        "# Helper libraries\n",
        "import numpy as np\n",
        "import matplotlib.pyplot as plt"
      ]
    },
    {
      "cell_type": "code",
      "source": [
        "(train_images, train_labels), (test_images,\n",
        "                               test_labels) = keras.datasets.fashion_mnist.load_data()"
      ],
      "metadata": {
        "id": "IXwdBiUlOIis",
        "colab": {
          "base_uri": "https://localhost:8080/"
        },
        "outputId": "ce1bd8a5-99dc-476a-c3cc-dbf935a1420f"
      },
      "execution_count": 4,
      "outputs": [
        {
          "output_type": "stream",
          "name": "stdout",
          "text": [
            "Downloading data from https://storage.googleapis.com/tensorflow/tf-keras-datasets/train-labels-idx1-ubyte.gz\n",
            "29515/29515 [==============================] - 0s 0us/step\n",
            "Downloading data from https://storage.googleapis.com/tensorflow/tf-keras-datasets/train-images-idx3-ubyte.gz\n",
            "26421880/26421880 [==============================] - 0s 0us/step\n",
            "Downloading data from https://storage.googleapis.com/tensorflow/tf-keras-datasets/t10k-labels-idx1-ubyte.gz\n",
            "5148/5148 [==============================] - 0s 0us/step\n",
            "Downloading data from https://storage.googleapis.com/tensorflow/tf-keras-datasets/t10k-images-idx3-ubyte.gz\n",
            "4422102/4422102 [==============================] - 0s 0us/step\n"
          ]
        }
      ]
    },
    {
      "cell_type": "code",
      "source": [
        "# Output: (60000, 28, 28)\n",
        "train_images.shape"
      ],
      "metadata": {
        "id": "7HGshB3kFqT4"
      },
      "execution_count": null,
      "outputs": []
    },
    {
      "cell_type": "code",
      "source": [
        "# Output: 60000\n",
        "len(train_labels)"
      ],
      "metadata": {
        "colab": {
          "base_uri": "https://localhost:8080/"
        },
        "id": "uILWCREBFvME",
        "outputId": "f36c2072-4ea3-4ab0-d82f-9a9614b19eb5"
      },
      "execution_count": 6,
      "outputs": [
        {
          "output_type": "execute_result",
          "data": {
            "text/plain": [
              "60000"
            ]
          },
          "metadata": {},
          "execution_count": 6
        }
      ]
    },
    {
      "cell_type": "code",
      "source": [
        "# Output: (10000, 28, 28)\n",
        "test_images.shape"
      ],
      "metadata": {
        "colab": {
          "base_uri": "https://localhost:8080/"
        },
        "id": "l4N61oj1Fu83",
        "outputId": "eb4df2b3-0b14-4395-c304-fa794d91d325"
      },
      "execution_count": 7,
      "outputs": [
        {
          "output_type": "execute_result",
          "data": {
            "text/plain": [
              "(10000, 28, 28)"
            ]
          },
          "metadata": {},
          "execution_count": 7
        }
      ]
    },
    {
      "cell_type": "code",
      "source": [
        "# Output: 10000\n",
        "len(test_labels)"
      ],
      "metadata": {
        "colab": {
          "base_uri": "https://localhost:8080/"
        },
        "id": "lSgRX-VKFuvN",
        "outputId": "40f57b2b-c915-4f11-9b9e-379edc033ebc"
      },
      "execution_count": 8,
      "outputs": [
        {
          "output_type": "execute_result",
          "data": {
            "text/plain": [
              "10000"
            ]
          },
          "metadata": {},
          "execution_count": 8
        }
      ]
    },
    {
      "cell_type": "code",
      "source": [
        "# Output: array([0, 1, 2, 3, 4, 5, 6, 7, 8, 9], dtype=uint8)\n",
        "np.unique(train_labels)"
      ],
      "metadata": {
        "colab": {
          "base_uri": "https://localhost:8080/"
        },
        "id": "iwNNdIlRF5B1",
        "outputId": "45385e68-9219-4430-a46c-a821712f3fa8"
      },
      "execution_count": 9,
      "outputs": [
        {
          "output_type": "execute_result",
          "data": {
            "text/plain": [
              "array([0, 1, 2, 3, 4, 5, 6, 7, 8, 9], dtype=uint8)"
            ]
          },
          "metadata": {},
          "execution_count": 9
        }
      ]
    },
    {
      "cell_type": "code",
      "source": [
        "  plt.figure()\n",
        "  plt.imshow(train_images[0])\n",
        "  plt.colorbar()\n",
        "  plt.grid(False)\n",
        "  plt.show()"
      ],
      "metadata": {
        "colab": {
          "base_uri": "https://localhost:8080/",
          "height": 265
        },
        "id": "AaSli9WTtH1g",
        "outputId": "65f7c104-44d0-4be5-ea34-f5f6ee091b41"
      },
      "execution_count": 10,
      "outputs": [
        {
          "output_type": "display_data",
          "data": {
            "text/plain": [
              "<Figure size 432x288 with 2 Axes>"
            ],
            "image/png": "[encoded data removed]"
          },
          "metadata": {
            "needs_background": "light"
          }
        }
      ]
    },
    {
      "cell_type": "code",
      "source": [
        "train_images = train_images / 255.0\n",
        "test_images = test_images / 255.0"
      ],
      "metadata": {
        "id": "aSHzTcsTsp1k"
      },
      "execution_count": 11,
      "outputs": []
    },
    {
      "cell_type": "code",
      "source": [
        "import torch\n",
        "import torch.nn as nn\n",
        "import torch.optim as optim\n",
        "\n",
        "\n",
        "class Net(nn.Module):\n",
        "    def __init__(self):\n",
        "        super(Net, self).__init__()   # Llama al constructor de la superclase\n",
        "        self.flatten = nn.Flatten()  # Capa para aplanar los datos de entrada\n",
        "        self.fc1 = nn.Linear(28*28, 512)  # Primera capa completamente conectada\n",
        "        self.relu = nn.ReLU()  # Función de activación ReLU\n",
        "        self.fc2 = nn.Linear(512, 10)  # Segunda capa completamente conectada\n",
        "        self.softmax = nn.Softmax(dim=1)  # Función softmax para obtener la probabilidad de cada clase\n",
        "\n",
        "    def forward(self, x):\n",
        "        x = self.flatten(x)  # Aplana los datos de entrada\n",
        "        x = self.fc1(x)  # Primera capa completamente conectada\n",
        "        x = self.relu(x)  # Función de activación ReLU\n",
        "        x = self.fc2(x)  # Segunda capa completamente conectada\n",
        "        x = self.softmax(x)  # Función softmax para obtener la probabilidad de cada clase\n",
        "        return x\n",
        "\n",
        "model = Net()  # Instancia un objeto de la clase Net\n",
        "print(model)  # Imprime la información del modelo\n",
        "\n",
        "\n"
      ],
      "metadata": {
        "id": "x6hcoz7j3WqQ",
        "outputId": "293ae63b-6afc-418f-ffdd-110f40eeecae",
        "colab": {
          "base_uri": "https://localhost:8080/"
        }
      },
      "execution_count": 14,
      "outputs": [
        {
          "output_type": "stream",
          "name": "stdout",
          "text": [
            "Net(\n",
            "  (flatten): Flatten(start_dim=1, end_dim=-1)\n",
            "  (fc1): Linear(in_features=784, out_features=512, bias=True)\n",
            "  (relu): ReLU()\n",
            "  (fc2): Linear(in_features=512, out_features=10, bias=True)\n",
            "  (softmax): Softmax(dim=1)\n",
            ")\n"
          ]
        }
      ]
    },
    {
      "cell_type": "code",
      "source": [
        "# Definimos el criterio de pérdida y el optimizador\n",
        "criterion = nn.CrossEntropyLoss() # Criterio de pérdida para clasificación multiclase\n",
        "optimizer = optim.Adam(model.parameters()) # Optimizador Adam para actualizar los parámetros del modelo\n",
        "\n",
        "# Entrenamos el modelo por 10 épocas\n",
        "for epoch in range(10): \n",
        "# Por cada época, entrenamos el modelo con los datos de entrenamiento en lotes de 6000 elementos cada uno \n",
        "  for i in range(0, len(train_images), 6000): \n",
        "\n",
        "      # Obtenemos los lotes de datos para entrenamiento \n",
        "      batch_X = torch.Tensor(train_images[i:i+6000]).view(-1,28*28) # Tensor con los datos de imagenes \n",
        "      batch_y = torch.LongTensor(train_labels[i:i+6000]) # Tensor con las etiquetas correspondientes a las imagenes\n",
        "\n",
        "      # Inicializamos los gradientes del optimizador a 0 antes de comenzar a entrenar el modelo con un lote \n",
        "      optimizer.zero_grad()\n",
        "\n",
        "      # Realizamos la propagación hacia adelante para obtener las salidas del modelo \n",
        "      outputs = model(batch_X)\n",
        "\n",
        "      # Calculamos la pérdida usando el criterio definido anteriormente \n",
        "      loss = criterion(outputs, batch_y)\n",
        "\n",
        "      # Realizamos la propagación hacia atrás para calcular los gradientes y actualizar los parámetros del modelo  \n",
        "      loss.backward()  \n",
        "      optimizer.step()  \n",
        "\n",
        "with torch.no_grad(): # Desactivamos la retropropagación para evaluar el modelo sin entrenarlo más \n",
        "\n",
        "   outputs = model(torch.Tensor(test_images).view(-1,28*28)) # Calculamso las salidas del modelo con los datos de prueba \n",
        "\n",
        "   _, predicted = torch.max(outputs.data, 1) # Obtenemso la clase predicha por el modelo para cada elemento en test data  \n",
        "\n",
        "   correct = (predicted == torch.LongTensor(test_labels)).sum().item() # Calculamso cuantas predicciones fueron correctas  \n",
        "\n",
        "print('\\nTest loss:', loss.item()) # Imprimimso la pérdida en test data después de cada época  \n",
        "print('\\nTest accuracy:', correct/len(test_labels))\n",
        "\n"
      ],
      "metadata": {
        "id": "DQlhKDb76X89",
        "outputId": "df80ae0b-02b3-457c-d9d0-e6b5cbb932eb",
        "colab": {
          "base_uri": "https://localhost:8080/"
        }
      },
      "execution_count": 15,
      "outputs": [
        {
          "output_type": "stream",
          "name": "stdout",
          "text": [
            "\n",
            "Test loss: 1.6641024351119995\n",
            "\n",
            "Test accuracy: 0.7968\n"
          ]
        }
      ]
    },
    {
      "cell_type": "markdown",
      "source": [
        "## Conclusión"
      ],
      "metadata": {
        "id": "6e2DfoRi_L8g"
      }
    },
    {
      "cell_type": "markdown",
      "source": [
        "Me ha resultado muy secillo encontrar información de esta libreria y poder ver que pasos hay que hacer en comparacion con el proceso de con keras."
      ],
      "metadata": {
        "id": "xUb_AZgfGpkU"
      }
    },
    {
      "cell_type": "markdown",
      "source": [
        "En esta practica me he dado cuenta de la cantidad de cosas que se ha de hacer para cualquier cosa a diferencia de hacer el mismo proceso con la librería de Keras."
      ],
      "metadata": {
        "id": "S7za1LOG_Q6z"
      }
    }
  ]
}