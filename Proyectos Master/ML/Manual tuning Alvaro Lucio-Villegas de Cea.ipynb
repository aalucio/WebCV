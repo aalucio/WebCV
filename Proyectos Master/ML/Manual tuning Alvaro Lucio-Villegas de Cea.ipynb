{
 "cells": [
  {
   "attachments": {},
   "cell_type": "markdown",
   "metadata": {},
   "source": [
    "# 📝  Manual tuning (Exercise M3.01)\n",
    "\n",
    "The goal is to write an exhaustive search to find the best parameters\n",
    "combination maximizing the modelo generalization performance.\n",
    "\n",
    "Here we use a small subset of the Adult Census dataset to make the code\n",
    "faster to execute. Once your code works on the small subset, try to\n",
    "change `train_size` to a larger value (e.g. 0.8 for 80% instead of\n",
    "20%)."
   ]
  },
  {
   "cell_type": "code",
   "execution_count": 17,
   "metadata": {},
   "outputs": [],
   "source": [
    "import pandas as pd\n",
    "\n",
    "from sklearn.model_selection import train_test_split\n",
    "\n",
    "adult_census = pd.read_csv(\"../datasets/adult-census.csv\")\n",
    "\n",
    "target_name = \"class\"\n",
    "target = adult_census[target_name]\n",
    "data = adult_census.drop(columns=[target_name, \"education-num\"])\n",
    "\n",
    "data_train, data_test, target_train, target_test = train_test_split(\n",
    "    data, target, train_size=0.2, random_state=42)"
   ]
  },
  {
   "cell_type": "code",
   "execution_count": 18,
   "metadata": {},
   "outputs": [],
   "source": [
    "from sklearn.compose import ColumnTransformer\n",
    "from sklearn.compose import make_column_selector as selector\n",
    "from sklearn.preprocessing import OrdinalEncoder\n",
    "\n",
    "categorical_preprocessor = OrdinalEncoder(handle_unknown=\"use_encoded_value\",\n",
    "                                          unknown_value=-1)\n",
    "preprocessor = ColumnTransformer(\n",
    "    [('cat_preprocessor', categorical_preprocessor,\n",
    "      selector(dtype_include=object))],\n",
    "    remainder='passthrough', sparse_threshold=0)\n",
    "\n",
    "from sklearn.ensemble import HistGradientBoostingClassifier\n",
    "from sklearn.pipeline import Pipeline\n",
    "\n",
    "modelo = Pipeline([\n",
    "    (\"preprocessor\", preprocessor),\n",
    "    (\"classifier\", HistGradientBoostingClassifier(random_state=42))\n",
    "])"
   ]
  },
  {
   "attachments": {},
   "cell_type": "markdown",
   "metadata": {},
   "source": [
    "\n",
    "Use the previously defined modelo (called `modelo`) and using two nested `for`\n",
    "loops, make a search of the best combinations of the `learning_rate` and\n",
    "`max_leaf_nodes` parameters. In this regard, you will need to train and test\n",
    "the modelo by setting the parameters. The evaluation of the modelo should be\n",
    "performed using `cross_val_score` on the training set. We will use the\n",
    "following parameters search:\n",
    "- `learning_rate` for the values 0.01, 0.1, 1 and 10. This parameter controls\n",
    "  the ability of a new tree to correct the error of the previous sequence of\n",
    "  trees\n",
    "- `max_leaf_nodes` for the values 3, 10, 30. This parameter controls the\n",
    "  depth of each tree."
   ]
  },
  {
   "cell_type": "code",
   "execution_count": 21,
   "metadata": {},
   "outputs": [
    {
     "name": "stdout",
     "output_type": "stream",
     "text": [
      "Score basado en learning rate 0.010 y leaf node maximo 3... score: 0.789\n",
      "Encontrar el mejor modeloo en base al score 0.789!\n",
      "\n",
      "Score basado en learning rate 0.010 y leaf node maximo 10... score: 0.813\n",
      "Encontrar el mejor modeloo en base al score 0.813!\n",
      "\n",
      "Score basado en learning rate 0.010 y leaf node maximo 30... score: 0.842\n",
      "Encontrar el mejor modeloo en base al score 0.842!\n",
      "\n",
      "Score basado en learning rate 0.100 y leaf node maximo 3... score: 0.847\n",
      "Encontrar el mejor modeloo en base al score 0.847!\n",
      "\n",
      "Score basado en learning rate 0.100 y leaf node maximo 10... score: 0.859\n",
      "Encontrar el mejor modeloo en base al score 0.859!\n",
      "\n",
      "Score basado en learning rate 0.100 y leaf node maximo 30... score: 0.857\n",
      "Score basado en learning rate 1.000 y leaf node maximo 3... score: 0.855\n",
      "Score basado en learning rate 1.000 y leaf node maximo 10... score: 0.835\n",
      "Score basado en learning rate 1.000 y leaf node maximo 30... score: 0.828\n",
      "Score basado en learning rate 10.000 y leaf node maximo 3... score: 0.288\n",
      "Score basado en learning rate 10.000 y leaf node maximo 10... score: 0.253\n",
      "Score basado en learning rate 10.000 y leaf node maximo 30... score: 0.437\n",
      "La mejor precisión obtenida es :0.859\n",
      "\n",
      "Los mejores parámetros encontrados son:\n",
      " {'learning-rate': 0.1, 'leaf maximo por node': 10}\n"
     ]
    }
   ],
   "source": [
    "# Write your code here.\n",
    "from sklearn.model_selection import cross_val_score\n",
    "\n",
    "learning_rate = [0.01, 0.1, 1, 10]\n",
    "max_leaf_nodes = [3, 10, 30]\n",
    "\n",
    "best_score = 0\n",
    "best_params = {}\n",
    "for lr in learning_rate:\n",
    "    for mln in max_leaf_nodes:\n",
    "        print(f\"Score basado en learning rate {lr:.3f}\"\n",
    "              f\" y leaf node maximo {mln}... \", end=\"\")\n",
    "        modelo.set_params(\n",
    "            classifier__learning_rate=lr,\n",
    "            classifier__max_leaf_nodes=mln\n",
    "        )\n",
    "        scores = cross_val_score(modelo, data_train, target_train, cv=2)\n",
    "        mean_score = scores.mean()\n",
    "        print(f\"score: {mean_score:.3f}\")\n",
    "        if mean_score > best_score:\n",
    "            best_score = mean_score\n",
    "            best_params = {'learning-rate': lr, 'leaf maximo por node': mln}\n",
    "            print(f\"Encontrar el mejor modeloo en base al score {best_score:.3f}!\\n\")\n",
    "\n",
    "print(f\"La mejor precisión obtenida es :{best_score:.3f}\\n\")\n",
    "print(f\"Los mejores parámetros encontrados son:\\n {best_params}\")"
   ]
  },
  {
   "attachments": {},
   "cell_type": "markdown",
   "metadata": {},
   "source": [
    "\n",
    "Now use the test set to score the modelo using the best parameters\n",
    "that we found using cross-validation in the training set."
   ]
  },
  {
   "cell_type": "code",
   "execution_count": 20,
   "metadata": {},
   "outputs": [
    {
     "name": "stdout",
     "output_type": "stream",
     "text": [
      "Puntuación de la prueba después del ajuste de parámetros:0.870\n"
     ]
    }
   ],
   "source": [
    "# Write your code here.\n",
    "best_lr = best_params['learning-rate']\n",
    "best_mln = best_params['leaf maximo por node']\n",
    "\n",
    "modelo.set_params(classifier__learning_rate=best_lr,\n",
    "                 classifier__max_leaf_nodes=best_mln)\n",
    "modelo.fit(data_train, target_train)\n",
    "test_score = modelo.score(data_test, target_test)\n",
    "\n",
    "print(f\"Puntuación de la prueba después del ajuste de parámetros:{test_score:.3f}\")"
   ]
  }
 ],
 "metadata": {
  "jupytext": {
   "encoding": "# -*- coding: utf-8 -*-",
   "main_language": "python"
  },
  "kernelspec": {
   "display_name": ".venv",
   "language": "python",
   "name": "python3"
  },
  "language_info": {
   "codemirror_mode": {
    "name": "ipython",
    "version": 3
   },
   "file_extension": ".py",
   "mimetype": "text/x-python",
   "name": "python",
   "nbconvert_exporter": "python",
   "pygments_lexer": "ipython3",
   "version": "3.10.9"
  },
  "vscode": {
   "interpreter": {
    "hash": "cd89aad94db081ba915fdb80ef0e4fb1f2524973e6b2534bd7e5131b96f892ab"
   }
  }
 },
 "nbformat": 4,
 "nbformat_minor": 5
}
