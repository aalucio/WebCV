{
 "cells": [
  {
   "attachments": {},
   "cell_type": "markdown",
   "metadata": {},
   "source": [
    "# 📝 Exercise M7.01 | Comparar modelo con baseline\n",
    "\n",
    "Alvaro Lucio-Villegas de Cea\n",
    "\n",
    "\n",
    "In this exercise we will define dummy classification baselines and use them\n",
    "as reference to assess the relative predictive performance of a given model\n",
    "of interest.\n",
    "\n",
    "We illustrate those baselines with the help of the Adult Census dataset,\n",
    "using only the numerical features for the sake of simplicity."
   ]
  },
  {
   "cell_type": "code",
   "execution_count": 27,
   "metadata": {},
   "outputs": [],
   "source": [
    "import pandas as pd\n",
    "\n",
    "adult_census = pd.read_csv(\"../datasets/adult-census-numeric-all.csv\")\n",
    "data, target = adult_census.drop(columns=\"class\"), adult_census[\"class\"]"
   ]
  },
  {
   "cell_type": "markdown",
   "metadata": {},
   "source": [
    "First, define a `ShuffleSplit` cross-validation strategy taking half of the\n",
    "samples as a testing at each round. Let us use 10 cross-validation rounds."
   ]
  },
  {
   "cell_type": "code",
   "execution_count": 28,
   "metadata": {},
   "outputs": [],
   "source": [
    "# Write your code here.\n",
    "from sklearn.model_selection import ShuffleSplit\n",
    "\n",
    "cv = ShuffleSplit(n_splits=10, test_size=0.5, random_state=0)"
   ]
  },
  {
   "cell_type": "markdown",
   "metadata": {},
   "source": [
    "Next, create a machine learning pipeline composed of a transformer to\n",
    "standardize the data followed by a logistic regression classifier."
   ]
  },
  {
   "cell_type": "code",
   "execution_count": 29,
   "metadata": {},
   "outputs": [],
   "source": [
    "# Write your code here.\n",
    "from sklearn.pipeline import make_pipeline\n",
    "from sklearn.preprocessing import StandardScaler\n",
    "from sklearn.linear_model import LogisticRegression\n",
    "\n",
    "classifier = make_pipeline(StandardScaler(), LogisticRegression())"
   ]
  },
  {
   "cell_type": "markdown",
   "metadata": {},
   "source": [
    "Compute the cross-validation (test) scores for the classifier on this\n",
    "dataset. Store the results pandas Series as we did in the previous notebook."
   ]
  },
  {
   "cell_type": "code",
   "execution_count": 30,
   "metadata": {},
   "outputs": [
    {
     "data": {
      "text/plain": [
       "0    0.815937\n",
       "1    0.813849\n",
       "2    0.815036\n",
       "3    0.815569\n",
       "4    0.810982\n",
       "5    0.814709\n",
       "6    0.813112\n",
       "7    0.810327\n",
       "8    0.812416\n",
       "9    0.816388\n",
       "Name: Logistic Regression, dtype: float64"
      ]
     },
     "execution_count": 30,
     "metadata": {},
     "output_type": "execute_result"
    }
   ],
   "source": [
    "# Write your code here.\n",
    "from sklearn.model_selection import cross_validate\n",
    "\n",
    "cv_results_logistic_regression = cross_validate(classifier, data, target, cv=cv, n_jobs=2)\n",
    "\n",
    "test_score_logistic_regression = pd.Series(cv_results_logistic_regression[\"test_score\"], name=\"Logistic Regression\")\n",
    "test_score_logistic_regression"
   ]
  },
  {
   "cell_type": "markdown",
   "metadata": {},
   "source": [
    "Now, compute the cross-validation scores of a dummy classifier that\n",
    "constantly predicts the most frequent class observed the training set. Please\n",
    "refer to the online documentation for the [sklearn.dummy.DummyClassifier\n",
    "](https://scikit-learn.org/stable/modules/generated/sklearn.dummy.DummyClassifier.html)\n",
    "class.\n",
    "\n",
    "Store the results in a second pandas Series."
   ]
  },
  {
   "cell_type": "code",
   "execution_count": 31,
   "metadata": {},
   "outputs": [
    {
     "data": {
      "text/plain": [
       "0    0.760329\n",
       "1    0.756808\n",
       "2    0.759142\n",
       "3    0.760739\n",
       "4    0.761681\n",
       "5    0.761885\n",
       "6    0.757463\n",
       "7    0.757176\n",
       "8    0.761885\n",
       "9    0.763114\n",
       "Name: Most frequent class predictor, dtype: float64"
      ]
     },
     "execution_count": 31,
     "metadata": {},
     "output_type": "execute_result"
    }
   ],
   "source": [
    "# Write your code here.\n",
    "from sklearn.dummy import DummyClassifier\n",
    "\n",
    "most_frequent_classifier = DummyClassifier(strategy=\"most_frequent\")\n",
    "cv_results_most_frequent = cross_validate(most_frequent_classifier, data, target, cv=cv, n_jobs=2)\n",
    "test_score_most_frequent = pd.Series(cv_results_most_frequent[\"test_score\"], name=\"Most frequent class predictor\") \n",
    "\n",
    "test_score_most_frequent"
   ]
  },
  {
   "cell_type": "markdown",
   "metadata": {},
   "source": [
    "Now that we collected the results from the baseline and the model,\n",
    "concatenate the test scores as columns a single pandas dataframe."
   ]
  },
  {
   "cell_type": "code",
   "execution_count": 32,
   "metadata": {},
   "outputs": [
    {
     "data": {
      "text/html": [
       "<div>\n",
       "<style scoped>\n",
       "    .dataframe tbody tr th:only-of-type {\n",
       "        vertical-align: middle;\n",
       "    }\n",
       "\n",
       "    .dataframe tbody tr th {\n",
       "        vertical-align: top;\n",
       "    }\n",
       "\n",
       "    .dataframe thead th {\n",
       "        text-align: right;\n",
       "    }\n",
       "</style>\n",
       "<table border=\"1\" class=\"dataframe\">\n",
       "  <thead>\n",
       "    <tr style=\"text-align: right;\">\n",
       "      <th></th>\n",
       "      <th>Logistic Regression</th>\n",
       "      <th>Most frequent class predictor</th>\n",
       "    </tr>\n",
       "  </thead>\n",
       "  <tbody>\n",
       "    <tr>\n",
       "      <th>0</th>\n",
       "      <td>0.815937</td>\n",
       "      <td>0.760329</td>\n",
       "    </tr>\n",
       "    <tr>\n",
       "      <th>1</th>\n",
       "      <td>0.813849</td>\n",
       "      <td>0.756808</td>\n",
       "    </tr>\n",
       "    <tr>\n",
       "      <th>2</th>\n",
       "      <td>0.815036</td>\n",
       "      <td>0.759142</td>\n",
       "    </tr>\n",
       "    <tr>\n",
       "      <th>3</th>\n",
       "      <td>0.815569</td>\n",
       "      <td>0.760739</td>\n",
       "    </tr>\n",
       "    <tr>\n",
       "      <th>4</th>\n",
       "      <td>0.810982</td>\n",
       "      <td>0.761681</td>\n",
       "    </tr>\n",
       "    <tr>\n",
       "      <th>5</th>\n",
       "      <td>0.814709</td>\n",
       "      <td>0.761885</td>\n",
       "    </tr>\n",
       "    <tr>\n",
       "      <th>6</th>\n",
       "      <td>0.813112</td>\n",
       "      <td>0.757463</td>\n",
       "    </tr>\n",
       "    <tr>\n",
       "      <th>7</th>\n",
       "      <td>0.810327</td>\n",
       "      <td>0.757176</td>\n",
       "    </tr>\n",
       "    <tr>\n",
       "      <th>8</th>\n",
       "      <td>0.812416</td>\n",
       "      <td>0.761885</td>\n",
       "    </tr>\n",
       "    <tr>\n",
       "      <th>9</th>\n",
       "      <td>0.816388</td>\n",
       "      <td>0.763114</td>\n",
       "    </tr>\n",
       "  </tbody>\n",
       "</table>\n",
       "</div>"
      ],
      "text/plain": [
       "   Logistic Regression  Most frequent class predictor\n",
       "0             0.815937                       0.760329\n",
       "1             0.813849                       0.756808\n",
       "2             0.815036                       0.759142\n",
       "3             0.815569                       0.760739\n",
       "4             0.810982                       0.761681\n",
       "5             0.814709                       0.761885\n",
       "6             0.813112                       0.757463\n",
       "7             0.810327                       0.757176\n",
       "8             0.812416                       0.761885\n",
       "9             0.816388                       0.763114"
      ]
     },
     "execution_count": 32,
     "metadata": {},
     "output_type": "execute_result"
    }
   ],
   "source": [
    "# Write your code here.\n",
    "all_test_scores = pd.concat([test_score_logistic_regression, test_score_most_frequent],axis='columns')\n",
    "\n",
    "all_test_scores"
   ]
  },
  {
   "cell_type": "markdown",
   "metadata": {},
   "source": [
    "\n",
    "Next, plot the histogram of the cross-validation test scores for both\n",
    "models with the help of [pandas built-in plotting\n",
    "function](https://pandas.pydata.org/pandas-docs/stable/user_guide/visualization.html#histograms).\n",
    "\n",
    "What conclusions do you draw from the results?"
   ]
  },
  {
   "cell_type": "code",
   "execution_count": 33,
   "metadata": {},
   "outputs": [
    {
     "data": {
      "image/png": "[encoded data removed]",
      "text/plain": [
       "<Figure size 432x288 with 1 Axes>"
      ]
     },
     "metadata": {
      "needs_background": "light"
     },
     "output_type": "display_data"
    }
   ],
   "source": [
    "# Write your code here.\n",
    "import numpy as np\n",
    "import matplotlib.pyplot as plt\n",
    "\n",
    "bins = np.linspace(start=0.5, stop=1.0, num=100)\n",
    "all_test_scores.plot.hist(bins=bins, edgecolor=\"black\")\n",
    "plt.legend(bbox_to_anchor=(1.05, 0.8), loc=\"upper left\")\n",
    "plt.xlabel(\"Accuracy (%)\")\n",
    "_ = plt.title(\"Dis.Score CV\")"
   ]
  },
  {
   "cell_type": "markdown",
   "metadata": {},
   "source": [
    "Change the `strategy` of the dummy classifier to `\"stratified\"`, compute the\n",
    "results. Similarly compute scores for `strategy=\"uniform\"` and then the  plot\n",
    "the distribution together with the other results.\n",
    "\n",
    "Are those new baselines better than the previous one? Why is this the case?\n",
    "\n",
    "Please refer to the scikit-learn documentation on\n",
    "[sklearn.dummy.DummyClassifier](\n",
    "https://scikit-learn.org/stable/modules/generated/sklearn.dummy.DummyClassifier.html)\n",
    "to find out about the meaning of the `\"stratified\"` and `\"uniform\"`\n",
    "strategies."
   ]
  },
  {
   "cell_type": "code",
   "execution_count": 34,
   "metadata": {},
   "outputs": [],
   "source": [
    "\n",
    "#Stratified\n",
    "\n",
    "stratified_dummy = DummyClassifier(strategy=\"stratified\")\n",
    "\n",
    "cv_results_stratified = cross_validate(stratified_dummy, data, target, cv=cv, n_jobs=4)\n",
    "\n",
    "test_score_dummy_stratified = pd.Series(cv_results_stratified[\"test_score\"], name=\"Stratified class predictor\")"
   ]
  },
  {
   "cell_type": "code",
   "execution_count": 35,
   "id": "53ce49cc",
   "metadata": {},
   "outputs": [],
   "source": [
    "#Uniform\n",
    "uniform_dummy = DummyClassifier(strategy=\"uniform\")\n",
    "\n",
    "cv_results_uniform = cross_validate(uniform_dummy, data, target, cv=cv, n_jobs=4)\n",
    "\n",
    "test_score_dummy_uniform = pd.Series(cv_results_uniform[\"test_score\"], name=\"Uniform class predictor\")"
   ]
  },
  {
   "cell_type": "code",
   "execution_count": 36,
   "id": "8811217c",
   "metadata": {},
   "outputs": [],
   "source": [
    "all_test_scores = pd.concat(\n",
    "    [\n",
    "        test_score_logistic_regression,\n",
    "        test_score_most_frequent,\n",
    "        test_score_dummy_stratified,\n",
    "        test_score_dummy_uniform,\n",
    "    ],axis='columns'\n",
    ")"
   ]
  },
  {
   "cell_type": "code",
   "execution_count": 37,
   "id": "e3a01d8c",
   "metadata": {},
   "outputs": [
    {
     "data": {
      "image/png": "[encoded data removed]",
      "text/plain": [
       "<Figure size 432x288 with 1 Axes>"
      ]
     },
     "metadata": {
      "needs_background": "light"
     },
     "output_type": "display_data"
    }
   ],
   "source": [
    "all_test_scores.plot.hist(bins=bins, edgecolor=\"black\")\n",
    "plt.legend(bbox_to_anchor=(1.05, 0.8), loc=\"upper left\")\n",
    "plt.xlabel(\"Accuracy (%)\")\n",
    "_ = plt.title(\"Dis.Score Test\")"
   ]
  }
 ],
 "metadata": {
  "jupytext": {
   "encoding": "# -*- coding: utf-8 -*-",
   "main_language": "python"
  },
  "kernelspec": {
   "display_name": "Python 3",
   "name": "python3"
  },
  "language_info": {
   "codemirror_mode": {
    "name": "ipython",
    "version": 3
   },
   "file_extension": ".py",
   "mimetype": "text/x-python",
   "name": "python",
   "nbconvert_exporter": "python",
   "pygments_lexer": "ipython3",
   "version": "3.9.12"
  }
 },
 "nbformat": 4,
 "nbformat_minor": 5
}
